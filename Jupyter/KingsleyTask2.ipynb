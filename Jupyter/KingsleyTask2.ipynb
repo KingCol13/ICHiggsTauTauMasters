{
 "cells": [
  {
   "cell_type": "markdown",
   "metadata": {},
   "source": [
    "# Task 2\n",
    "Setup a NN to regress aco_angle_1 - this will give us some ideas about how we need to setup the NN in order for it to make use of the low-level information and then we can use a similar architecture for our final NN setup. After reading around online a bit one possible reason that the NN is not working very well is because the CP observables depend on what rest frame you determine them in and possibly the NN is not well setup to handle Lorentz boosts into different frames. I found a paper which suggest how to setup the first layers of a NN in order to perform such Lorentz boosts (https://arxiv.org/pdf/1812.09722.pdf) - this might be a good place to start, but of course if you have other ideas you are free to follow them"
   ]
  },
  {
   "cell_type": "code",
   "execution_count": 1,
   "metadata": {},
   "outputs": [
    {
     "name": "stdout",
     "output_type": "stream",
     "text": [
      "Requirement already satisfied: lbn in /eos/home-k/kcollie/.local/lib/python3.7/site-packages (1.2.1)\n",
      "Requirement already satisfied: numpy in /cvmfs/sft.cern.ch/lcg/views/LCG_97apython3/x86_64-centos7-gcc8-opt/lib/python3.7/site-packages (from lbn) (1.16.4)\n",
      "Requirement already satisfied: tensorflow in /cvmfs/sft.cern.ch/lcg/views/LCG_97apython3/x86_64-centos7-gcc8-opt/lib/python3.7/site-packages (from lbn) (1.14.0)\n",
      "Requirement already satisfied: gast>=0.2.0 in /cvmfs/sft.cern.ch/lcg/views/LCG_97apython3/x86_64-centos7-gcc8-opt/lib/python3.7/site-packages (from tensorflow->lbn) (0.2.2)\n",
      "Requirement already satisfied: six>=1.10.0 in /cvmfs/sft.cern.ch/lcg/views/LCG_97apython3/x86_64-centos7-gcc8-opt/lib/python3.7/site-packages (from tensorflow->lbn) (1.12.0)\n",
      "Requirement already satisfied: grpcio>=1.8.6 in /cvmfs/sft.cern.ch/lcg/views/LCG_97apython3/x86_64-centos7-gcc8-opt/lib/python3.7/site-packages (from tensorflow->lbn) (1.21.1)\n",
      "Requirement already satisfied: tensorflow-estimator<1.15.0rc0,>=1.14.0rc0 in /cvmfs/sft.cern.ch/lcg/views/LCG_97apython3/x86_64-centos7-gcc8-opt/lib/python3.7/site-packages (from tensorflow->lbn) (1.14.0)\n",
      "Requirement already satisfied: wheel>=0.26 in /cvmfs/sft.cern.ch/lcg/views/LCG_97apython3/x86_64-centos7-gcc8-opt/lib/python3.7/site-packages (from tensorflow->lbn) (0.33.4)\n",
      "Requirement already satisfied: keras-applications>=1.0.6 in /cvmfs/sft.cern.ch/lcg/views/LCG_97apython3/x86_64-centos7-gcc8-opt/lib/python3.7/site-packages (from tensorflow->lbn) (1.0.8)\n",
      "Requirement already satisfied: astor>=0.6.0 in /cvmfs/sft.cern.ch/lcg/views/LCG_97apython3/x86_64-centos7-gcc8-opt/lib/python3.7/site-packages (from tensorflow->lbn) (0.8.1)\n",
      "Requirement already satisfied: google-pasta>=0.1.6 in /eos/home-k/kcollie/.local/lib/python3.7/site-packages (from tensorflow->lbn) (0.2.0)\n",
      "Requirement already satisfied: termcolor>=1.1.0 in /cvmfs/sft.cern.ch/lcg/views/LCG_97apython3/x86_64-centos7-gcc8-opt/lib/python3.7/site-packages (from tensorflow->lbn) (1.1.0)\n",
      "Requirement already satisfied: protobuf>=3.6.1 in /cvmfs/sft.cern.ch/lcg/views/LCG_97apython3/x86_64-centos7-gcc8-opt/lib/python3.7/site-packages (from tensorflow->lbn) (3.6.1)\n",
      "Requirement already satisfied: keras-preprocessing>=1.0.5 in /cvmfs/sft.cern.ch/lcg/views/LCG_97apython3/x86_64-centos7-gcc8-opt/lib/python3.7/site-packages (from tensorflow->lbn) (1.1.0)\n",
      "Requirement already satisfied: absl-py>=0.7.0 in /cvmfs/sft.cern.ch/lcg/views/LCG_97apython3/x86_64-centos7-gcc8-opt/lib/python3.7/site-packages (from tensorflow->lbn) (0.7.1)\n",
      "Requirement already satisfied: wrapt>=1.11.1 in /cvmfs/sft.cern.ch/lcg/views/LCG_97apython3/x86_64-centos7-gcc8-opt/lib/python3.7/site-packages (from tensorflow->lbn) (1.11.1)\n",
      "Requirement already satisfied: tensorboard<1.15.0,>=1.14.0 in /cvmfs/sft.cern.ch/lcg/views/LCG_97apython3/x86_64-centos7-gcc8-opt/lib/python3.7/site-packages (from tensorflow->lbn) (1.14.0)\n",
      "Requirement already satisfied: h5py in /cvmfs/sft.cern.ch/lcg/views/LCG_97apython3/x86_64-centos7-gcc8-opt/lib/python3.7/site-packages (from keras-applications>=1.0.6->tensorflow->lbn) (2.9.0)\n",
      "Requirement already satisfied: setuptools in /cvmfs/sft.cern.ch/lcg/views/LCG_97apython3/x86_64-centos7-gcc8-opt/lib/python3.7/site-packages (from protobuf>=3.6.1->tensorflow->lbn) (44.1.0)\n",
      "Requirement already satisfied: markdown>=2.6.8 in /cvmfs/sft.cern.ch/lcg/views/LCG_97apython3/x86_64-centos7-gcc8-opt/lib/python3.7/site-packages (from tensorboard<1.15.0,>=1.14.0->tensorflow->lbn) (3.1.1)\n",
      "Requirement already satisfied: werkzeug>=0.11.15 in /cvmfs/sft.cern.ch/lcg/views/LCG_97apython3/x86_64-centos7-gcc8-opt/lib/python3.7/site-packages (from tensorboard<1.15.0,>=1.14.0->tensorflow->lbn) (0.15.4)\n",
      "Requirement already satisfied: pylorentz in /eos/home-k/kcollie/.local/lib/python3.7/site-packages (0.3.3)\n",
      "Requirement already satisfied: numpy in /cvmfs/sft.cern.ch/lcg/views/LCG_97apython3/x86_64-centos7-gcc8-opt/lib/python3.7/site-packages (from pylorentz) (1.16.4)\n"
     ]
    }
   ],
   "source": [
    "!pip install --user lbn\n",
    "!pip install --user pylorentz"
   ]
  },
  {
   "cell_type": "code",
   "execution_count": 1,
   "metadata": {},
   "outputs": [],
   "source": [
    "import uproot \n",
    "import numpy as np\n",
    "import pandas as pd\n",
    "import tensorflow as tf\n",
    "import matplotlib.pyplot as plt\n",
    "\n",
    "from pylorentz import Momentum4\n",
    "from pylorentz import Position4\n",
    "from lbn import LBN, LBNLayer"
   ]
  },
  {
   "cell_type": "code",
   "execution_count": 2,
   "metadata": {},
   "outputs": [
    {
     "name": "stdout",
     "output_type": "stream",
     "text": [
      "2.3.0\n"
     ]
    }
   ],
   "source": [
    "print(tf.__version__)"
   ]
  },
  {
   "cell_type": "code",
   "execution_count": 3,
   "metadata": {},
   "outputs": [],
   "source": [
    "# stop tensorflow trying to overfill GPU memory\n",
    "gpus = tf.config.experimental.list_physical_devices('GPU')\n",
    "if gpus:\n",
    "  try:\n",
    "    for gpu in gpus:\n",
    "      tf.config.experimental.set_memory_growth(gpu, True)\n",
    "  except RuntimeError as e:\n",
    "    print(e)"
   ]
  },
  {
   "cell_type": "code",
   "execution_count": 5,
   "metadata": {},
   "outputs": [],
   "source": [
    "# loading the tree\n",
    "tree = uproot.open(\"/eos/user/d/dwinterb/SWAN_projects/Masters_CP/MVAFILE_GluGluHToTauTauUncorrelatedDecay_Filtered_tt_2018.root\")[\"ntuple\"]\n",
    "#tree2 = uproot.open(\"/eos/user/d/dwinterb/SWAN_projects/Masters_CP/MVAFILE_VBFHToTauTauUncorrelatedDecay_Filtered_tt_2018.root\")[\"ntuple\"]\n",
    "\n",
    "\n",
    "#These are new trees, added by Danny on 13/10\n",
    "#tree3=uproot.open(\"/eos/user/d/dwinterb/SWAN_projects/Masters_CP/MVAFILE_AllHiggs_tt.root\")[\"ntuple\"]  \n",
    "#note, instead of the first t we can have e,m, different decay modes"
   ]
  },
  {
   "cell_type": "code",
   "execution_count": 6,
   "metadata": {},
   "outputs": [],
   "source": [
    "# define what variables are to be read into the dataframe\n",
    "\n",
    "momenta_features = [ \"pi_E_1\", \"pi_px_1\", \"pi_py_1\", \"pi_pz_1\", #leading charged pi 4-momentum\n",
    "              \"pi_E_2\", \"pi_px_2\", \"pi_py_2\", \"pi_pz_2\", #subleading charged pi 4-momentum\n",
    "              \"pi0_E_1\",\"pi0_px_1\",\"pi0_py_1\",\"pi0_pz_1\", #leading neutral pi 4-momentum\n",
    "              \"pi0_E_2\",\"pi0_px_2\",\"pi0_py_2\",\"pi0_pz_2\"] #subleading neutral pi 4-momentum\n",
    "\n",
    "other_features = [ \"ip_x_1\", \"ip_y_1\", \"ip_z_1\",        #leading impact parameter\n",
    "                   \"ip_x_2\", \"ip_y_2\", \"ip_z_2\",        #subleading impact parameter\n",
    "                   \"y_1_1\", \"y_1_2\"]    # ratios of energies\n",
    "\n",
    "target = [    \"aco_angle_1\"]  #acoplanarity angle\n",
    "    \n",
    "selectors = [ \"tau_decay_mode_1\",\"tau_decay_mode_2\",\n",
    "             \"mva_dm_1\",\"mva_dm_2\"\n",
    "             ]\n",
    "\n",
    "df = tree.pandas.df(momenta_features+other_features+target+selectors)\n",
    "\n",
    "df = df[\n",
    "      (df[\"tau_decay_mode_1\"] == 1) \n",
    "    & (df[\"tau_decay_mode_2\"] == 1) \n",
    "    & (df[\"mva_dm_1\"] == 1) \n",
    "    & (df[\"mva_dm_2\"] == 1)\n",
    "]\n",
    "#df2 = tree2.pandas.df(variables)\n",
    "\n",
    "#tree3 should be more comprehensive and complete as it includes all decay types and more\n",
    "#info for tau->a1 decays. Again we save the same variables for now\n",
    "\n",
    "#df3 = tree3.pandas.df(variables)\n",
    "\n",
    "#combine VBF and ggH events\n",
    "\n",
    "#df = pd.concat([df,df2], ignore_index=True)"
   ]
  },
  {
   "cell_type": "code",
   "execution_count": 7,
   "metadata": {},
   "outputs": [
    {
     "data": {
      "text/html": [
       "<div>\n",
       "<style scoped>\n",
       "    .dataframe tbody tr th:only-of-type {\n",
       "        vertical-align: middle;\n",
       "    }\n",
       "\n",
       "    .dataframe tbody tr th {\n",
       "        vertical-align: top;\n",
       "    }\n",
       "\n",
       "    .dataframe thead th {\n",
       "        text-align: right;\n",
       "    }\n",
       "</style>\n",
       "<table border=\"1\" class=\"dataframe\">\n",
       "  <thead>\n",
       "    <tr style=\"text-align: right;\">\n",
       "      <th></th>\n",
       "      <th>pi_E_1</th>\n",
       "      <th>pi_px_1</th>\n",
       "      <th>pi_py_1</th>\n",
       "      <th>pi_pz_1</th>\n",
       "      <th>pi_E_2</th>\n",
       "      <th>pi_px_2</th>\n",
       "      <th>pi_py_2</th>\n",
       "      <th>pi_pz_2</th>\n",
       "      <th>pi0_E_1</th>\n",
       "      <th>pi0_px_1</th>\n",
       "      <th>...</th>\n",
       "      <th>ip_x_2</th>\n",
       "      <th>ip_y_2</th>\n",
       "      <th>ip_z_2</th>\n",
       "      <th>y_1_1</th>\n",
       "      <th>y_1_2</th>\n",
       "      <th>aco_angle_1</th>\n",
       "      <th>tau_decay_mode_1</th>\n",
       "      <th>tau_decay_mode_2</th>\n",
       "      <th>mva_dm_1</th>\n",
       "      <th>mva_dm_2</th>\n",
       "    </tr>\n",
       "    <tr>\n",
       "      <th>entry</th>\n",
       "      <th></th>\n",
       "      <th></th>\n",
       "      <th></th>\n",
       "      <th></th>\n",
       "      <th></th>\n",
       "      <th></th>\n",
       "      <th></th>\n",
       "      <th></th>\n",
       "      <th></th>\n",
       "      <th></th>\n",
       "      <th></th>\n",
       "      <th></th>\n",
       "      <th></th>\n",
       "      <th></th>\n",
       "      <th></th>\n",
       "      <th></th>\n",
       "      <th></th>\n",
       "      <th></th>\n",
       "      <th></th>\n",
       "      <th></th>\n",
       "      <th></th>\n",
       "    </tr>\n",
       "  </thead>\n",
       "  <tbody>\n",
       "    <tr>\n",
       "      <th>4</th>\n",
       "      <td>26.184192</td>\n",
       "      <td>5.249920</td>\n",
       "      <td>-12.394966</td>\n",
       "      <td>-22.458754</td>\n",
       "      <td>52.305565</td>\n",
       "      <td>-10.016787</td>\n",
       "      <td>40.401790</td>\n",
       "      <td>-31.673523</td>\n",
       "      <td>95.932667</td>\n",
       "      <td>20.387663</td>\n",
       "      <td>...</td>\n",
       "      <td>-0.000894</td>\n",
       "      <td>0.000668</td>\n",
       "      <td>0.000903</td>\n",
       "      <td>0.571162</td>\n",
       "      <td>-0.773942</td>\n",
       "      <td>5.927902</td>\n",
       "      <td>1</td>\n",
       "      <td>1</td>\n",
       "      <td>1</td>\n",
       "      <td>1</td>\n",
       "    </tr>\n",
       "    <tr>\n",
       "      <th>15</th>\n",
       "      <td>3.912128</td>\n",
       "      <td>3.186334</td>\n",
       "      <td>0.086207</td>\n",
       "      <td>-2.263873</td>\n",
       "      <td>32.211659</td>\n",
       "      <td>7.872188</td>\n",
       "      <td>29.660602</td>\n",
       "      <td>9.790244</td>\n",
       "      <td>64.282235</td>\n",
       "      <td>52.942869</td>\n",
       "      <td>...</td>\n",
       "      <td>-0.002586</td>\n",
       "      <td>0.001020</td>\n",
       "      <td>-0.000611</td>\n",
       "      <td>0.885265</td>\n",
       "      <td>-0.339467</td>\n",
       "      <td>5.015406</td>\n",
       "      <td>1</td>\n",
       "      <td>1</td>\n",
       "      <td>1</td>\n",
       "      <td>1</td>\n",
       "    </tr>\n",
       "    <tr>\n",
       "      <th>26</th>\n",
       "      <td>20.389432</td>\n",
       "      <td>12.846308</td>\n",
       "      <td>15.714182</td>\n",
       "      <td>1.935544</td>\n",
       "      <td>5.313678</td>\n",
       "      <td>-4.517069</td>\n",
       "      <td>-2.251007</td>\n",
       "      <td>1.656731</td>\n",
       "      <td>35.041365</td>\n",
       "      <td>21.823335</td>\n",
       "      <td>...</td>\n",
       "      <td>0.004199</td>\n",
       "      <td>0.003093</td>\n",
       "      <td>0.014879</td>\n",
       "      <td>0.264328</td>\n",
       "      <td>0.760691</td>\n",
       "      <td>3.019532</td>\n",
       "      <td>1</td>\n",
       "      <td>1</td>\n",
       "      <td>1</td>\n",
       "      <td>1</td>\n",
       "    </tr>\n",
       "    <tr>\n",
       "      <th>39</th>\n",
       "      <td>4.532329</td>\n",
       "      <td>-1.060811</td>\n",
       "      <td>2.501133</td>\n",
       "      <td>-3.625128</td>\n",
       "      <td>11.348225</td>\n",
       "      <td>-2.284085</td>\n",
       "      <td>-6.326895</td>\n",
       "      <td>-9.138714</td>\n",
       "      <td>102.977036</td>\n",
       "      <td>-25.022726</td>\n",
       "      <td>...</td>\n",
       "      <td>0.009565</td>\n",
       "      <td>-0.000590</td>\n",
       "      <td>-0.001876</td>\n",
       "      <td>0.915685</td>\n",
       "      <td>0.772376</td>\n",
       "      <td>2.650678</td>\n",
       "      <td>1</td>\n",
       "      <td>1</td>\n",
       "      <td>1</td>\n",
       "      <td>1</td>\n",
       "    </tr>\n",
       "    <tr>\n",
       "      <th>55</th>\n",
       "      <td>77.929050</td>\n",
       "      <td>28.100279</td>\n",
       "      <td>42.522791</td>\n",
       "      <td>58.950012</td>\n",
       "      <td>72.891011</td>\n",
       "      <td>8.689332</td>\n",
       "      <td>15.745896</td>\n",
       "      <td>70.637400</td>\n",
       "      <td>68.260095</td>\n",
       "      <td>25.125369</td>\n",
       "      <td>...</td>\n",
       "      <td>-0.020295</td>\n",
       "      <td>0.027176</td>\n",
       "      <td>-0.004810</td>\n",
       "      <td>-0.066140</td>\n",
       "      <td>0.534360</td>\n",
       "      <td>3.057700</td>\n",
       "      <td>1</td>\n",
       "      <td>1</td>\n",
       "      <td>1</td>\n",
       "      <td>1</td>\n",
       "    </tr>\n",
       "  </tbody>\n",
       "</table>\n",
       "<p>5 rows × 29 columns</p>\n",
       "</div>"
      ],
      "text/plain": [
       "          pi_E_1    pi_px_1    pi_py_1    pi_pz_1     pi_E_2    pi_px_2  \\\n",
       "entry                                                                     \n",
       "4      26.184192   5.249920 -12.394966 -22.458754  52.305565 -10.016787   \n",
       "15      3.912128   3.186334   0.086207  -2.263873  32.211659   7.872188   \n",
       "26     20.389432  12.846308  15.714182   1.935544   5.313678  -4.517069   \n",
       "39      4.532329  -1.060811   2.501133  -3.625128  11.348225  -2.284085   \n",
       "55     77.929050  28.100279  42.522791  58.950012  72.891011   8.689332   \n",
       "\n",
       "         pi_py_2    pi_pz_2     pi0_E_1   pi0_px_1  ...    ip_x_2    ip_y_2  \\\n",
       "entry                                               ...                       \n",
       "4      40.401790 -31.673523   95.932667  20.387663  ... -0.000894  0.000668   \n",
       "15     29.660602   9.790244   64.282235  52.942869  ... -0.002586  0.001020   \n",
       "26     -2.251007   1.656731   35.041365  21.823335  ...  0.004199  0.003093   \n",
       "39     -6.326895  -9.138714  102.977036 -25.022726  ...  0.009565 -0.000590   \n",
       "55     15.745896  70.637400   68.260095  25.125369  ... -0.020295  0.027176   \n",
       "\n",
       "         ip_z_2     y_1_1     y_1_2  aco_angle_1  tau_decay_mode_1  \\\n",
       "entry                                                                \n",
       "4      0.000903  0.571162 -0.773942     5.927902                 1   \n",
       "15    -0.000611  0.885265 -0.339467     5.015406                 1   \n",
       "26     0.014879  0.264328  0.760691     3.019532                 1   \n",
       "39    -0.001876  0.915685  0.772376     2.650678                 1   \n",
       "55    -0.004810 -0.066140  0.534360     3.057700                 1   \n",
       "\n",
       "       tau_decay_mode_2  mva_dm_1  mva_dm_2  \n",
       "entry                                        \n",
       "4                     1         1         1  \n",
       "15                    1         1         1  \n",
       "26                    1         1         1  \n",
       "39                    1         1         1  \n",
       "55                    1         1         1  \n",
       "\n",
       "[5 rows x 29 columns]"
      ]
     },
     "execution_count": 7,
     "metadata": {},
     "output_type": "execute_result"
    }
   ],
   "source": [
    "df.head()"
   ]
  },
  {
   "cell_type": "code",
   "execution_count": 8,
   "metadata": {},
   "outputs": [],
   "source": [
    "# Create our 4-vectors in the lab frame\n",
    "pi_1 = Momentum4(df[\"pi_E_1\"], df[\"pi_px_1\"], df[\"pi_py_1\"], df[\"pi_pz_1\"])\n",
    "pi_2 = Momentum4(df[\"pi_E_2\"], df[\"pi_px_2\"], df[\"pi_py_2\"], df[\"pi_pz_2\"])\n",
    "\n",
    "#TODO: maybe remove these and uncomment above:\n",
    "IP1 = Momentum4(df[\"pi0_E_1\"], df[\"pi0_px_1\"], df[\"pi0_py_1\"], df[\"pi0_pz_1\"])\n",
    "IP2 = Momentum4(df[\"pi0_E_2\"], df[\"pi0_px_2\"], df[\"pi0_py_2\"], df[\"pi0_pz_2\"])\n",
    "\n",
    "\n",
    "# Create 4-vectors in the ZMF\n",
    "pi_T4M = pi_1 + pi_2\n",
    "\n",
    "pi1_ZMF = pi_1.boost_particle(-pi_T4M)\n",
    "pi2_ZMF = pi_2.boost_particle(-pi_T4M)\n",
    "\n",
    "IP1_ZMF = IP1.boost_particle(-pi_T4M)\n",
    "IP2_ZMF = IP2.boost_particle(-pi_T4M)\n",
    "\n",
    "# Find the transverse components\n",
    "IP1_trans = np.cross(IP1_ZMF[1:,:].transpose(), pi1_ZMF[1:, :].transpose())\n",
    "IP2_trans = np.cross(IP2_ZMF[1:,:].transpose(), pi2_ZMF[1:, :].transpose())\n",
    "\n",
    "\n",
    "# Normalise the vectors\n",
    "IP1_trans = IP1_trans/np.linalg.norm(IP1_trans, ord=2, axis=1, keepdims=True)\n",
    "IP2_trans = IP2_trans/np.linalg.norm(IP2_trans, ord=2, axis=1, keepdims=True)\n",
    "\n",
    "\n",
    "\n",
    "#Calculate Phi_ZMF using dot product and arccos\n",
    "dot = np.sum(IP1_trans*IP2_trans, axis=1)\n",
    "Phi_ZMF = np.arccos(dot)\n",
    "\n",
    "# Calculate O\n",
    "x = np.cross(IP1_trans, IP2_trans).transpose()*np.array(pi2_ZMF[1:, :])\n",
    "big_O = np.sum(x, axis=0)\n",
    "# Shift Phi based on O's sign\n",
    "Phi_Shift1=np.where(big_O<0, Phi_ZMF, 2*np.pi-Phi_ZMF)\n",
    "\n",
    "# Shift phi based on energy ratios\n",
    "y_T = np.array(df['y_1_1']*df['y_1_2'])\n",
    "Phi_Shift2=np.where(y_T<0, Phi_Shift1, np.where(Phi_Shift1<np.pi, Phi_Shift1+np.pi, Phi_Shift1-np.pi))"
   ]
  },
  {
   "cell_type": "code",
   "execution_count": 25,
   "metadata": {},
   "outputs": [],
   "source": [
    "# Create x and y tensors\n",
    "#TODO: remove target\n",
    "x = tf.convert_to_tensor(df[momenta_features].values, dtype=\"float32\")\n",
    "x = tf.reshape(x, (x.shape[0], 4, 4))\n",
    "\n",
    "# Reshape for LBN\n",
    "#x = tf.reshape(x, (x.shape[0], 4, 4))\n",
    "#x = x.reshape(x.shape[0], 4, 4,)\n",
    "\n",
    "y = tf.convert_to_tensor(df[target].values, dtype=\"float32\")"
   ]
  },
  {
   "cell_type": "code",
   "execution_count": 26,
   "metadata": {},
   "outputs": [
    {
     "data": {
      "text/plain": [
       "TensorShape([145487, 4, 4])"
      ]
     },
     "execution_count": 26,
     "metadata": {},
     "output_type": "execute_result"
    }
   ],
   "source": [
    "x.shape"
   ]
  },
  {
   "cell_type": "code",
   "execution_count": 27,
   "metadata": {},
   "outputs": [],
   "source": [
    "#features for LBN output\n",
    "LBN_output_features = [\"E\", \"px\", \"py\", \"pz\"]\n",
    "\n",
    "#define our LBN layer:\n",
    "myLBNLayer = LBNLayer((4, 4), 4, boost_mode=LBN.PAIRS, features=LBN_output_features)\n",
    "\n",
    "#define NN model and compile\n",
    "model = tf.keras.models.Sequential([\n",
    "    myLBNLayer,\n",
    "    tf.keras.layers.Dense(8, activation='relu', input_shape=(2,)),\n",
    "    tf.keras.layers.Dense(1)\n",
    "])\n",
    "\n",
    "loss_fn = tf.keras.losses.MeanSquaredError()\n",
    "model.compile(optimizer='Adam',\n",
    "              loss=loss_fn,\n",
    "              metrics=['mae'])"
   ]
  },
  {
   "cell_type": "code",
   "execution_count": 28,
   "metadata": {},
   "outputs": [
    {
     "name": "stdout",
     "output_type": "stream",
     "text": [
      "Model: \"sequential_1\"\n",
      "_________________________________________________________________\n",
      "Layer (type)                 Output Shape              Param #   \n",
      "=================================================================\n",
      "LBN (LBNLayer)               (None, 16)                32        \n",
      "_________________________________________________________________\n",
      "dense_2 (Dense)              (None, 8)                 136       \n",
      "_________________________________________________________________\n",
      "dense_3 (Dense)              (None, 1)                 9         \n",
      "=================================================================\n",
      "Total params: 177\n",
      "Trainable params: 177\n",
      "Non-trainable params: 0\n",
      "_________________________________________________________________\n"
     ]
    }
   ],
   "source": [
    "model.summary()"
   ]
  },
  {
   "cell_type": "code",
   "execution_count": 29,
   "metadata": {},
   "outputs": [
    {
     "name": "stderr",
     "output_type": "stream",
     "text": [
      "W1020 17:24:22.924493 140124914251584 ag_logging.py:146] AutoGraph could not transform <function Model.make_train_function.<locals>.train_function at 0x7f70542aa4d0> and will run it as-is.\n",
      "Please report this to the TensorFlow team. When filing the bug, set the verbosity to 10 (on Linux, `export AUTOGRAPH_VERBOSITY=10`) and attach the full output.\n",
      "Cause: 'arguments' object has no attribute 'posonlyargs'\n",
      "To silence this warning, decorate the function with @tf.autograph.experimental.do_not_convert\n"
     ]
    },
    {
     "name": "stdout",
     "output_type": "stream",
     "text": [
      "Epoch 1/3\n",
      "WARNING: AutoGraph could not transform <function Model.make_train_function.<locals>.train_function at 0x7f70542aa4d0> and will run it as-is.\n",
      "Please report this to the TensorFlow team. When filing the bug, set the verbosity to 10 (on Linux, `export AUTOGRAPH_VERBOSITY=10`) and attach the full output.\n",
      "Cause: 'arguments' object has no attribute 'posonlyargs'\n",
      "To silence this warning, decorate the function with @tf.autograph.experimental.do_not_convert\n",
      "3169/3183 [============================>.] - ETA: 0s - loss: 7.3019 - mae: 1.8736"
     ]
    },
    {
     "name": "stderr",
     "output_type": "stream",
     "text": [
      "W1020 17:24:34.877182 140124914251584 ag_logging.py:146] AutoGraph could not transform <function Model.make_test_function.<locals>.test_function at 0x7f704c16f680> and will run it as-is.\n",
      "Please report this to the TensorFlow team. When filing the bug, set the verbosity to 10 (on Linux, `export AUTOGRAPH_VERBOSITY=10`) and attach the full output.\n",
      "Cause: 'arguments' object has no attribute 'posonlyargs'\n",
      "To silence this warning, decorate the function with @tf.autograph.experimental.do_not_convert\n"
     ]
    },
    {
     "name": "stdout",
     "output_type": "stream",
     "text": [
      "WARNING: AutoGraph could not transform <function Model.make_test_function.<locals>.test_function at 0x7f704c16f680> and will run it as-is.\n",
      "Please report this to the TensorFlow team. When filing the bug, set the verbosity to 10 (on Linux, `export AUTOGRAPH_VERBOSITY=10`) and attach the full output.\n",
      "Cause: 'arguments' object has no attribute 'posonlyargs'\n",
      "To silence this warning, decorate the function with @tf.autograph.experimental.do_not_convert\n",
      "3183/3183 [==============================] - 13s 4ms/step - loss: 7.2864 - mae: 1.8725 - val_loss: 3.5144 - val_mae: 1.6083\n",
      "Epoch 2/3\n",
      "3183/3183 [==============================] - 11s 4ms/step - loss: 3.4391 - mae: 1.5950 - val_loss: 3.4107 - val_mae: 1.5912\n",
      "Epoch 3/3\n",
      "3183/3183 [==============================] - 11s 4ms/step - loss: 3.3554 - mae: 1.5823 - val_loss: 3.3215 - val_mae: 1.5761\n"
     ]
    }
   ],
   "source": [
    "#train model\n",
    "history = model.fit(x, y, validation_split=0.3, epochs=3)"
   ]
  },
  {
   "cell_type": "code",
   "execution_count": 17,
   "metadata": {},
   "outputs": [
    {
     "ename": "NameError",
     "evalue": "name 'history' is not defined",
     "output_type": "error",
     "traceback": [
      "\u001b[0;31m---------------------------------------------------------------------------\u001b[0m",
      "\u001b[0;31mNameError\u001b[0m                                 Traceback (most recent call last)",
      "\u001b[0;32m<ipython-input-17-45037c6a4f0d>\u001b[0m in \u001b[0;36m<module>\u001b[0;34m\u001b[0m\n\u001b[1;32m      1\u001b[0m \u001b[0;31m#plot traning\u001b[0m\u001b[0;34m\u001b[0m\u001b[0;34m\u001b[0m\u001b[0;34m\u001b[0m\u001b[0m\n\u001b[1;32m      2\u001b[0m \u001b[0mplt\u001b[0m\u001b[0;34m.\u001b[0m\u001b[0mfigure\u001b[0m\u001b[0;34m(\u001b[0m\u001b[0;34m)\u001b[0m\u001b[0;34m\u001b[0m\u001b[0;34m\u001b[0m\u001b[0m\n\u001b[0;32m----> 3\u001b[0;31m \u001b[0mplt\u001b[0m\u001b[0;34m.\u001b[0m\u001b[0mplot\u001b[0m\u001b[0;34m(\u001b[0m\u001b[0mhistory\u001b[0m\u001b[0;34m.\u001b[0m\u001b[0mhistory\u001b[0m\u001b[0;34m[\u001b[0m\u001b[0;34m'loss'\u001b[0m\u001b[0;34m]\u001b[0m\u001b[0;34m,\u001b[0m \u001b[0mlabel\u001b[0m\u001b[0;34m=\u001b[0m\u001b[0;34m\"Training Loss\"\u001b[0m\u001b[0;34m)\u001b[0m\u001b[0;34m\u001b[0m\u001b[0;34m\u001b[0m\u001b[0m\n\u001b[0m\u001b[1;32m      4\u001b[0m \u001b[0mplt\u001b[0m\u001b[0;34m.\u001b[0m\u001b[0mplot\u001b[0m\u001b[0;34m(\u001b[0m\u001b[0mhistory\u001b[0m\u001b[0;34m.\u001b[0m\u001b[0mhistory\u001b[0m\u001b[0;34m[\u001b[0m\u001b[0;34m'val_loss'\u001b[0m\u001b[0;34m]\u001b[0m\u001b[0;34m,\u001b[0m \u001b[0mlabel\u001b[0m\u001b[0;34m=\u001b[0m\u001b[0;34m\"Validation Loss\"\u001b[0m\u001b[0;34m)\u001b[0m\u001b[0;34m\u001b[0m\u001b[0;34m\u001b[0m\u001b[0m\n\u001b[1;32m      5\u001b[0m \u001b[0mplt\u001b[0m\u001b[0;34m.\u001b[0m\u001b[0mtitle\u001b[0m\u001b[0;34m(\u001b[0m\u001b[0;34m\"Loss on Iteration\"\u001b[0m\u001b[0;34m)\u001b[0m\u001b[0;34m\u001b[0m\u001b[0;34m\u001b[0m\u001b[0m\n",
      "\u001b[0;31mNameError\u001b[0m: name 'history' is not defined"
     ]
    },
    {
     "data": {
      "text/plain": [
       "<Figure size 432x288 with 0 Axes>"
      ]
     },
     "metadata": {},
     "output_type": "display_data"
    }
   ],
   "source": [
    "#plot traning\n",
    "plt.figure()\n",
    "plt.plot(history.history['loss'], label=\"Training Loss\")\n",
    "plt.plot(history.history['val_loss'], label=\"Validation Loss\")\n",
    "plt.title(\"Loss on Iteration\")\n",
    "plt.xlabel(\"Epoch\")\n",
    "plt.ylabel(\"Loss\")\n",
    "plt.legend()\n",
    "plt.show()"
   ]
  },
  {
   "cell_type": "code",
   "execution_count": 13,
   "metadata": {},
   "outputs": [
    {
     "data": {
      "image/png": "[encoded data removed]",
      "text/plain": [
       "<Figure size 432x288 with 1 Axes>"
      ]
     },
     "metadata": {
      "needs_background": "light"
     },
     "output_type": "display_data"
    }
   ],
   "source": [
    "#Infer on full dataset\n",
    "#TODO: only infer on validation set\n",
    "Phi_CP = np.array(model.predict(x)).reshape(x.shape[0])\n",
    "\n",
    "#Plot the histogram\n",
    "aco_angle_1 = np.array(df['aco_angle_1'])\n",
    "\n",
    "plt.figure()\n",
    "plt.title(\"Rho decay acoplanarity angles\")\n",
    "plt.hist(Phi_CP, label=\"My Calculation\", alpha=0.625, bins=50)\n",
    "plt.hist(np.array(y), label=\"From .root\", alpha=0.625, bins=50)\n",
    "plt.xlabel(r\"$\\phi_{CP}$\")\n",
    "plt.ylabel(\"Frequency\")\n",
    "plt.grid()\n",
    "plt.legend()\n",
    "plt.savefig(\"KingsleyTask1.png\")\n",
    "plt.show()\n",
    "plt.close()"
   ]
  },
  {
   "cell_type": "code",
   "execution_count": 14,
   "metadata": {},
   "outputs": [
    {
     "name": "stdout",
     "output_type": "stream",
     "text": [
      "6.444684028625488 \t 5.927901744842529\n",
      "4.93155574798584 \t 5.015406131744385\n",
      "2.5800979137420654 \t 3.0195324420928955\n",
      "1.5594661235809326 \t 2.6506776809692383\n",
      "3.2930009365081787 \t 3.0576999187469482\n",
      "4.367798805236816 \t 5.388603210449219\n",
      "3.840968370437622 \t 5.058131217956543\n",
      "2.3399035930633545 \t 3.4759140014648438\n",
      "4.756972312927246 \t 5.67650842666626\n",
      "4.067694664001465 \t 4.645352840423584\n"
     ]
    }
   ],
   "source": [
    "#print the first few results vs given angles\n",
    "y_print = np.array(y).reshape(y.shape[0])\n",
    "for i in range(10):\n",
    "    print(\"{} \\t {}\".format(Phi_CP[i], y_print[i]))"
   ]
  }
 ],
 "metadata": {
  "kernelspec": {
   "display_name": "Python 3",
   "language": "python",
   "name": "python3"
  },
  "language_info": {
   "codemirror_mode": {
    "name": "ipython",
    "version": 3
   },
   "file_extension": ".py",
   "mimetype": "text/x-python",
   "name": "python",
   "nbconvert_exporter": "python",
   "pygments_lexer": "ipython3",
   "version": "3.7.6"
  }
 },
 "nbformat": 4,
 "nbformat_minor": 4
}
