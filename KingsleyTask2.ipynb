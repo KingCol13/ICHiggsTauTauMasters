{
 "cells": [
  {
   "cell_type": "markdown",
   "metadata": {},
   "source": [
    "# Task 2\n",
    "Setup a NN to regress aco_angle_1 - this will give us some ideas about how we need to setup the NN in order for it to make use of the low-level information and then we can use a similar architecture for our final NN setup. After reading around online a bit one possible reason that the NN is not working very well is because the CP observables depend on what rest frame you determine them in and possibly the NN is not well setup to handle Lorentz boosts into different frames. I found a paper which suggest how to setup the first layers of a NN in order to perform such Lorentz boosts (https://arxiv.org/pdf/1812.09722.pdf) - this might be a good place to start, but of course if you have other ideas you are free to follow them"
   ]
  },
  {
   "cell_type": "code",
<<<<<<< HEAD
   "execution_count": 23,
=======
   "execution_count": 1,
>>>>>>> 51fa3c79a2fdda100f0a519870efbaa10a9fe2b6
   "metadata": {},
   "outputs": [],
   "source": [
    "import uproot \n",
    "import numpy as np\n",
    "import pandas as pd\n",
    "import tensorflow as tf\n",
    "import matplotlib.pyplot as plt\n",
    "\n",
    "#from pylorentz import Momentum4\n",
    "#from pylorentz import Position4\n",
    "from lbn import LBN, LBNLayer"
   ]
  },
  {
   "cell_type": "code",
<<<<<<< HEAD
   "execution_count": 24,
=======
   "execution_count": 2,
>>>>>>> 51fa3c79a2fdda100f0a519870efbaa10a9fe2b6
   "metadata": {},
   "outputs": [],
   "source": [
    "# stop tensorflow trying to overfill GPU memory\n",
    "gpus = tf.config.experimental.list_physical_devices('GPU')\n",
    "if gpus:\n",
    "  try:\n",
    "    for gpu in gpus:\n",
    "      tf.config.experimental.set_memory_growth(gpu, True)\n",
    "  except RuntimeError as e:\n",
    "    print(e)"
   ]
  },
  {
   "cell_type": "code",
   "execution_count": 25,
   "metadata": {},
   "outputs": [],
   "source": [
    "# loading the tree\n",
    "tree = uproot.open(\"/eos/user/d/dwinterb/SWAN_projects/Masters_CP/MVAFILE_GluGluHToTauTauUncorrelatedDecay_Filtered_tt_2018.root\")[\"ntuple\"]\n",
    "#tree2 = uproot.open(\"/eos/user/d/dwinterb/SWAN_projects/Masters_CP/MVAFILE_VBFHToTauTauUncorrelatedDecay_Filtered_tt_2018.root\")[\"ntuple\"]\n",
    "\n",
    "\n",
    "#These are new trees, added by Danny on 13/10\n",
    "#tree3=uproot.open(\"/eos/user/d/dwinterb/SWAN_projects/Masters_CP/MVAFILE_AllHiggs_tt.root\")[\"ntuple\"]  \n",
    "#note, instead of the first t we can have e,m, different decay modes"
   ]
  },
  {
   "cell_type": "code",
<<<<<<< HEAD
   "execution_count": 26,
=======
   "execution_count": 4,
>>>>>>> 51fa3c79a2fdda100f0a519870efbaa10a9fe2b6
   "metadata": {},
   "outputs": [],
   "source": [
    "# define what variables are to be read into the dataframe\n",
    "\n",
    "momenta_features = [ \"pi_E_1\", \"pi_px_1\", \"pi_py_1\", \"pi_pz_1\", #leading charged pi 4-momentum\n",
    "              \"pi_E_2\", \"pi_px_2\", \"pi_py_2\", \"pi_pz_2\", #subleading charged pi 4-momentum\n",
    "              \"pi0_E_1\",\"pi0_px_1\",\"pi0_py_1\",\"pi0_pz_1\", #leading neutral pi 4-momentum\n",
    "              \"pi0_E_2\",\"pi0_px_2\",\"pi0_py_2\",\"pi0_pz_2\"] #subleading neutral pi 4-momentum\n",
    "\n",
    "other_features = [ \"ip_x_1\", \"ip_y_1\", \"ip_z_1\",        #leading impact parameter\n",
    "                   \"ip_x_2\", \"ip_y_2\", \"ip_z_2\",        #subleading impact parameter\n",
    "                   \"y_1_1\", \"y_1_2\"]    # ratios of energies\n",
    "\n",
    "target = [    \"aco_angle_1\"]  #acoplanarity angle\n",
    "    \n",
    "selectors = [ \"tau_decay_mode_1\",\"tau_decay_mode_2\",\n",
    "             \"mva_dm_1\",\"mva_dm_2\"\n",
    "             ]\n",
    "\n",
    "df = tree.pandas.df(momenta_features+other_features+target+selectors)\n",
    "\n",
    "df = df[\n",
    "      (df[\"tau_decay_mode_1\"] == 1) \n",
    "    & (df[\"tau_decay_mode_2\"] == 1) \n",
    "    & (df[\"mva_dm_1\"] == 1) \n",
    "    & (df[\"mva_dm_2\"] == 1)\n",
    "]\n",
    "#df2 = tree2.pandas.df(variables)\n",
    "\n",
    "#tree3 should be more comprehensive and complete as it includes all decay types and more\n",
    "#info for tau->a1 decays. Again we save the same variables for now\n",
    "\n",
    "#df3 = tree3.pandas.df(variables)\n",
    "\n",
    "#combine VBF and ggH events\n",
    "\n",
    "#df = pd.concat([df,df2], ignore_index=True)"
   ]
  },
  {
   "cell_type": "code",
<<<<<<< HEAD
   "execution_count": 27,
=======
   "execution_count": 5,
>>>>>>> 51fa3c79a2fdda100f0a519870efbaa10a9fe2b6
   "metadata": {},
   "outputs": [
    {
     "data": {
      "text/html": [
       "<div>\n",
       "<style scoped>\n",
       "    .dataframe tbody tr th:only-of-type {\n",
       "        vertical-align: middle;\n",
       "    }\n",
       "\n",
       "    .dataframe tbody tr th {\n",
       "        vertical-align: top;\n",
       "    }\n",
       "\n",
       "    .dataframe thead th {\n",
       "        text-align: right;\n",
       "    }\n",
       "</style>\n",
       "<table border=\"1\" class=\"dataframe\">\n",
       "  <thead>\n",
       "    <tr style=\"text-align: right;\">\n",
       "      <th></th>\n",
       "      <th>pi_E_1</th>\n",
       "      <th>pi_px_1</th>\n",
       "      <th>pi_py_1</th>\n",
       "      <th>pi_pz_1</th>\n",
       "      <th>pi_E_2</th>\n",
       "      <th>pi_px_2</th>\n",
       "      <th>pi_py_2</th>\n",
       "      <th>pi_pz_2</th>\n",
       "      <th>pi0_E_1</th>\n",
       "      <th>pi0_px_1</th>\n",
       "      <th>...</th>\n",
       "      <th>ip_x_2</th>\n",
       "      <th>ip_y_2</th>\n",
       "      <th>ip_z_2</th>\n",
       "      <th>y_1_1</th>\n",
       "      <th>y_1_2</th>\n",
       "      <th>aco_angle_1</th>\n",
       "      <th>tau_decay_mode_1</th>\n",
       "      <th>tau_decay_mode_2</th>\n",
       "      <th>mva_dm_1</th>\n",
       "      <th>mva_dm_2</th>\n",
       "    </tr>\n",
       "    <tr>\n",
       "      <th>entry</th>\n",
       "      <th></th>\n",
       "      <th></th>\n",
       "      <th></th>\n",
       "      <th></th>\n",
       "      <th></th>\n",
       "      <th></th>\n",
       "      <th></th>\n",
       "      <th></th>\n",
       "      <th></th>\n",
       "      <th></th>\n",
       "      <th></th>\n",
       "      <th></th>\n",
       "      <th></th>\n",
       "      <th></th>\n",
       "      <th></th>\n",
       "      <th></th>\n",
       "      <th></th>\n",
       "      <th></th>\n",
       "      <th></th>\n",
       "      <th></th>\n",
       "      <th></th>\n",
       "    </tr>\n",
       "  </thead>\n",
       "  <tbody>\n",
       "    <tr>\n",
       "      <th>4</th>\n",
       "      <td>26.184192</td>\n",
       "      <td>5.249920</td>\n",
       "      <td>-12.394966</td>\n",
       "      <td>-22.458754</td>\n",
       "      <td>52.305565</td>\n",
       "      <td>-10.016787</td>\n",
       "      <td>40.401790</td>\n",
       "      <td>-31.673523</td>\n",
       "      <td>95.932667</td>\n",
       "      <td>20.387663</td>\n",
       "      <td>...</td>\n",
       "      <td>-0.000894</td>\n",
       "      <td>0.000668</td>\n",
       "      <td>0.000903</td>\n",
       "      <td>0.571162</td>\n",
       "      <td>-0.773942</td>\n",
       "      <td>5.927902</td>\n",
       "      <td>1</td>\n",
       "      <td>1</td>\n",
       "      <td>1</td>\n",
       "      <td>1</td>\n",
       "    </tr>\n",
       "    <tr>\n",
       "      <th>15</th>\n",
       "      <td>3.912128</td>\n",
       "      <td>3.186334</td>\n",
       "      <td>0.086207</td>\n",
       "      <td>-2.263873</td>\n",
       "      <td>32.211659</td>\n",
       "      <td>7.872188</td>\n",
       "      <td>29.660602</td>\n",
       "      <td>9.790244</td>\n",
       "      <td>64.282235</td>\n",
       "      <td>52.942869</td>\n",
       "      <td>...</td>\n",
       "      <td>-0.002586</td>\n",
       "      <td>0.001020</td>\n",
       "      <td>-0.000611</td>\n",
       "      <td>0.885265</td>\n",
       "      <td>-0.339467</td>\n",
       "      <td>5.015406</td>\n",
       "      <td>1</td>\n",
       "      <td>1</td>\n",
       "      <td>1</td>\n",
       "      <td>1</td>\n",
       "    </tr>\n",
       "    <tr>\n",
       "      <th>26</th>\n",
       "      <td>20.389432</td>\n",
       "      <td>12.846308</td>\n",
       "      <td>15.714182</td>\n",
       "      <td>1.935544</td>\n",
       "      <td>5.313678</td>\n",
       "      <td>-4.517069</td>\n",
       "      <td>-2.251007</td>\n",
       "      <td>1.656731</td>\n",
       "      <td>35.041365</td>\n",
       "      <td>21.823335</td>\n",
       "      <td>...</td>\n",
       "      <td>0.004199</td>\n",
       "      <td>0.003093</td>\n",
       "      <td>0.014879</td>\n",
       "      <td>0.264328</td>\n",
       "      <td>0.760691</td>\n",
       "      <td>3.019532</td>\n",
       "      <td>1</td>\n",
       "      <td>1</td>\n",
       "      <td>1</td>\n",
       "      <td>1</td>\n",
       "    </tr>\n",
       "    <tr>\n",
       "      <th>39</th>\n",
       "      <td>4.532329</td>\n",
       "      <td>-1.060811</td>\n",
       "      <td>2.501133</td>\n",
       "      <td>-3.625128</td>\n",
       "      <td>11.348225</td>\n",
       "      <td>-2.284085</td>\n",
       "      <td>-6.326895</td>\n",
       "      <td>-9.138714</td>\n",
       "      <td>102.977036</td>\n",
       "      <td>-25.022726</td>\n",
       "      <td>...</td>\n",
       "      <td>0.009565</td>\n",
       "      <td>-0.000590</td>\n",
       "      <td>-0.001876</td>\n",
       "      <td>0.915685</td>\n",
       "      <td>0.772376</td>\n",
       "      <td>2.650678</td>\n",
       "      <td>1</td>\n",
       "      <td>1</td>\n",
       "      <td>1</td>\n",
       "      <td>1</td>\n",
       "    </tr>\n",
       "    <tr>\n",
       "      <th>55</th>\n",
       "      <td>77.929050</td>\n",
       "      <td>28.100279</td>\n",
       "      <td>42.522791</td>\n",
       "      <td>58.950012</td>\n",
       "      <td>72.891011</td>\n",
       "      <td>8.689332</td>\n",
       "      <td>15.745896</td>\n",
       "      <td>70.637400</td>\n",
       "      <td>68.260095</td>\n",
       "      <td>25.125369</td>\n",
       "      <td>...</td>\n",
       "      <td>-0.020295</td>\n",
       "      <td>0.027176</td>\n",
       "      <td>-0.004810</td>\n",
       "      <td>-0.066140</td>\n",
       "      <td>0.534360</td>\n",
       "      <td>3.057700</td>\n",
       "      <td>1</td>\n",
       "      <td>1</td>\n",
       "      <td>1</td>\n",
       "      <td>1</td>\n",
       "    </tr>\n",
       "  </tbody>\n",
       "</table>\n",
       "<p>5 rows × 29 columns</p>\n",
       "</div>"
      ],
      "text/plain": [
       "          pi_E_1    pi_px_1    pi_py_1    pi_pz_1     pi_E_2    pi_px_2  \\\n",
       "entry                                                                     \n",
       "4      26.184192   5.249920 -12.394966 -22.458754  52.305565 -10.016787   \n",
       "15      3.912128   3.186334   0.086207  -2.263873  32.211659   7.872188   \n",
       "26     20.389432  12.846308  15.714182   1.935544   5.313678  -4.517069   \n",
       "39      4.532329  -1.060811   2.501133  -3.625128  11.348225  -2.284085   \n",
       "55     77.929050  28.100279  42.522791  58.950012  72.891011   8.689332   \n",
       "\n",
       "         pi_py_2    pi_pz_2     pi0_E_1   pi0_px_1  ...    ip_x_2    ip_y_2  \\\n",
       "entry                                               ...                       \n",
       "4      40.401790 -31.673523   95.932667  20.387663  ... -0.000894  0.000668   \n",
       "15     29.660602   9.790244   64.282235  52.942869  ... -0.002586  0.001020   \n",
       "26     -2.251007   1.656731   35.041365  21.823335  ...  0.004199  0.003093   \n",
       "39     -6.326895  -9.138714  102.977036 -25.022726  ...  0.009565 -0.000590   \n",
       "55     15.745896  70.637400   68.260095  25.125369  ... -0.020295  0.027176   \n",
       "\n",
       "         ip_z_2     y_1_1     y_1_2  aco_angle_1  tau_decay_mode_1  \\\n",
       "entry                                                                \n",
       "4      0.000903  0.571162 -0.773942     5.927902                 1   \n",
       "15    -0.000611  0.885265 -0.339467     5.015406                 1   \n",
       "26     0.014879  0.264328  0.760691     3.019532                 1   \n",
       "39    -0.001876  0.915685  0.772376     2.650678                 1   \n",
       "55    -0.004810 -0.066140  0.534360     3.057700                 1   \n",
       "\n",
       "       tau_decay_mode_2  mva_dm_1  mva_dm_2  \n",
       "entry                                        \n",
       "4                     1         1         1  \n",
       "15                    1         1         1  \n",
       "26                    1         1         1  \n",
       "39                    1         1         1  \n",
       "55                    1         1         1  \n",
       "\n",
       "[5 rows x 29 columns]"
      ]
     },
<<<<<<< HEAD
     "execution_count": 27,
=======
     "execution_count": 5,
>>>>>>> 51fa3c79a2fdda100f0a519870efbaa10a9fe2b6
     "metadata": {},
     "output_type": "execute_result"
    }
   ],
   "source": [
    "df.head()"
   ]
  },
  {
   "cell_type": "code",
<<<<<<< HEAD
   "execution_count": 45,
=======
   "execution_count": 6,
>>>>>>> 51fa3c79a2fdda100f0a519870efbaa10a9fe2b6
   "metadata": {},
   "outputs": [
    {
     "ename": "TypeError",
     "evalue": "data type not understood",
     "output_type": "error",
     "traceback": [
      "\u001b[0;31m---------------------------------------------------------------------------\u001b[0m",
      "\u001b[0;31mTypeError\u001b[0m                                 Traceback (most recent call last)",
      "\u001b[0;32m<ipython-input-45-d5c38ba0959d>\u001b[0m in \u001b[0;36m<module>\u001b[0;34m\u001b[0m\n\u001b[1;32m      1\u001b[0m \u001b[0;31m# Create x and y tensors\u001b[0m\u001b[0;34m\u001b[0m\u001b[0;34m\u001b[0m\u001b[0;34m\u001b[0m\u001b[0m\n\u001b[0;32m----> 2\u001b[0;31m \u001b[0mx\u001b[0m \u001b[0;34m=\u001b[0m \u001b[0mtf\u001b[0m\u001b[0;34m.\u001b[0m\u001b[0mconvert_to_tensor\u001b[0m\u001b[0;34m(\u001b[0m\u001b[0mdf\u001b[0m\u001b[0;34m[\u001b[0m\u001b[0mmomenta_features\u001b[0m\u001b[0;34m]\u001b[0m\u001b[0;34m,\u001b[0m \u001b[0mdtype\u001b[0m\u001b[0;34m=\u001b[0m\u001b[0;34m\"float32\"\u001b[0m\u001b[0;34m)\u001b[0m\u001b[0;34m\u001b[0m\u001b[0;34m\u001b[0m\u001b[0m\n\u001b[0m\u001b[1;32m      3\u001b[0m \u001b[0;34m\u001b[0m\u001b[0m\n\u001b[1;32m      4\u001b[0m \u001b[0;31m# Reshape for LBN\u001b[0m\u001b[0;34m\u001b[0m\u001b[0;34m\u001b[0m\u001b[0;34m\u001b[0m\u001b[0m\n\u001b[1;32m      5\u001b[0m \u001b[0mx\u001b[0m \u001b[0;34m=\u001b[0m \u001b[0mtf\u001b[0m\u001b[0;34m.\u001b[0m\u001b[0mreshape\u001b[0m\u001b[0;34m(\u001b[0m\u001b[0mx\u001b[0m\u001b[0;34m,\u001b[0m \u001b[0;34m(\u001b[0m\u001b[0mx\u001b[0m\u001b[0;34m.\u001b[0m\u001b[0mshape\u001b[0m\u001b[0;34m[\u001b[0m\u001b[0;36m0\u001b[0m\u001b[0;34m]\u001b[0m\u001b[0;34m,\u001b[0m \u001b[0;36m4\u001b[0m\u001b[0;34m,\u001b[0m \u001b[0;36m4\u001b[0m\u001b[0;34m)\u001b[0m\u001b[0;34m)\u001b[0m\u001b[0;34m\u001b[0m\u001b[0;34m\u001b[0m\u001b[0m\n",
      "\u001b[0;32m/cvmfs/sft.cern.ch/lcg/views/LCG_97apython3/x86_64-centos7-gcc8-opt/lib/python3.7/site-packages/tensorflow/python/framework/ops.py\u001b[0m in \u001b[0;36mconvert_to_tensor\u001b[0;34m(value, dtype, name, preferred_dtype, dtype_hint)\u001b[0m\n\u001b[1;32m   1085\u001b[0m   preferred_dtype = deprecation.deprecated_argument_lookup(\n\u001b[1;32m   1086\u001b[0m       \"dtype_hint\", dtype_hint, \"preferred_dtype\", preferred_dtype)\n\u001b[0;32m-> 1087\u001b[0;31m   \u001b[0;32mreturn\u001b[0m \u001b[0mconvert_to_tensor_v2\u001b[0m\u001b[0;34m(\u001b[0m\u001b[0mvalue\u001b[0m\u001b[0;34m,\u001b[0m \u001b[0mdtype\u001b[0m\u001b[0;34m,\u001b[0m \u001b[0mpreferred_dtype\u001b[0m\u001b[0;34m,\u001b[0m \u001b[0mname\u001b[0m\u001b[0;34m)\u001b[0m\u001b[0;34m\u001b[0m\u001b[0;34m\u001b[0m\u001b[0m\n\u001b[0m\u001b[1;32m   1088\u001b[0m \u001b[0;34m\u001b[0m\u001b[0m\n\u001b[1;32m   1089\u001b[0m \u001b[0;34m\u001b[0m\u001b[0m\n",
      "\u001b[0;32m/cvmfs/sft.cern.ch/lcg/views/LCG_97apython3/x86_64-centos7-gcc8-opt/lib/python3.7/site-packages/tensorflow/python/framework/ops.py\u001b[0m in \u001b[0;36mconvert_to_tensor_v2\u001b[0;34m(value, dtype, dtype_hint, name)\u001b[0m\n\u001b[1;32m   1143\u001b[0m       \u001b[0mname\u001b[0m\u001b[0;34m=\u001b[0m\u001b[0mname\u001b[0m\u001b[0;34m,\u001b[0m\u001b[0;34m\u001b[0m\u001b[0;34m\u001b[0m\u001b[0m\n\u001b[1;32m   1144\u001b[0m       \u001b[0mpreferred_dtype\u001b[0m\u001b[0;34m=\u001b[0m\u001b[0mdtype_hint\u001b[0m\u001b[0;34m,\u001b[0m\u001b[0;34m\u001b[0m\u001b[0;34m\u001b[0m\u001b[0m\n\u001b[0;32m-> 1145\u001b[0;31m       as_ref=False)\n\u001b[0m\u001b[1;32m   1146\u001b[0m \u001b[0;34m\u001b[0m\u001b[0m\n\u001b[1;32m   1147\u001b[0m \u001b[0;34m\u001b[0m\u001b[0m\n",
      "\u001b[0;32m/cvmfs/sft.cern.ch/lcg/views/LCG_97apython3/x86_64-centos7-gcc8-opt/lib/python3.7/site-packages/tensorflow/python/framework/ops.py\u001b[0m in \u001b[0;36minternal_convert_to_tensor\u001b[0;34m(value, dtype, name, as_ref, preferred_dtype, ctx, accept_symbolic_tensors, accept_composite_tensors)\u001b[0m\n\u001b[1;32m   1222\u001b[0m \u001b[0;34m\u001b[0m\u001b[0m\n\u001b[1;32m   1223\u001b[0m     \u001b[0;32mif\u001b[0m \u001b[0mret\u001b[0m \u001b[0;32mis\u001b[0m \u001b[0;32mNone\u001b[0m\u001b[0;34m:\u001b[0m\u001b[0;34m\u001b[0m\u001b[0;34m\u001b[0m\u001b[0m\n\u001b[0;32m-> 1224\u001b[0;31m       \u001b[0mret\u001b[0m \u001b[0;34m=\u001b[0m \u001b[0mconversion_func\u001b[0m\u001b[0;34m(\u001b[0m\u001b[0mvalue\u001b[0m\u001b[0;34m,\u001b[0m \u001b[0mdtype\u001b[0m\u001b[0;34m=\u001b[0m\u001b[0mdtype\u001b[0m\u001b[0;34m,\u001b[0m \u001b[0mname\u001b[0m\u001b[0;34m=\u001b[0m\u001b[0mname\u001b[0m\u001b[0;34m,\u001b[0m \u001b[0mas_ref\u001b[0m\u001b[0;34m=\u001b[0m\u001b[0mas_ref\u001b[0m\u001b[0;34m)\u001b[0m\u001b[0;34m\u001b[0m\u001b[0;34m\u001b[0m\u001b[0m\n\u001b[0m\u001b[1;32m   1225\u001b[0m \u001b[0;34m\u001b[0m\u001b[0m\n\u001b[1;32m   1226\u001b[0m     \u001b[0;32mif\u001b[0m \u001b[0mret\u001b[0m \u001b[0;32mis\u001b[0m \u001b[0mNotImplemented\u001b[0m\u001b[0;34m:\u001b[0m\u001b[0;34m\u001b[0m\u001b[0;34m\u001b[0m\u001b[0m\n",
      "\u001b[0;32m/cvmfs/sft.cern.ch/lcg/views/LCG_97apython3/x86_64-centos7-gcc8-opt/lib/python3.7/site-packages/tensorflow/python/framework/constant_op.py\u001b[0m in \u001b[0;36m_constant_tensor_conversion_function\u001b[0;34m(v, dtype, name, as_ref)\u001b[0m\n\u001b[1;32m    303\u001b[0m                                          as_ref=False):\n\u001b[1;32m    304\u001b[0m   \u001b[0m_\u001b[0m \u001b[0;34m=\u001b[0m \u001b[0mas_ref\u001b[0m\u001b[0;34m\u001b[0m\u001b[0;34m\u001b[0m\u001b[0m\n\u001b[0;32m--> 305\u001b[0;31m   \u001b[0;32mreturn\u001b[0m \u001b[0mconstant\u001b[0m\u001b[0;34m(\u001b[0m\u001b[0mv\u001b[0m\u001b[0;34m,\u001b[0m \u001b[0mdtype\u001b[0m\u001b[0;34m=\u001b[0m\u001b[0mdtype\u001b[0m\u001b[0;34m,\u001b[0m \u001b[0mname\u001b[0m\u001b[0;34m=\u001b[0m\u001b[0mname\u001b[0m\u001b[0;34m)\u001b[0m\u001b[0;34m\u001b[0m\u001b[0;34m\u001b[0m\u001b[0m\n\u001b[0m\u001b[1;32m    306\u001b[0m \u001b[0;34m\u001b[0m\u001b[0m\n\u001b[1;32m    307\u001b[0m \u001b[0;34m\u001b[0m\u001b[0m\n",
      "\u001b[0;32m/cvmfs/sft.cern.ch/lcg/views/LCG_97apython3/x86_64-centos7-gcc8-opt/lib/python3.7/site-packages/tensorflow/python/framework/constant_op.py\u001b[0m in \u001b[0;36mconstant\u001b[0;34m(value, dtype, shape, name)\u001b[0m\n\u001b[1;32m    244\u001b[0m   \"\"\"\n\u001b[1;32m    245\u001b[0m   return _constant_impl(value, dtype, shape, name, verify_shape=False,\n\u001b[0;32m--> 246\u001b[0;31m                         allow_broadcast=True)\n\u001b[0m\u001b[1;32m    247\u001b[0m \u001b[0;34m\u001b[0m\u001b[0m\n\u001b[1;32m    248\u001b[0m \u001b[0;34m\u001b[0m\u001b[0m\n",
      "\u001b[0;32m/cvmfs/sft.cern.ch/lcg/views/LCG_97apython3/x86_64-centos7-gcc8-opt/lib/python3.7/site-packages/tensorflow/python/framework/constant_op.py\u001b[0m in \u001b[0;36m_constant_impl\u001b[0;34m(value, dtype, shape, name, verify_shape, allow_broadcast)\u001b[0m\n\u001b[1;32m    282\u001b[0m       tensor_util.make_tensor_proto(\n\u001b[1;32m    283\u001b[0m           \u001b[0mvalue\u001b[0m\u001b[0;34m,\u001b[0m \u001b[0mdtype\u001b[0m\u001b[0;34m=\u001b[0m\u001b[0mdtype\u001b[0m\u001b[0;34m,\u001b[0m \u001b[0mshape\u001b[0m\u001b[0;34m=\u001b[0m\u001b[0mshape\u001b[0m\u001b[0;34m,\u001b[0m \u001b[0mverify_shape\u001b[0m\u001b[0;34m=\u001b[0m\u001b[0mverify_shape\u001b[0m\u001b[0;34m,\u001b[0m\u001b[0;34m\u001b[0m\u001b[0;34m\u001b[0m\u001b[0m\n\u001b[0;32m--> 284\u001b[0;31m           allow_broadcast=allow_broadcast))\n\u001b[0m\u001b[1;32m    285\u001b[0m   \u001b[0mdtype_value\u001b[0m \u001b[0;34m=\u001b[0m \u001b[0mattr_value_pb2\u001b[0m\u001b[0;34m.\u001b[0m\u001b[0mAttrValue\u001b[0m\u001b[0;34m(\u001b[0m\u001b[0mtype\u001b[0m\u001b[0;34m=\u001b[0m\u001b[0mtensor_value\u001b[0m\u001b[0;34m.\u001b[0m\u001b[0mtensor\u001b[0m\u001b[0;34m.\u001b[0m\u001b[0mdtype\u001b[0m\u001b[0;34m)\u001b[0m\u001b[0;34m\u001b[0m\u001b[0;34m\u001b[0m\u001b[0m\n\u001b[1;32m    286\u001b[0m   const_tensor = g.create_op(\n",
      "\u001b[0;32m/cvmfs/sft.cern.ch/lcg/views/LCG_97apython3/x86_64-centos7-gcc8-opt/lib/python3.7/site-packages/tensorflow/python/framework/tensor_util.py\u001b[0m in \u001b[0;36mmake_tensor_proto\u001b[0;34m(values, dtype, shape, verify_shape, allow_broadcast)\u001b[0m\n\u001b[1;32m    445\u001b[0m     \u001b[0;31m# If a class has the __array__ method, or __array_interface__ dict, then it\u001b[0m\u001b[0;34m\u001b[0m\u001b[0;34m\u001b[0m\u001b[0;34m\u001b[0m\u001b[0m\n\u001b[1;32m    446\u001b[0m     \u001b[0;31m# is possible to convert to numpy array.\u001b[0m\u001b[0;34m\u001b[0m\u001b[0;34m\u001b[0m\u001b[0;34m\u001b[0m\u001b[0m\n\u001b[0;32m--> 447\u001b[0;31m     \u001b[0mnparray\u001b[0m \u001b[0;34m=\u001b[0m \u001b[0mnp\u001b[0m\u001b[0;34m.\u001b[0m\u001b[0masarray\u001b[0m\u001b[0;34m(\u001b[0m\u001b[0mvalues\u001b[0m\u001b[0;34m,\u001b[0m \u001b[0mdtype\u001b[0m\u001b[0;34m=\u001b[0m\u001b[0mdtype\u001b[0m\u001b[0;34m)\u001b[0m\u001b[0;34m\u001b[0m\u001b[0;34m\u001b[0m\u001b[0m\n\u001b[0m\u001b[1;32m    448\u001b[0m \u001b[0;34m\u001b[0m\u001b[0m\n\u001b[1;32m    449\u001b[0m     \u001b[0;31m# This is the preferred way to create an array from the object, so replace\u001b[0m\u001b[0;34m\u001b[0m\u001b[0;34m\u001b[0m\u001b[0;34m\u001b[0m\u001b[0m\n",
      "\u001b[0;32m/cvmfs/sft.cern.ch/lcg/views/LCG_97apython3/x86_64-centos7-gcc8-opt/lib/python3.7/site-packages/numpy/core/numeric.py\u001b[0m in \u001b[0;36masarray\u001b[0;34m(a, dtype, order)\u001b[0m\n\u001b[1;32m    536\u001b[0m \u001b[0;34m\u001b[0m\u001b[0m\n\u001b[1;32m    537\u001b[0m     \"\"\"\n\u001b[0;32m--> 538\u001b[0;31m     \u001b[0;32mreturn\u001b[0m \u001b[0marray\u001b[0m\u001b[0;34m(\u001b[0m\u001b[0ma\u001b[0m\u001b[0;34m,\u001b[0m \u001b[0mdtype\u001b[0m\u001b[0;34m,\u001b[0m \u001b[0mcopy\u001b[0m\u001b[0;34m=\u001b[0m\u001b[0;32mFalse\u001b[0m\u001b[0;34m,\u001b[0m \u001b[0morder\u001b[0m\u001b[0;34m=\u001b[0m\u001b[0morder\u001b[0m\u001b[0;34m)\u001b[0m\u001b[0;34m\u001b[0m\u001b[0;34m\u001b[0m\u001b[0m\n\u001b[0m\u001b[1;32m    539\u001b[0m \u001b[0;34m\u001b[0m\u001b[0m\n\u001b[1;32m    540\u001b[0m \u001b[0;34m\u001b[0m\u001b[0m\n",
      "\u001b[0;31mTypeError\u001b[0m: data type not understood"
     ]
    }
   ],
   "source": [
    "# Create x and y tensors\n",
    "x = tf.convert_to_tensor(df[momenta_features], dtype=np.float32)\n",
    "\n",
    "# Reshape for LBN\n",
    "x = tf.reshape(x, (x.shape[0], 4, 4))\n",
    "\n",
    "# Normalise input:\n",
    "#x = (x - tf.math.reduce_mean(x,axis = 0))/tf.math.reduce_std(x, axis=0)\n",
    "\n",
<<<<<<< HEAD
    "y = tf.convert_to_tensor(df[target], dtype=\"float32\")\n"
=======
    "y = tf.convert_to_tensor(df[target], dtype=\"float32\")\n",
    "# Normalise target:\n",
    "y = (y - tf.math.reduce_mean(y,axis = 0))/tf.math.reduce_std(y, axis=0)"
>>>>>>> 51fa3c79a2fdda100f0a519870efbaa10a9fe2b6
   ]
  },
  {
   "cell_type": "code",
<<<<<<< HEAD
   "execution_count": 41,
=======
   "execution_count": 7,
   "metadata": {},
   "outputs": [],
   "source": [
    "x = x[:500]\n",
    "y = y[:500]"
   ]
  },
  {
   "cell_type": "code",
   "execution_count": 8,
>>>>>>> 51fa3c79a2fdda100f0a519870efbaa10a9fe2b6
   "metadata": {},
   "outputs": [],
   "source": [
    "#features for LBN output\n",
    "LBN_output_features = [\"E\", \"px\", \"py\", \"pz\", \"m\", \"pair_dy\", \"pair_cos\"]\n",
    "\n",
    "#define NN model and compile\n",
    "model = tf.keras.models.Sequential([\n",
    "    #tf.keras.layers.Flatten( input_shape=(4,4)),\n",
    "    LBNLayer((4, 4), 11, boost_mode=LBN.PAIRS, features=LBN_output_features),\n",
    "    tf.keras.layers.BatchNormalization(),\n",
    "    tf.keras.layers.Dense(30, activation='relu'),\n",
    "    #tf.keras.layers.Dropout(0.2),\n",
    "    tf.keras.layers.Dense(1)\n",
    "])\n",
    "\n",
    "loss_fn = tf.keras.losses.MeanSquaredError()\n",
    "model.compile(optimizer='adam',\n",
    "              loss=loss_fn,\n",
    "              metrics=['mse'])"
   ]
  },
  {
   "cell_type": "code",
<<<<<<< HEAD
   "execution_count": 42,
=======
   "execution_count": 9,
>>>>>>> 51fa3c79a2fdda100f0a519870efbaa10a9fe2b6
   "metadata": {},
   "outputs": [
    {
     "name": "stdout",
     "output_type": "stream",
     "text": [
<<<<<<< HEAD
      "Model: \"sequential_1\"\n",
      "_________________________________________________________________\n",
      "Layer (type)                 Output Shape              Param #   \n",
      "=================================================================\n",
      "LBN (LBNLayer)               (None, 2700)              400       \n",
      "_________________________________________________________________\n",
      "dense_5 (Dense)              (None, 300)               810300    \n",
      "_________________________________________________________________\n",
      "dense_6 (Dense)              (None, 300)               90300     \n",
      "_________________________________________________________________\n",
      "dense_7 (Dense)              (None, 300)               90300     \n",
      "_________________________________________________________________\n",
      "dense_8 (Dense)              (None, 300)               90300     \n",
      "_________________________________________________________________\n",
      "dense_9 (Dense)              (None, 1)                 301       \n",
=======
      "Model: \"sequential\"\n",
      "_________________________________________________________________\n",
      "Layer (type)                 Output Shape              Param #   \n",
      "=================================================================\n",
      "LBN (LBNLayer)               (None, 165)               88        \n",
      "_________________________________________________________________\n",
      "batch_normalization (BatchNo (None, 165)               660       \n",
      "_________________________________________________________________\n",
      "dense (Dense)                (None, 30)                4980      \n",
      "_________________________________________________________________\n",
      "dense_1 (Dense)              (None, 1)                 31        \n",
>>>>>>> 51fa3c79a2fdda100f0a519870efbaa10a9fe2b6
      "=================================================================\n",
      "Total params: 5,759\n",
      "Trainable params: 5,429\n",
      "Non-trainable params: 330\n",
      "_________________________________________________________________\n"
     ]
    }
   ],
   "source": [
    "model.summary()"
   ]
  },
  {
   "cell_type": "code",
<<<<<<< HEAD
   "execution_count": 43,
   "metadata": {},
   "outputs": [
    {
     "ename": "ValueError",
     "evalue": "When using data tensors as input to a model, you should specify the `steps_per_epoch` argument.",
     "output_type": "error",
     "traceback": [
      "\u001b[0;31m---------------------------------------------------------------------------\u001b[0m",
      "\u001b[0;31mValueError\u001b[0m                                Traceback (most recent call last)",
      "\u001b[0;32m<ipython-input-43-22ecbcc9c91d>\u001b[0m in \u001b[0;36m<module>\u001b[0;34m\u001b[0m\n\u001b[1;32m      1\u001b[0m \u001b[0;31m#train model\u001b[0m\u001b[0;34m\u001b[0m\u001b[0;34m\u001b[0m\u001b[0;34m\u001b[0m\u001b[0m\n\u001b[0;32m----> 2\u001b[0;31m \u001b[0mhistory\u001b[0m \u001b[0;34m=\u001b[0m \u001b[0mmodel\u001b[0m\u001b[0;34m.\u001b[0m\u001b[0mfit\u001b[0m\u001b[0;34m(\u001b[0m\u001b[0mx\u001b[0m\u001b[0;34m,\u001b[0m \u001b[0my\u001b[0m\u001b[0;34m,\u001b[0m \u001b[0mvalidation_split\u001b[0m\u001b[0;34m=\u001b[0m\u001b[0;36m0.3\u001b[0m\u001b[0;34m,\u001b[0m \u001b[0mepochs\u001b[0m\u001b[0;34m=\u001b[0m\u001b[0;36m50\u001b[0m\u001b[0;34m)\u001b[0m\u001b[0;34m\u001b[0m\u001b[0;34m\u001b[0m\u001b[0m\n\u001b[0m",
      "\u001b[0;32m/cvmfs/sft.cern.ch/lcg/views/LCG_97apython3/x86_64-centos7-gcc8-opt/lib/python3.7/site-packages/tensorflow/python/keras/engine/training.py\u001b[0m in \u001b[0;36mfit\u001b[0;34m(self, x, y, batch_size, epochs, verbose, callbacks, validation_split, validation_data, shuffle, class_weight, sample_weight, initial_epoch, steps_per_epoch, validation_steps, validation_freq, max_queue_size, workers, use_multiprocessing, **kwargs)\u001b[0m\n\u001b[1;32m    707\u001b[0m         \u001b[0msteps\u001b[0m\u001b[0;34m=\u001b[0m\u001b[0msteps_per_epoch\u001b[0m\u001b[0;34m,\u001b[0m\u001b[0;34m\u001b[0m\u001b[0;34m\u001b[0m\u001b[0m\n\u001b[1;32m    708\u001b[0m         \u001b[0mvalidation_split\u001b[0m\u001b[0;34m=\u001b[0m\u001b[0mvalidation_split\u001b[0m\u001b[0;34m,\u001b[0m\u001b[0;34m\u001b[0m\u001b[0;34m\u001b[0m\u001b[0m\n\u001b[0;32m--> 709\u001b[0;31m         shuffle=shuffle)\n\u001b[0m\u001b[1;32m    710\u001b[0m \u001b[0;34m\u001b[0m\u001b[0m\n\u001b[1;32m    711\u001b[0m     \u001b[0;31m# Prepare validation data.\u001b[0m\u001b[0;34m\u001b[0m\u001b[0;34m\u001b[0m\u001b[0;34m\u001b[0m\u001b[0m\n",
      "\u001b[0;32m/cvmfs/sft.cern.ch/lcg/views/LCG_97apython3/x86_64-centos7-gcc8-opt/lib/python3.7/site-packages/tensorflow/python/keras/engine/training.py\u001b[0m in \u001b[0;36m_standardize_user_data\u001b[0;34m(self, x, y, sample_weight, class_weight, batch_size, check_steps, steps_name, steps, validation_split, shuffle, extract_tensors_from_dataset)\u001b[0m\n\u001b[1;32m   2507\u001b[0m     \u001b[0;31m# Validates `steps` argument based on x's type.\u001b[0m\u001b[0;34m\u001b[0m\u001b[0;34m\u001b[0m\u001b[0;34m\u001b[0m\u001b[0m\n\u001b[1;32m   2508\u001b[0m     \u001b[0;32mif\u001b[0m \u001b[0mcheck_steps\u001b[0m\u001b[0;34m:\u001b[0m\u001b[0;34m\u001b[0m\u001b[0;34m\u001b[0m\u001b[0m\n\u001b[0;32m-> 2509\u001b[0;31m       \u001b[0mtraining_utils\u001b[0m\u001b[0;34m.\u001b[0m\u001b[0mcheck_steps_argument\u001b[0m\u001b[0;34m(\u001b[0m\u001b[0mx\u001b[0m\u001b[0;34m,\u001b[0m \u001b[0msteps\u001b[0m\u001b[0;34m,\u001b[0m \u001b[0msteps_name\u001b[0m\u001b[0;34m)\u001b[0m\u001b[0;34m\u001b[0m\u001b[0;34m\u001b[0m\u001b[0m\n\u001b[0m\u001b[1;32m   2510\u001b[0m \u001b[0;34m\u001b[0m\u001b[0m\n\u001b[1;32m   2511\u001b[0m     \u001b[0;31m# First, we build/compile the model on the fly if necessary.\u001b[0m\u001b[0;34m\u001b[0m\u001b[0;34m\u001b[0m\u001b[0;34m\u001b[0m\u001b[0m\n",
      "\u001b[0;32m/cvmfs/sft.cern.ch/lcg/views/LCG_97apython3/x86_64-centos7-gcc8-opt/lib/python3.7/site-packages/tensorflow/python/keras/engine/training_utils.py\u001b[0m in \u001b[0;36mcheck_steps_argument\u001b[0;34m(input_data, steps, steps_name)\u001b[0m\n\u001b[1;32m    988\u001b[0m       raise ValueError('When using {input_type} as input to a model, you should'\n\u001b[1;32m    989\u001b[0m                        ' specify the `{steps_name}` argument.'.format(\n\u001b[0;32m--> 990\u001b[0;31m                            input_type=input_type_str, steps_name=steps_name))\n\u001b[0m\u001b[1;32m    991\u001b[0m     \u001b[0;32mreturn\u001b[0m \u001b[0;32mTrue\u001b[0m\u001b[0;34m\u001b[0m\u001b[0;34m\u001b[0m\u001b[0m\n\u001b[1;32m    992\u001b[0m   \u001b[0;32mreturn\u001b[0m \u001b[0;32mFalse\u001b[0m\u001b[0;34m\u001b[0m\u001b[0;34m\u001b[0m\u001b[0m\n",
      "\u001b[0;31mValueError\u001b[0m: When using data tensors as input to a model, you should specify the `steps_per_epoch` argument."
=======
   "execution_count": 10,
   "metadata": {},
   "outputs": [
    {
     "name": "stdout",
     "output_type": "stream",
     "text": [
      "Epoch 1/50\n",
      "11/11 [==============================] - 0s 22ms/step - loss: 2.0348 - mse: 2.0348 - val_loss: 2.3307 - val_mse: 2.3307\n",
      "Epoch 2/50\n",
      "11/11 [==============================] - 0s 7ms/step - loss: 1.1849 - mse: 1.1849 - val_loss: 1.6687 - val_mse: 1.6687\n",
      "Epoch 3/50\n",
      "11/11 [==============================] - 0s 6ms/step - loss: 1.0560 - mse: 1.0560 - val_loss: 1.4975 - val_mse: 1.4975\n",
      "Epoch 4/50\n",
      "11/11 [==============================] - 0s 6ms/step - loss: 0.9629 - mse: 0.9629 - val_loss: 1.4073 - val_mse: 1.4073\n",
      "Epoch 5/50\n",
      "11/11 [==============================] - 0s 6ms/step - loss: 0.9045 - mse: 0.9045 - val_loss: 1.3094 - val_mse: 1.3094\n",
      "Epoch 6/50\n",
      "11/11 [==============================] - 0s 7ms/step - loss: 0.9023 - mse: 0.9023 - val_loss: 1.2502 - val_mse: 1.2502\n",
      "Epoch 7/50\n",
      "11/11 [==============================] - 0s 6ms/step - loss: 0.9441 - mse: 0.9441 - val_loss: 1.2532 - val_mse: 1.2532\n",
      "Epoch 8/50\n",
      "11/11 [==============================] - 0s 6ms/step - loss: 0.8668 - mse: 0.8668 - val_loss: 1.2072 - val_mse: 1.2072\n",
      "Epoch 9/50\n",
      "11/11 [==============================] - 0s 6ms/step - loss: 0.8524 - mse: 0.8524 - val_loss: 1.1546 - val_mse: 1.1546\n",
      "Epoch 10/50\n",
      "11/11 [==============================] - 0s 7ms/step - loss: 0.8269 - mse: 0.8269 - val_loss: 1.1668 - val_mse: 1.1668\n",
      "Epoch 11/50\n",
      "11/11 [==============================] - 0s 6ms/step - loss: 0.8204 - mse: 0.8204 - val_loss: 1.1612 - val_mse: 1.1612\n",
      "Epoch 12/50\n",
      "11/11 [==============================] - 0s 6ms/step - loss: 0.7886 - mse: 0.7886 - val_loss: 1.1613 - val_mse: 1.1613\n",
      "Epoch 13/50\n",
      "11/11 [==============================] - 0s 6ms/step - loss: 0.7938 - mse: 0.7938 - val_loss: 1.1643 - val_mse: 1.1643\n",
      "Epoch 14/50\n",
      "11/11 [==============================] - 0s 7ms/step - loss: 0.8148 - mse: 0.8148 - val_loss: 1.1985 - val_mse: 1.1985\n",
      "Epoch 15/50\n",
      "11/11 [==============================] - 0s 6ms/step - loss: 0.7893 - mse: 0.7893 - val_loss: 1.1557 - val_mse: 1.1557\n",
      "Epoch 16/50\n",
      "11/11 [==============================] - 0s 6ms/step - loss: 0.7501 - mse: 0.7501 - val_loss: 1.1139 - val_mse: 1.1139\n",
      "Epoch 17/50\n",
      "11/11 [==============================] - 0s 6ms/step - loss: 0.7344 - mse: 0.7344 - val_loss: 1.1283 - val_mse: 1.1283\n",
      "Epoch 18/50\n",
      "11/11 [==============================] - 0s 6ms/step - loss: 0.7992 - mse: 0.7992 - val_loss: 1.1457 - val_mse: 1.1457\n",
      "Epoch 19/50\n",
      "11/11 [==============================] - 0s 6ms/step - loss: 0.7645 - mse: 0.7645 - val_loss: 1.1773 - val_mse: 1.1773\n",
      "Epoch 20/50\n",
      "11/11 [==============================] - 0s 6ms/step - loss: 0.7330 - mse: 0.7330 - val_loss: 1.1479 - val_mse: 1.1479\n",
      "Epoch 21/50\n",
      "11/11 [==============================] - 0s 6ms/step - loss: 0.7471 - mse: 0.7471 - val_loss: 1.1486 - val_mse: 1.1486\n",
      "Epoch 22/50\n",
      "11/11 [==============================] - 0s 6ms/step - loss: 0.7382 - mse: 0.7382 - val_loss: 1.1204 - val_mse: 1.1204\n",
      "Epoch 23/50\n",
      "11/11 [==============================] - 0s 7ms/step - loss: 0.6879 - mse: 0.6879 - val_loss: 1.1380 - val_mse: 1.1380\n",
      "Epoch 24/50\n",
      "11/11 [==============================] - 0s 6ms/step - loss: 0.7233 - mse: 0.7233 - val_loss: 1.1529 - val_mse: 1.1529\n",
      "Epoch 25/50\n",
      "11/11 [==============================] - 0s 7ms/step - loss: 0.7055 - mse: 0.7055 - val_loss: 1.1300 - val_mse: 1.1300\n",
      "Epoch 26/50\n",
      "11/11 [==============================] - 0s 6ms/step - loss: 0.6856 - mse: 0.6856 - val_loss: 1.1524 - val_mse: 1.1524\n",
      "Epoch 27/50\n",
      "11/11 [==============================] - 0s 6ms/step - loss: 0.7036 - mse: 0.7036 - val_loss: 1.1611 - val_mse: 1.1611\n",
      "Epoch 28/50\n",
      "11/11 [==============================] - 0s 6ms/step - loss: 0.6815 - mse: 0.6815 - val_loss: 1.1743 - val_mse: 1.1743\n",
      "Epoch 29/50\n",
      "11/11 [==============================] - 0s 6ms/step - loss: 0.7060 - mse: 0.7060 - val_loss: 1.2108 - val_mse: 1.2108\n",
      "Epoch 30/50\n",
      "11/11 [==============================] - 0s 6ms/step - loss: 0.6599 - mse: 0.6599 - val_loss: 1.1628 - val_mse: 1.1628\n",
      "Epoch 31/50\n",
      "11/11 [==============================] - 0s 6ms/step - loss: 0.6628 - mse: 0.6628 - val_loss: 1.2386 - val_mse: 1.2386\n",
      "Epoch 32/50\n",
      "11/11 [==============================] - 0s 6ms/step - loss: 0.6536 - mse: 0.6536 - val_loss: 1.1867 - val_mse: 1.1867\n",
      "Epoch 33/50\n",
      "11/11 [==============================] - 0s 6ms/step - loss: 0.6775 - mse: 0.6775 - val_loss: 1.2543 - val_mse: 1.2543\n",
      "Epoch 34/50\n",
      "11/11 [==============================] - 0s 6ms/step - loss: 0.6708 - mse: 0.6708 - val_loss: 1.2642 - val_mse: 1.2642\n",
      "Epoch 35/50\n",
      "11/11 [==============================] - 0s 7ms/step - loss: 0.6617 - mse: 0.6617 - val_loss: 1.2731 - val_mse: 1.2731\n",
      "Epoch 36/50\n",
      "11/11 [==============================] - 0s 6ms/step - loss: 0.6742 - mse: 0.6742 - val_loss: 1.2942 - val_mse: 1.2942\n",
      "Epoch 37/50\n",
      "11/11 [==============================] - 0s 6ms/step - loss: 0.6344 - mse: 0.6344 - val_loss: 1.3301 - val_mse: 1.3301\n",
      "Epoch 38/50\n",
      "11/11 [==============================] - 0s 6ms/step - loss: 0.6652 - mse: 0.6652 - val_loss: 1.2716 - val_mse: 1.2716\n",
      "Epoch 39/50\n",
      "11/11 [==============================] - 0s 6ms/step - loss: 0.6578 - mse: 0.6578 - val_loss: 1.2950 - val_mse: 1.2950\n",
      "Epoch 40/50\n",
      "11/11 [==============================] - 0s 6ms/step - loss: 0.6864 - mse: 0.6864 - val_loss: 1.4558 - val_mse: 1.4558\n",
      "Epoch 41/50\n",
      "11/11 [==============================] - 0s 6ms/step - loss: 0.6438 - mse: 0.6438 - val_loss: 1.2201 - val_mse: 1.2201\n",
      "Epoch 42/50\n",
      "11/11 [==============================] - 0s 6ms/step - loss: 0.6709 - mse: 0.6709 - val_loss: 1.2673 - val_mse: 1.2673\n",
      "Epoch 43/50\n",
      "11/11 [==============================] - 0s 6ms/step - loss: 0.6357 - mse: 0.6357 - val_loss: 1.3017 - val_mse: 1.3017\n",
      "Epoch 44/50\n",
      "11/11 [==============================] - 0s 6ms/step - loss: 0.6411 - mse: 0.6411 - val_loss: 1.3623 - val_mse: 1.3623\n",
      "Epoch 45/50\n",
      "11/11 [==============================] - 0s 7ms/step - loss: 0.6795 - mse: 0.6795 - val_loss: 1.3521 - val_mse: 1.3521\n",
      "Epoch 46/50\n",
      "11/11 [==============================] - 0s 7ms/step - loss: 0.6551 - mse: 0.6551 - val_loss: 1.9016 - val_mse: 1.9016\n",
      "Epoch 47/50\n",
      "11/11 [==============================] - 0s 6ms/step - loss: 0.5992 - mse: 0.5992 - val_loss: 1.3490 - val_mse: 1.3490\n",
      "Epoch 48/50\n",
      "11/11 [==============================] - 0s 6ms/step - loss: 0.6368 - mse: 0.6368 - val_loss: 1.3285 - val_mse: 1.3285\n",
      "Epoch 49/50\n",
      "11/11 [==============================] - 0s 6ms/step - loss: 0.6589 - mse: 0.6589 - val_loss: 1.3364 - val_mse: 1.3364\n",
      "Epoch 50/50\n",
      "11/11 [==============================] - 0s 6ms/step - loss: 0.5997 - mse: 0.5997 - val_loss: 1.3950 - val_mse: 1.3950\n"
>>>>>>> 51fa3c79a2fdda100f0a519870efbaa10a9fe2b6
     ]
    }
   ],
   "source": [
    "#train model\n",
    "history = model.fit(x, y, validation_split=0.3, epochs=50)"
   ]
  },
  {
   "cell_type": "code",
<<<<<<< HEAD
   "execution_count": null,
   "metadata": {},
   "outputs": [],
=======
   "execution_count": 11,
   "metadata": {},
   "outputs": [
    {
     "data": {
      "image/png": "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\n",
      "text/plain": [
       "<Figure size 432x288 with 1 Axes>"
      ]
     },
     "metadata": {
      "needs_background": "light"
     },
     "output_type": "display_data"
    }
   ],
>>>>>>> 51fa3c79a2fdda100f0a519870efbaa10a9fe2b6
   "source": [
    "#plot traning\n",
    "plt.figure()\n",
    "plt.plot(history.history['loss'], label=\"Training Loss\")\n",
    "plt.plot(history.history['val_loss'], label=\"Validation Loss\")\n",
    "plt.title(\"Loss on Iteration\")\n",
    "plt.xlabel(\"Epoch\")\n",
    "plt.ylabel(\"Loss\")\n",
    "plt.legend()\n",
    "plt.show()"
   ]
  },
  {
   "cell_type": "code",
<<<<<<< HEAD
   "execution_count": null,
   "metadata": {},
   "outputs": [],
=======
   "execution_count": 12,
   "metadata": {},
   "outputs": [
    {
     "data": {
      "image/png": "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\n",
      "text/plain": [
       "<Figure size 432x288 with 1 Axes>"
      ]
     },
     "metadata": {
      "needs_background": "light"
     },
     "output_type": "display_data"
    }
   ],
>>>>>>> 51fa3c79a2fdda100f0a519870efbaa10a9fe2b6
   "source": [
    "#Infer on full dataset\n",
    "#TODO: only infer on validation set\n",
    "Phi_CP = np.array(model(x)).reshape(x.shape[0])\n",
    "\n",
    "#Plot the histogram\n",
    "aco_angle_1 = np.array(df['aco_angle_1'])\n",
    "\n",
    "plt.figure()\n",
    "plt.title(\"Rho decay acoplanarity angles\")\n",
    "plt.hist(Phi_CP, label=\"My Calculation\", alpha=0.625, bins=50)\n",
    "plt.hist(np.array(y), label=\"From .root\", alpha=0.625, bins=50)\n",
    "plt.xlabel(r\"$\\phi_{CP}$\")\n",
    "plt.ylabel(\"Frequency\")\n",
    "plt.grid()\n",
    "plt.legend()\n",
    "plt.savefig(\"KingsleyTask1.png\")\n",
    "plt.show()\n",
    "plt.close()"
   ]
  },
  {
   "cell_type": "code",
<<<<<<< HEAD
   "execution_count": null,
   "metadata": {},
   "outputs": [],
=======
   "execution_count": 13,
   "metadata": {},
   "outputs": [
    {
     "name": "stdout",
     "output_type": "stream",
     "text": [
      "0.6036908626556396 \t 1.5356954336166382\n",
      "0.11198495328426361 \t 1.033384084701538\n",
      "-0.05983341112732887 \t -0.06530626863241196\n",
      "-0.25584426522254944 \t -0.26835376024246216\n",
      "-0.7564237713813782 \t -0.04429579898715019\n",
      "1.0072696208953857 \t 1.2388218641281128\n",
      "0.16391222178936005 \t 1.05690336227417\n",
      "0.26363447308540344 \t 0.18592305481433868\n",
      "0.7212927937507629 \t 1.3973082304000854\n",
      "0.4024439752101898 \t 0.8296767473220825\n"
     ]
    }
   ],
>>>>>>> 51fa3c79a2fdda100f0a519870efbaa10a9fe2b6
   "source": [
    "#print the first few results vs given angles\n",
    "y_print = np.array(y).reshape(y.shape[0])\n",
    "for i in range(10):\n",
<<<<<<< HEAD
    "    print(\"{:.4f} \\t {:.4f}\".format(Phi_CP[i], aco_angle_1[i]))"
   ]
  },
  {
   "cell_type": "code",
   "execution_count": null,
   "metadata": {},
   "outputs": [],
   "source": [
    "(Phi_CP - aco_angle_1)[:10]"
   ]
  },
  {
   "cell_type": "code",
   "execution_count": null,
   "metadata": {},
   "outputs": [],
   "source": [
    "residuals = (Phi_CP - aco_angle_1)\n",
    "print(\"Incorrect {:.2f}% of the time\".format(100*np.count_nonzero(np.round(residuals, 4))/len(residuals)))"
   ]
  },
  {
   "cell_type": "code",
   "execution_count": null,
   "metadata": {},
   "outputs": [],
   "source": [
    "#print first few residuals\n",
    "for i in range(10):\n",
    "    print(\"{:.4f}\".format(residuals[i]))"
=======
    "    print(\"{} \\t {}\".format(Phi_CP[i], y_print[i]))"
>>>>>>> 51fa3c79a2fdda100f0a519870efbaa10a9fe2b6
   ]
  }
 ],
 "metadata": {
  "kernelspec": {
   "display_name": "Python 3",
   "language": "python",
   "name": "python3"
  },
  "language_info": {
   "codemirror_mode": {
    "name": "ipython",
    "version": 3
   },
   "file_extension": ".py",
   "mimetype": "text/x-python",
   "name": "python",
   "nbconvert_exporter": "python",
   "pygments_lexer": "ipython3",
   "version": "3.7.6"
  }
 },
 "nbformat": 4,
 "nbformat_minor": 4
}
