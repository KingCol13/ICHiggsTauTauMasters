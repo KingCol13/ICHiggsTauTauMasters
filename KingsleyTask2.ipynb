{
 "cells": [
  {
   "cell_type": "code",
   "execution_count": 5,
   "metadata": {},
   "outputs": [],
   "source": [
    "import uproot \n",
    "import numpy as np\n",
    "import pandas as pd\n",
    "import tensorflow as tf\n",
    "import matplotlib.pyplot as plt\n",
    "\n",
    "from pylorentz import Momentum4\n",
    "from pylorentz import Position4"
   ]
  },
  {
   "cell_type": "code",
   "execution_count": 6,
   "metadata": {},
   "outputs": [],
   "source": [
    "# stop tensorflow trying to overfill GPU memory\n",
    "gpus = tf.config.experimental.list_physical_devices('GPU')\n",
    "if gpus:\n",
    "  try:\n",
    "    for gpu in gpus:\n",
    "      tf.config.experimental.set_memory_growth(gpu, True)\n",
    "  except RuntimeError as e:\n",
    "    print(e)"
   ]
  },
  {
   "cell_type": "code",
   "execution_count": 7,
   "metadata": {},
   "outputs": [],
   "source": [
    "# loading the tree\n",
    "tree = uproot.open(\"/eos/user/d/dwinterb/SWAN_projects/Masters_CP/MVAFILE_GluGluHToTauTauUncorrelatedDecay_Filtered_tt_2018.root\")[\"ntuple\"]\n",
    "#tree2 = uproot.open(\"/eos/user/d/dwinterb/SWAN_projects/Masters_CP/MVAFILE_VBFHToTauTauUncorrelatedDecay_Filtered_tt_2018.root\")[\"ntuple\"]\n",
    "\n",
    "\n",
    "#These are new trees, added by Danny on 13/10\n",
    "#tree3=uproot.open(\"/eos/user/d/dwinterb/SWAN_projects/Masters_CP/MVAFILE_AllHiggs_tt.root\")[\"ntuple\"]  \n",
    "#note, instead of the first t we can have e,m, different decay modes"
   ]
  },
  {
   "cell_type": "code",
   "execution_count": 12,
   "metadata": {},
   "outputs": [],
   "source": [
    "# define what variables are to be read into the dataframe\n",
    "\n",
    "features = [ \"pi_E_1\", \"pi_px_1\", \"pi_py_1\", \"pi_pz_1\", #leading charged pi 4-momentum\n",
    "              \"pi_E_2\", \"pi_px_2\", \"pi_py_2\", \"pi_pz_2\", #subleading charged pi 4-momentum\n",
    "              \"pi0_E_1\",\"pi0_px_1\",\"pi0_py_1\",\"pi0_pz_1\", #leading neutral pi 4-momentum\n",
    "              \"pi0_E_2\",\"pi0_px_2\",\"pi0_py_2\",\"pi0_pz_2\", #subleading neutral pi 4-momentum\n",
    "              \"ip_x_1\", \"ip_y_1\", \"ip_z_1\",        #leading impact parameter\n",
    "              \"ip_x_2\", \"ip_y_2\", \"ip_z_2\",        #subleading impact parameter\n",
    "              \"y_1_1\", \"y_1_2\"]    # ratios of energies\n",
    "\n",
    "target =          [\"aco_angle_1\"]  #acoplanarity angle\n",
    "    \n",
    "selectors = [ \"tau_decay_mode_1\",\"tau_decay_mode_2\",\n",
    "             \"mva_dm_1\",\"mva_dm_2\"\n",
    "             ]\n",
    "\n",
    "df = tree.pandas.df(features+target+selectors)\n",
    "\n",
    "df = df[\n",
    "      (df[\"tau_decay_mode_1\"] == 1) \n",
    "    & (df[\"tau_decay_mode_2\"] == 1) \n",
    "    & (df[\"mva_dm_1\"] == 1) \n",
    "    & (df[\"mva_dm_2\"] == 1)\n",
    "]\n",
    "#df2 = tree2.pandas.df(variables)\n",
    "\n",
    "#tree3 should be more comprehensive and complete as it includes all decay types and more\n",
    "#info for tau->a1 decays. Again we save the same variables for now\n",
    "\n",
    "#df3 = tree3.pandas.df(variables)\n",
    "\n",
    "#combine VBF and ggH events\n",
    "\n",
    "#df = pd.concat([df,df2], ignore_index=True)"
   ]
  },
  {
   "cell_type": "code",
   "execution_count": 11,
   "metadata": {},
   "outputs": [
    {
     "data": {
      "text/html": [
       "<div>\n",
       "<style scoped>\n",
       "    .dataframe tbody tr th:only-of-type {\n",
       "        vertical-align: middle;\n",
       "    }\n",
       "\n",
       "    .dataframe tbody tr th {\n",
       "        vertical-align: top;\n",
       "    }\n",
       "\n",
       "    .dataframe thead th {\n",
       "        text-align: right;\n",
       "    }\n",
       "</style>\n",
       "<table border=\"1\" class=\"dataframe\">\n",
       "  <thead>\n",
       "    <tr style=\"text-align: right;\">\n",
       "      <th></th>\n",
       "      <th>pi_E_1</th>\n",
       "      <th>pi_px_1</th>\n",
       "      <th>pi_py_1</th>\n",
       "      <th>pi_pz_1</th>\n",
       "      <th>pi_E_2</th>\n",
       "      <th>pi_px_2</th>\n",
       "      <th>pi_py_2</th>\n",
       "      <th>pi_pz_2</th>\n",
       "      <th>pi0_E_1</th>\n",
       "      <th>pi0_px_1</th>\n",
       "      <th>...</th>\n",
       "      <th>pi0_py_2</th>\n",
       "      <th>pi0_pz_2</th>\n",
       "      <th>ip_x_1</th>\n",
       "      <th>ip_y_1</th>\n",
       "      <th>ip_z_1</th>\n",
       "      <th>ip_x_2</th>\n",
       "      <th>ip_y_2</th>\n",
       "      <th>ip_z_2</th>\n",
       "      <th>y_1_1</th>\n",
       "      <th>y_1_2</th>\n",
       "    </tr>\n",
       "    <tr>\n",
       "      <th>entry</th>\n",
       "      <th></th>\n",
       "      <th></th>\n",
       "      <th></th>\n",
       "      <th></th>\n",
       "      <th></th>\n",
       "      <th></th>\n",
       "      <th></th>\n",
       "      <th></th>\n",
       "      <th></th>\n",
       "      <th></th>\n",
       "      <th></th>\n",
       "      <th></th>\n",
       "      <th></th>\n",
       "      <th></th>\n",
       "      <th></th>\n",
       "      <th></th>\n",
       "      <th></th>\n",
       "      <th></th>\n",
       "      <th></th>\n",
       "      <th></th>\n",
       "      <th></th>\n",
       "    </tr>\n",
       "  </thead>\n",
       "  <tbody>\n",
       "    <tr>\n",
       "      <th>4</th>\n",
       "      <td>26.184192</td>\n",
       "      <td>5.249920</td>\n",
       "      <td>-12.394966</td>\n",
       "      <td>-22.458754</td>\n",
       "      <td>52.305565</td>\n",
       "      <td>-10.016787</td>\n",
       "      <td>40.401790</td>\n",
       "      <td>-31.673523</td>\n",
       "      <td>95.932667</td>\n",
       "      <td>20.387663</td>\n",
       "      <td>...</td>\n",
       "      <td>4.944565</td>\n",
       "      <td>-4.242214</td>\n",
       "      <td>-0.000045</td>\n",
       "      <td>0.000480</td>\n",
       "      <td>-0.000170</td>\n",
       "      <td>-0.000894</td>\n",
       "      <td>0.000668</td>\n",
       "      <td>0.000903</td>\n",
       "      <td>0.571162</td>\n",
       "      <td>-0.773942</td>\n",
       "    </tr>\n",
       "    <tr>\n",
       "      <th>15</th>\n",
       "      <td>3.912128</td>\n",
       "      <td>3.186334</td>\n",
       "      <td>0.086207</td>\n",
       "      <td>-2.263873</td>\n",
       "      <td>32.211659</td>\n",
       "      <td>7.872188</td>\n",
       "      <td>29.660602</td>\n",
       "      <td>9.790244</td>\n",
       "      <td>64.282235</td>\n",
       "      <td>52.942869</td>\n",
       "      <td>...</td>\n",
       "      <td>14.794128</td>\n",
       "      <td>4.471416</td>\n",
       "      <td>0.006546</td>\n",
       "      <td>0.000134</td>\n",
       "      <td>0.009108</td>\n",
       "      <td>-0.002586</td>\n",
       "      <td>0.001020</td>\n",
       "      <td>-0.000611</td>\n",
       "      <td>0.885265</td>\n",
       "      <td>-0.339467</td>\n",
       "    </tr>\n",
       "    <tr>\n",
       "      <th>26</th>\n",
       "      <td>20.389432</td>\n",
       "      <td>12.846308</td>\n",
       "      <td>15.714182</td>\n",
       "      <td>1.935544</td>\n",
       "      <td>5.313678</td>\n",
       "      <td>-4.517069</td>\n",
       "      <td>-2.251007</td>\n",
       "      <td>1.656731</td>\n",
       "      <td>35.041365</td>\n",
       "      <td>21.823335</td>\n",
       "      <td>...</td>\n",
       "      <td>-17.362833</td>\n",
       "      <td>13.841466</td>\n",
       "      <td>0.002360</td>\n",
       "      <td>-0.000295</td>\n",
       "      <td>-0.011431</td>\n",
       "      <td>0.004199</td>\n",
       "      <td>0.003093</td>\n",
       "      <td>0.014879</td>\n",
       "      <td>0.264328</td>\n",
       "      <td>0.760691</td>\n",
       "    </tr>\n",
       "    <tr>\n",
       "      <th>39</th>\n",
       "      <td>4.532329</td>\n",
       "      <td>-1.060811</td>\n",
       "      <td>2.501133</td>\n",
       "      <td>-3.625128</td>\n",
       "      <td>11.348225</td>\n",
       "      <td>-2.284085</td>\n",
       "      <td>-6.326895</td>\n",
       "      <td>-9.138714</td>\n",
       "      <td>102.977036</td>\n",
       "      <td>-25.022726</td>\n",
       "      <td>...</td>\n",
       "      <td>-48.919660</td>\n",
       "      <td>-71.756611</td>\n",
       "      <td>-0.007268</td>\n",
       "      <td>-0.000030</td>\n",
       "      <td>0.002007</td>\n",
       "      <td>0.009565</td>\n",
       "      <td>-0.000590</td>\n",
       "      <td>-0.001876</td>\n",
       "      <td>0.915685</td>\n",
       "      <td>0.772376</td>\n",
       "    </tr>\n",
       "    <tr>\n",
       "      <th>55</th>\n",
       "      <td>77.929050</td>\n",
       "      <td>28.100279</td>\n",
       "      <td>42.522791</td>\n",
       "      <td>58.950012</td>\n",
       "      <td>72.891011</td>\n",
       "      <td>8.689332</td>\n",
       "      <td>15.745896</td>\n",
       "      <td>70.637400</td>\n",
       "      <td>68.260095</td>\n",
       "      <td>25.125369</td>\n",
       "      <td>...</td>\n",
       "      <td>51.238417</td>\n",
       "      <td>232.796864</td>\n",
       "      <td>-0.001563</td>\n",
       "      <td>0.000772</td>\n",
       "      <td>0.000324</td>\n",
       "      <td>-0.020295</td>\n",
       "      <td>0.027176</td>\n",
       "      <td>-0.004810</td>\n",
       "      <td>-0.066140</td>\n",
       "      <td>0.534360</td>\n",
       "    </tr>\n",
       "  </tbody>\n",
       "</table>\n",
       "<p>5 rows × 24 columns</p>\n",
       "</div>"
      ],
      "text/plain": [
       "          pi_E_1    pi_px_1    pi_py_1    pi_pz_1     pi_E_2    pi_px_2  \\\n",
       "entry                                                                     \n",
       "4      26.184192   5.249920 -12.394966 -22.458754  52.305565 -10.016787   \n",
       "15      3.912128   3.186334   0.086207  -2.263873  32.211659   7.872188   \n",
       "26     20.389432  12.846308  15.714182   1.935544   5.313678  -4.517069   \n",
       "39      4.532329  -1.060811   2.501133  -3.625128  11.348225  -2.284085   \n",
       "55     77.929050  28.100279  42.522791  58.950012  72.891011   8.689332   \n",
       "\n",
       "         pi_py_2    pi_pz_2     pi0_E_1   pi0_px_1  ...   pi0_py_2  \\\n",
       "entry                                               ...              \n",
       "4      40.401790 -31.673523   95.932667  20.387663  ...   4.944565   \n",
       "15     29.660602   9.790244   64.282235  52.942869  ...  14.794128   \n",
       "26     -2.251007   1.656731   35.041365  21.823335  ... -17.362833   \n",
       "39     -6.326895  -9.138714  102.977036 -25.022726  ... -48.919660   \n",
       "55     15.745896  70.637400   68.260095  25.125369  ...  51.238417   \n",
       "\n",
       "         pi0_pz_2    ip_x_1    ip_y_1    ip_z_1    ip_x_2    ip_y_2    ip_z_2  \\\n",
       "entry                                                                           \n",
       "4       -4.242214 -0.000045  0.000480 -0.000170 -0.000894  0.000668  0.000903   \n",
       "15       4.471416  0.006546  0.000134  0.009108 -0.002586  0.001020 -0.000611   \n",
       "26      13.841466  0.002360 -0.000295 -0.011431  0.004199  0.003093  0.014879   \n",
       "39     -71.756611 -0.007268 -0.000030  0.002007  0.009565 -0.000590 -0.001876   \n",
       "55     232.796864 -0.001563  0.000772  0.000324 -0.020295  0.027176 -0.004810   \n",
       "\n",
       "          y_1_1     y_1_2  \n",
       "entry                      \n",
       "4      0.571162 -0.773942  \n",
       "15     0.885265 -0.339467  \n",
       "26     0.264328  0.760691  \n",
       "39     0.915685  0.772376  \n",
       "55    -0.066140  0.534360  \n",
       "\n",
       "[5 rows x 24 columns]"
      ]
     },
     "execution_count": 11,
     "metadata": {},
     "output_type": "execute_result"
    }
   ],
   "source": [
    "df.head()"
   ]
  },
  {
   "cell_type": "code",
   "execution_count": 24,
   "metadata": {},
   "outputs": [],
   "source": [
    "# Create x and y\n",
    "x = tf.convert_to_tensor(df[features], dtype=\"float32\")\n",
    "y = tf.convert_to_tensor(df[target], dtype=\"float32\")"
   ]
  },
  {
   "cell_type": "code",
   "execution_count": 29,
   "metadata": {},
   "outputs": [],
   "source": [
    "#define NN model and compile\n",
    "model = tf.keras.models.Sequential([\n",
    "    #tf.keras.layers.Flatten(),#input_shape=(24)),\n",
    "    tf.keras.layers.Dense(30, activation='relu'),\n",
    "    tf.keras.layers.Dense(30, activation='relu'),\n",
    "    #tf.keras.layers.Dropout(0.2),\n",
    "    tf.keras.layers.Dense(1)\n",
    "])\n",
    "\n",
    "loss_fn = tf.keras.losses.MeanSquaredError()\n",
    "model.compile(optimizer='adam',\n",
    "              loss=loss_fn,\n",
    "              metrics=['mse'])"
   ]
  },
  {
   "cell_type": "code",
   "execution_count": 30,
   "metadata": {},
   "outputs": [
    {
     "name": "stdout",
     "output_type": "stream",
     "text": [
      "Epoch 1/5\n",
      "3183/3183 [==============================] - 5s 2ms/step - loss: 5.1249 - mse: 5.1249 - val_loss: 3.5407 - val_mse: 3.5407\n",
      "Epoch 2/5\n",
      "3183/3183 [==============================] - 5s 2ms/step - loss: 3.5225 - mse: 3.5225 - val_loss: 3.6208 - val_mse: 3.6208\n",
      "Epoch 3/5\n",
      "3183/3183 [==============================] - 5s 2ms/step - loss: 3.3799 - mse: 3.3799 - val_loss: 3.3416 - val_mse: 3.3416\n",
      "Epoch 4/5\n",
      "3183/3183 [==============================] - 5s 2ms/step - loss: 3.3342 - mse: 3.3342 - val_loss: 3.3095 - val_mse: 3.3095\n",
      "Epoch 5/5\n",
      "3183/3183 [==============================] - 5s 2ms/step - loss: 3.3191 - mse: 3.3191 - val_loss: 3.3036 - val_mse: 3.3036\n"
     ]
    }
   ],
   "source": [
    "#train model\n",
    "history = model.fit(x, y, validation_split=0.3, epochs=5)"
   ]
  },
  {
   "cell_type": "code",
   "execution_count": 34,
   "metadata": {},
   "outputs": [
    {
     "data": {
      "image/png": "[encoded data removed]",
      "text/plain": [
       "<Figure size 432x288 with 1 Axes>"
      ]
     },
     "metadata": {
      "needs_background": "light"
     },
     "output_type": "display_data"
    }
   ],
   "source": [
    "#plot traning\n",
    "plt.figure()\n",
    "plt.plot(history.history['loss'], label=\"Training Loss\")\n",
    "plt.plot(history.history['val_loss'], label=\"Validation Loss\")\n",
    "plt.title(\"Loss on Iteration\")\n",
    "plt.xlabel(\"Epoch\")\n",
    "plt.ylabel(\"Loss\")\n",
    "plt.legend()\n",
    "plt.show()"
   ]
  },
  {
   "cell_type": "code",
   "execution_count": 36,
   "metadata": {},
   "outputs": [
    {
     "data": {
      "image/png": "[encoded data removed]",
      "text/plain": [
       "<Figure size 432x288 with 1 Axes>"
      ]
     },
     "metadata": {
      "needs_background": "light"
     },
     "output_type": "display_data"
    }
   ],
   "source": [
    "#Infer on full dataset\n",
    "#TODO: only infer on validation set\n",
    "Phi_CP = np.array(model(x))\n",
    "\n",
    "#Plot the histogram\n",
    "aco_angle_1 = np.array(df['aco_angle_1'])\n",
    "\n",
    "plt.figure()\n",
    "plt.title(\"Rho decay acoplanarity angles\")\n",
    "plt.hist(Phi_CP, label=\"My Calculation\", alpha=0.625, bins=50)\n",
    "plt.hist(aco_angle_1, label=\"From .root\", alpha=0.625, bins=50)\n",
    "plt.xlabel(r\"$\\phi_{CP}$\")\n",
    "plt.ylabel(\"Frequency\")\n",
    "plt.grid()\n",
    "plt.legend()\n",
    "plt.savefig(\"KingsleyTask1.png\")\n",
    "plt.show()\n",
    "plt.close()"
   ]
  },
  {
   "cell_type": "code",
   "execution_count": 49,
   "metadata": {},
   "outputs": [
    {
     "name": "stdout",
     "output_type": "stream",
     "text": [
      "5.9279 \t 5.9279\n",
      "5.0154 \t 5.0154\n",
      "0.1221 \t 3.0195\n",
      "0.4909 \t 2.6507\n",
      "3.0577 \t 3.0577\n",
      "4.0362 \t 5.3886\n",
      "4.3666 \t 5.0581\n",
      "3.4759 \t 3.4759\n",
      "3.7483 \t 5.6765\n",
      "4.7794 \t 4.6454\n"
     ]
    }
   ],
   "source": [
    "#print the first few results vs given angles\n",
    "for i in range(10):\n",
    "    print(\"{:.4f} \\t {:.4f}\".format(Phi_CP[i], aco_angle_1[i]))"
   ]
  },
  {
   "cell_type": "code",
   "execution_count": 53,
   "metadata": {},
   "outputs": [
    {
     "data": {
      "text/plain": [
       "array([ 1.68753900e-14,  1.15463195e-14, -2.89747202e+00, -2.15976258e+00,\n",
       "        1.88737914e-13, -1.35242812e+00, -6.91484309e-01, -5.77315973e-15,\n",
       "       -1.92823855e+00,  1.34072471e-01])"
      ]
     },
     "execution_count": 53,
     "metadata": {},
     "output_type": "execute_result"
    }
   ],
   "source": [
    "(Phi_CP - aco_angle_1)[:10]"
   ]
  },
  {
   "cell_type": "code",
   "execution_count": 55,
   "metadata": {},
   "outputs": [
    {
     "name": "stdout",
     "output_type": "stream",
     "text": [
      "Incorrect 48.82% of the time\n"
     ]
    }
   ],
   "source": [
    "residuals = (Phi_CP - aco_angle_1)\n",
    "print(\"Incorrect {:.2f}% of the time\".format(100*np.count_nonzero(np.round(residuals, 4))/len(residuals)))"
   ]
  },
  {
   "cell_type": "code",
   "execution_count": 56,
   "metadata": {},
   "outputs": [
    {
     "name": "stdout",
     "output_type": "stream",
     "text": [
      "0.0000\n",
      "0.0000\n",
      "-2.8975\n",
      "-2.1598\n",
      "0.0000\n",
      "-1.3524\n",
      "-0.6915\n",
      "-0.0000\n",
      "-1.9282\n",
      "0.1341\n"
     ]
    }
   ],
   "source": [
    "#print first few residuals\n",
    "for i in range(10):\n",
    "    print(\"{:.4f}\".format(residuals[i]))"
   ]
  }
 ],
 "metadata": {
  "kernelspec": {
   "display_name": "Python 3",
   "language": "python",
   "name": "python3"
  },
  "language_info": {
   "codemirror_mode": {
    "name": "ipython",
    "version": 3
   },
   "file_extension": ".py",
   "mimetype": "text/x-python",
   "name": "python",
   "nbconvert_exporter": "python",
   "pygments_lexer": "ipython3",
   "version": "3.8.5"
  }
 },
 "nbformat": 4,
 "nbformat_minor": 4
}
