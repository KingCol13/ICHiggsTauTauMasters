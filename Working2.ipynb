{
 "cells": [
  {
   "cell_type": "code",
   "execution_count": 1,
   "metadata": {},
   "outputs": [],
   "source": [
    "# In this example we will train 2 BDTs to differentiate between a CP-even and a CP-odd Higgs for the rhorho channel\n",
    "# One BDT will use only 1 variable analogous to current methodology, the second BDT will include additional information\n",
    "# to help improve the seperation "
   ]
  },
  {
   "cell_type": "markdown",
   "metadata": {},
   "source": [
    "This is the Jupyter Notebook I will use for the Master's project, it is based on Example 1 also available in the same directory."
   ]
  },
  {
   "cell_type": "code",
   "execution_count": 2,
   "metadata": {},
   "outputs": [
    {
     "name": "stdout",
     "output_type": "stream",
     "text": [
      "Requirement already satisfied: uproot in /cvmfs/sft.cern.ch/lcg/views/LCG_97apython3/x86_64-centos7-gcc8-opt/lib/python3.7/site-packages (3.10.12)\n",
      "Requirement already satisfied: numpy>=1.13.1 in /cvmfs/sft.cern.ch/lcg/views/LCG_97apython3/x86_64-centos7-gcc8-opt/lib/python3.7/site-packages (from uproot) (1.16.4)\n",
      "Requirement already satisfied: awkward<1.0,>=0.12.0 in /cvmfs/sft.cern.ch/lcg/views/LCG_97apython3/x86_64-centos7-gcc8-opt/lib/python3.7/site-packages (from uproot) (0.12.17)\n",
      "Requirement already satisfied: uproot-methods>=0.7.0 in /cvmfs/sft.cern.ch/lcg/views/LCG_97apython3/x86_64-centos7-gcc8-opt/lib/python3.7/site-packages (from uproot) (0.7.1)\n",
      "Requirement already satisfied: cachetools in /cvmfs/sft.cern.ch/lcg/views/LCG_97apython3/x86_64-centos7-gcc8-opt/lib/python3.7/site-packages (from uproot) (3.1.1)\n"
     ]
    }
   ],
   "source": [
    "!pip install --user uproot\n",
    "import sys\n",
    "sys.path.append(\"/eos/home-m/acraplet/.local/lib/python2.7/site-packages\")"
   ]
  },
  {
   "cell_type": "code",
   "execution_count": 3,
   "metadata": {},
   "outputs": [],
   "source": [
    "import uproot \n",
    "import numpy as np\n",
    "import pandas as pd\n",
    "from sklearn.model_selection import train_test_split\n",
    "from sklearn.metrics import classification_report, roc_curve, roc_auc_score\n",
    "import xgboost as xgb\n",
    "import matplotlib as mpl\n",
    "#mpl.use('Agg')\n",
    "import matplotlib.pyplot as plt\n"
   ]
  },
  {
   "cell_type": "code",
   "execution_count": 4,
   "metadata": {},
   "outputs": [],
   "source": [
    "# loading the tree\n",
    "tree = uproot.open(\"/eos/user/d/dwinterb/SWAN_projects/Masters_CP/MVAFILE_GluGluHToTauTauUncorrelatedDecay_Filtered_tt_2018.root\")[\"ntuple\"]\n",
    "tree2 = uproot.open(\"/eos/user/d/dwinterb/SWAN_projects/Masters_CP/MVAFILE_VBFHToTauTauUncorrelatedDecay_Filtered_tt_2018.root\")[\"ntuple\"]\n",
    "\n",
    "\n",
    "#These are new trees, added by Danny on 13/10\n",
    "tree3=uproot.open(\"/eos/user/d/dwinterb/SWAN_projects/Masters_CP/MVAFILE_AllHiggs_tt.root\")[\"ntuple\"]  \n",
    "#note, instead of the first t we can have e,m, different decay modes"
   ]
  },
  {
   "cell_type": "code",
   "execution_count": 5,
   "metadata": {},
   "outputs": [],
   "source": [
    "# define what variables are to be read into the dataframe\n",
    "\n",
    "variables = [  \"wt_cp_sm\", \"wt_cp_ps\", \"wt_cp_mm\",\n",
    "                \"rand\",\n",
    "                \"pt_1\",\"pt_2\",\n",
    "                \"met\",\n",
    "                \"aco_angle_1\", \"aco_angle_5\", \"aco_angle_7\", \"aco_angle_6\",\n",
    "                \"y_1_1\", \"y_1_2\",\n",
    "                \"ip_sig_1\", \"ip_sig_2\",\n",
    "                \"mva_dm_1\",\"mva_dm_2\",\n",
    "                \"tau_decay_mode_1\",\"tau_decay_mode_2\",\n",
    "                \"deepTauVsJets_medium_1\",\"deepTauVsJets_medium_2\",\n",
    "                \"deepTauVsEle_vvloose_1\",\"deepTauVsEle_vvloose_2\",\n",
    "                \"deepTauVsMu_vloose_1\",\"deepTauVsMu_vloose_2\",\n",
    "                \"trg_doubletau\",\n",
    "             ]\n",
    "\n",
    "df = tree.pandas.df(variables)\n",
    "\n",
    "df2 = tree2.pandas.df(variables)\n",
    "\n",
    "#tree3 should be more comprehensive and complete as it includes all decay types and more\n",
    "#info for tau->a1 decays. Again we save the same variables for now\n",
    "\n",
    "#df3 = tree3.pandas.df(variables)\n",
    "\n",
    "#combine VBF and ggH events\n",
    "\n",
    "df = pd.concat([df,df2], ignore_index=True)\n",
    "\n"
   ]
  },
  {
   "cell_type": "markdown",
   "metadata": {},
   "source": [
    "We will keep working on the first tree for now (because everything is set up for it but in the future it'll be useful to look at the other ones)"
   ]
  },
  {
   "cell_type": "code",
   "execution_count": 6,
   "metadata": {},
   "outputs": [],
   "source": [
    "# apply some preselections, these selections are used to mimic those used \n",
    "#in the analysis and to select only rhorho events\n",
    "# also use random number \"rand\" and tau spinner weights \"wt_cp_{sm,ps,mm}\" \n",
    "#to select a sample of CP-even and CP-odd\n",
    "# like events. the weights go beween 0 and 2 so by dividing by 2 \n",
    "#we can interpret these as probabilities and select\n",
    "# CP-even(odd) events if the rand is less than this probability \n",
    "\n",
    "\n",
    "import random\n",
    "random.seed(123456)\n",
    "\n",
    "df_1 = df[\n",
    "      (df[\"tau_decay_mode_1\"] == 1) \n",
    "    & (df[\"tau_decay_mode_2\"] == 1) \n",
    "    & (df[\"mva_dm_1\"] == 1) \n",
    "    & (df[\"mva_dm_2\"] == 1)\n",
    "    # comment some selections to help with stats\n",
    "    #& (df[\"deepTauVsJets_medium_1\"] > 0.5) \n",
    "    #& (df[\"deepTauVsEle_vvloose_1\"] > 0.5)\n",
    "    #& (df[\"deepTauVsMu_vloose_1\"] > 0.5)\n",
    "    #& (df[\"deepTauVsJets_medium_2\"] > 0.5) \n",
    "    #& (df[\"deepTauVsEle_vvloose_2\"] > 0.5)\n",
    "    #& (df[\"deepTauVsMu_vloose_2\"] > 0.5)\n",
    "    #& (df[\"trg_doubletau\"] > 0.5)\n",
    "]\n",
    "\n",
    "df_ps = df_1[\n",
    "      (df_1[\"rand\"]<df_1[\"wt_cp_ps\"]/2)     #a data frame only including the pseudoscalars\n",
    "]\n",
    "\n",
    "df_sm = df_1[\n",
    "      (df_1[\"rand\"]<df_1[\"wt_cp_sm\"]/2)     #data frame only including the scalars\n",
    "]\n",
    "\n",
    "\n"
   ]
  },
  {
   "cell_type": "code",
   "execution_count": 7,
   "metadata": {
    "scrolled": false
   },
   "outputs": [],
   "source": [
    "# create target labels (y)\n",
    "         \n",
    "# prepare the target labels\n",
    "y_sm = pd.DataFrame(np.ones(df_sm.shape[0]))\n",
    "y_ps = pd.DataFrame(np.zeros(df_ps.shape[0]))\n",
    "\n",
    "y = pd.concat([y_sm, y_ps])  #is this just about having the right shape ?\n",
    "y.columns = [\"class\"]\n",
    "\n",
    "# prepare the dataframe to use in training\n",
    "X = pd.concat([df_sm, df_ps])\n",
    "\n",
    "# drop any other variables that aren't required in training\n",
    "\n",
    "X2 = X.drop([\n",
    "            \"wt_cp_sm\",\"wt_cp_ps\",\"wt_cp_mm\", \"rand\",\n",
    "            \"tau_decay_mode_1\",\"tau_decay_mode_2\",\"mva_dm_1\",\"mva_dm_2\",\n",
    "            \"deepTauVsJets_medium_1\",\"deepTauVsJets_medium_2\",\n",
    "            \"deepTauVsEle_vvloose_1\",\"deepTauVsEle_vvloose_2\",\n",
    "            \"deepTauVsMu_vloose_1\",\"deepTauVsMu_vloose_2\",\n",
    "            \"trg_doubletau\",\n",
    "           ], axis=1).reset_index(drop=True) \n",
    "\n",
    "# now we create a seperate version of X where we drop all variables except for aco_angle_1 \n",
    "# which is the most sensitive simple variable\n",
    "\n",
    "X1 = X2.drop(X2.columns.difference([\"aco_angle_1\"]), axis=1).reset_index(drop=True) \n",
    "\n",
    "\n",
    "#how do we print the dimensions of a panda object ? I would like to see if we indeed only\n",
    "#have 'aco_angle_1' on the X1 variable."
   ]
  },
  {
   "cell_type": "code",
   "execution_count": 8,
   "metadata": {},
   "outputs": [],
   "source": [
    "# define function to plot 'signal' vs 'background' for a specified variables\n",
    "# useful to check whether a variable gives some separation between\n",
    "# signal and background states\n",
    "def plot_signal_background(data1, data2, column,\n",
    "                        bins=100, x_uplim=0, **kwargs):\n",
    "\n",
    "    if \"alpha\" not in kwargs:  #just setting the transparency of columns\n",
    "        kwargs[\"alpha\"] = 0.5\n",
    "\n",
    "    df1 = data1[column]\n",
    "    df2 = data2[column]\n",
    "\n",
    "    fig, ax = plt.subplots()\n",
    "    df1 = df1.sample(3000, random_state=1234)   #we only take 3000 points\n",
    "    df2 = df2.sample(3000, random_state=1234)\n",
    "    low = max(min(df1.min(), df2.min()),-5)     \n",
    "    high = max(df1.max(), df2.max())\n",
    "    \n",
    "    if x_uplim != 0: high = x_uplim #you can choose where you plot from\n",
    "\n",
    "    ax.hist(df1, bins=bins, range=(low,high), **kwargs,label='Data1')\n",
    "    ax.hist(df2, bins=bins, range=(low,high), **kwargs,label='Data2')\n",
    "    \n",
    "    if x_uplim != 0:\n",
    "        ax.set_xlim(0,x_uplim)\n",
    "        \n",
    "    plt.title('Difference between data 1 and data 2 for variable %s'%column,weight='bold')\n",
    "    plt.xlabel('%s'%key)\n",
    "    plt.ylabel('Occurences out of 3000')\n",
    "    plt.grid()\n",
    "    plt.legend()\n",
    "\n",
    "    # ax.set_yscale('log')\n"
   ]
  },
  {
   "cell_type": "code",
   "execution_count": 9,
   "metadata": {
    "scrolled": false
   },
   "outputs": [
    {
     "data": {
      "image/png": "[encoded data removed]",
      "text/plain": [
       "<Figure size 432x288 with 1 Axes>"
      ]
     },
     "metadata": {
      "needs_background": "light"
     },
     "output_type": "display_data"
    },
    {
     "data": {
      "image/png": "[encoded data removed]",
      "text/plain": [
       "<Figure size 432x288 with 1 Axes>"
      ]
     },
     "metadata": {
      "needs_background": "light"
     },
     "output_type": "display_data"
    },
    {
     "data": {
      "image/png": "[encoded data removed]",
      "text/plain": [
       "<Figure size 432x288 with 1 Axes>"
      ]
     },
     "metadata": {
      "needs_background": "light"
     },
     "output_type": "display_data"
    },
    {
     "data": {
      "image/png": "[encoded data removed]",
      "text/plain": [
       "<Figure size 432x288 with 1 Axes>"
      ]
     },
     "metadata": {
      "needs_background": "light"
     },
     "output_type": "display_data"
    },
    {
     "data": {
      "image/png": "[encoded data removed]",
      "text/plain": [
       "<Figure size 432x288 with 1 Axes>"
      ]
     },
     "metadata": {
      "needs_background": "light"
     },
     "output_type": "display_data"
    },
    {
     "data": {
      "image/png": "[encoded data removed]",
      "text/plain": [
       "<Figure size 432x288 with 1 Axes>"
      ]
     },
     "metadata": {
      "needs_background": "light"
     },
     "output_type": "display_data"
    },
    {
     "data": {
      "image/png": "[encoded data removed]",
      "text/plain": [
       "<Figure size 432x288 with 1 Axes>"
      ]
     },
     "metadata": {
      "needs_background": "light"
     },
     "output_type": "display_data"
    },
    {
     "data": {
      "image/png": "[encoded data removed]",
      "text/plain": [
       "<Figure size 432x288 with 1 Axes>"
      ]
     },
     "metadata": {
      "needs_background": "light"
     },
     "output_type": "display_data"
    },
    {
     "data": {
      "image/png": "[encoded data removed]",
      "text/plain": [
       "<Figure size 432x288 with 1 Axes>"
      ]
     },
     "metadata": {
      "needs_background": "light"
     },
     "output_type": "display_data"
    },
    {
     "data": {
      "image/png": "[encoded data removed]",
      "text/plain": [
       "<Figure size 432x288 with 1 Axes>"
      ]
     },
     "metadata": {
      "needs_background": "light"
     },
     "output_type": "display_data"
    },
    {
     "data": {
      "image/png": "[encoded data removed]",
      "text/plain": [
       "<Figure size 432x288 with 1 Axes>"
      ]
     },
     "metadata": {
      "needs_background": "light"
     },
     "output_type": "display_data"
    }
   ],
   "source": [
    "# make plots of all variables\n",
    "\n",
    "for key, values in X2.iteritems():\n",
    "    #print(key)\n",
    "    plot_signal_background(df_ps, df_sm, key, bins=100)\n",
    "\n",
    "plt.savefig('Ps_SM_sig_bck_%s.png'%key) #put in the loop to have everything"
   ]
  },
  {
   "cell_type": "markdown",
   "metadata": {},
   "source": [
    "## Task 1: Calculate the acoplanary angles"
   ]
  },
  {
   "cell_type": "markdown",
   "metadata": {},
   "source": [
    "Before any traning, let's try and reconstruct aco_angle_1 from the low level variable. \n",
    "$\\mathbf{\\lambda}^{\\pm}=(0,\\mathbf{j}^\\pm)$ where $\\mathbf{j}^\\pm$ is the impact parameter vector defined as the vector btw the primary vertex (PV) and the point of closest approach (PCA).\n",
    "\n",
    "Then we need to boost $\\mathbf{\\lambda}^{\\pm}$ into the zero momentum frame (ZMF) thus giving $\\mathbf{\\lambda}^{*\\pm}$. I will need to code a function to boost any four vector into the pion's ZMF. \n",
    "\n",
    "We will also need $\\mathbf{q}^{*\\pm}$ are the four-vector for charged pions, boosted in the ZMF. \n",
    "\n",
    "After that we will calculate $\\mathbf{\\lambda}^{*\\pm}_{\\perp}$ the transverse component of $\\mathbf{\\lambda}^{*\\pm}$ w.r.t. $\\mathbf{q}^{*\\pm}$. \n",
    "\n",
    "Finally, the acoplanary angle $\\phi_{CP}$ is definied by \n",
    "\n",
    "$\\phi_{\\mathrm{CP}}=\\left\\{\\begin{array}{ll} \\phi^{*} &  \\text { if } O^{*} \\geq 0 \\\\  360^{\\circ}-\\phi^{*} & \\text { if } O^{*}<0 \\end{array}\\right\\}$\n",
    "\n",
    "$\\phi^{*}=\\arccos \\left(\\hat{\\lambda}_{\\perp}^{*+} \\cdot \\hat{\\lambda}_{\\perp}^{*-}\\right)$\n",
    "\n",
    "with $O^{*}=\\hat{q}^{*-} \\cdot\\left(\\hat{\\lambda}_{\\perp}^{*+} \\times \\hat{\\lambda}_{\\perp}^{*-}\\right)$.\n",
    "\n",
    "\n",
    "Start with $\\mathbf{j}^\\pm$, check what we have in terms of available informations."
   ]
  },
  {
   "cell_type": "code",
   "execution_count": 10,
   "metadata": {},
   "outputs": [],
   "source": [
    "# The impact parameter vector for the leading and sub-leading are given by ip_{x,y,z}_{1,2}\n",
    "\n",
    "#ip_sig_{1,2} gives the significance of the impact paramter, will be usefull in future.\n",
    "\n",
    "#Now define a new panda dataframe, which I'll only use to get out the acoplanary angle\n",
    "#using low level variables (maybe we'll need to reconstruct the impact parameter vector \n",
    "#as well but I don't think that this is usefull just yet).\n",
    "\n",
    "variables4 = [\"ip_x_1\",\"ip_y_1\",\"ip_z_1\",\n",
    "              \"ip_x_2\",\"ip_y_2\",\"ip_z_2\",\n",
    "              \"aco_angle_1\", \n",
    "              \"pi_E_1\",\"pi_px_1\",\"pi_py_1\",\"pi_pz_1\",\n",
    "              \"pi_E_2\",\"pi_px_2\",\"pi_py_2\",\"pi_pz_2\",\n",
    "              \"tau_decay_mode_1\",\"tau_decay_mode_2\",\n",
    "              \"mva_dm_1\",\"mva_dm_2\",\n",
    "              \"pi0_E_1\",\"pi0_px_1\",\"pi0_py_1\",\"pi0_pz_1\",\n",
    "              \"pi0_E_2\",\"pi0_px_2\",\"pi0_py_2\",\"pi0_pz_2\",\n",
    "              \"y_1_1\",\"y_1_2\"\n",
    "              \n",
    "             ]\n",
    "\n",
    "\n",
    "df4 = tree.pandas.df(variables4)\n",
    "\n",
    "df4 = df4[\n",
    "      (df4[\"tau_decay_mode_1\"] == 1) \n",
    "    & (df4[\"tau_decay_mode_2\"] == 1) \n",
    "    & (df4[\"mva_dm_1\"] == 1) \n",
    "    & (df4[\"mva_dm_2\"] == 1)\n",
    "]\n",
    "\n",
    "#keep that ??    \n",
    "\n",
    "#note: maybe we'll have to apply some cuts, to not get the a1 for example whose \n",
    "# decays are more complicated\n"
   ]
  },
  {
   "cell_type": "code",
   "execution_count": 11,
   "metadata": {},
   "outputs": [
    {
     "name": "stdout",
     "output_type": "stream",
     "text": [
      "Requirement already satisfied: pylorentz in /eos/home-a/acraplet/.local/lib/python3.7/site-packages (0.3.3)\r\n",
      "Requirement already satisfied: numpy in /cvmfs/sft.cern.ch/lcg/views/LCG_97apython3/x86_64-centos7-gcc8-opt/lib/python3.7/site-packages (from pylorentz) (1.16.4)\r\n"
     ]
    }
   ],
   "source": [
    "#Let's try and use the pylorentz module for performing boosts\n",
    "# more info: https://gitlab.sauerburger.com/frank/pylorentz/-/blob/master/pylorentz/__init__.py\n",
    "\n",
    "!pip install --user pylorentz\n",
    "\n",
    "from pylorentz import Momentum4\n",
    "from pylorentz import Vector4\n",
    "from pylorentz import Position4"
   ]
  },
  {
   "cell_type": "code",
   "execution_count": 28,
   "metadata": {},
   "outputs": [],
   "source": [
    "#Some geometrical functions\n",
    "\n",
    "def cross_product(vector3_1,vector3_2):\n",
    "    if len(vector3_1)!=3 or len(vector3_1)!=3:\n",
    "        print('These are not 3D arrays !')\n",
    "    x_perp_vector=vector3_1[1]*vector3_2[2]-vector3_1[2]*vector3_2[1]\n",
    "    y_perp_vector=vector3_1[2]*vector3_2[0]-vector3_1[0]*vector3_2[2]\n",
    "    z_perp_vector=vector3_1[0]*vector3_2[1]-vector3_1[1]*vector3_2[0]\n",
    "    return np.array([x_perp_vector,y_perp_vector,z_perp_vector])\n",
    "\n",
    "def dot_product(vector1,vector2):\n",
    "    if len(vector1)!=len(vector2):\n",
    "        raise Arrays_of_different_size\n",
    "    prod=0\n",
    "    for i in range(len(vector1)):\n",
    "        prod=prod+vector1[i]*vector2[i]\n",
    "    return prod\n",
    "\n",
    "\n",
    "def norm(vector):\n",
    "    if len(vector)!=3:\n",
    "        print('This is only for a 3d vector')\n",
    "    return np.sqrt(vector[0]**2+vector[1]**2+vector[2]**2)"
   ]
  },
  {
   "cell_type": "code",
   "execution_count": 80,
   "metadata": {},
   "outputs": [],
   "source": [
    "#HERE DEFINE ALL USEFULL 4VECTORS\n",
    "\n",
    "#Need convert the 4 Vector into a 4 momenta ?\n",
    "pi_1_4Mom=Momentum4(df4[\"pi_E_1\"],df4[\"pi_px_1\"],df4[\"pi_py_1\"],df4[\"pi_pz_1\"])\n",
    "pi_2_4Mom=Momentum4(df4[\"pi_E_2\"],df4[\"pi_px_2\"],df4[\"pi_py_2\"],df4[\"pi_pz_2\"])\n",
    "\n",
    "#Same for the pi0\n",
    "pi0_1_4Mom=Momentum4(df4[\"pi0_E_1\"],df4[\"pi0_px_1\"],df4[\"pi0_py_1\"],df4[\"pi0_pz_1\"])\n",
    "pi0_2_4Mom=Momentum4(df4[\"pi0_E_2\"],df4[\"pi0_px_2\"],df4[\"pi0_py_2\"],df4[\"pi0_pz_2\"])\n"
   ]
  },
  {
   "cell_type": "code",
   "execution_count": 84,
   "metadata": {},
   "outputs": [
    {
     "name": "stdout",
     "output_type": "stream",
     "text": [
      "[ 5.50583093  5.2545177  -2.18931145 ...  8.93803642  7.52830656\n",
      " -2.90606245] [-5.50583093 -5.2545177   2.18931145 ... -8.93803642 -7.52830656\n",
      "  2.90606245]\n"
     ]
    }
   ],
   "source": [
    "#HERE PERFORM THE LORENTZ BOOSTS\n",
    "\n",
    "#This is the COM frame of the two charged pions w.r.t. which we'll boost\n",
    "ref_COM_4Mom=Momentum4(pi_1_4Mom+pi_2_4Mom)\n",
    "\n",
    "#Lorentz boost everything in the ZMF of the two charged pions\n",
    "pi0_1_4Mom_star=pi0_1_4Mom.boost_particle(-ref_COM_4Mom)\n",
    "pi0_2_4Mom_star=pi0_2_4Mom.boost_particle(-ref_COM_4Mom)\n",
    "\n",
    "\n",
    "pi_1_4Mom_star=pi_1_4Mom.boost_particle(-ref_COM_4Mom)\n",
    "pi_2_4Mom_star=pi_2_4Mom.boost_particle(-ref_COM_4Mom)\n",
    "\n",
    "#momenta of the two pions are indeed opposite in this frame !\n",
    "print(pi_1_4Mom_star[1],pi_2_4Mom_star[1])"
   ]
  },
  {
   "cell_type": "code",
   "execution_count": 96,
   "metadata": {},
   "outputs": [
    {
     "name": "stdout",
     "output_type": "stream",
     "text": [
      "[[-5.05602056e-03  9.37763993e-04 -1.71730221e-03 ... -4.18970264e-03\n",
      "  -5.16750410e-04  8.62079438e-04]\n",
      " [ 3.95047361e-03 -4.68481458e-04  9.95485912e-05 ... -1.30944215e-03\n",
      "   1.03552801e-03 -1.77732351e-03]\n",
      " [-4.42780343e-03  2.79917828e-03  6.69624996e-04 ...  1.51207568e-03\n",
      "   4.88251039e-04 -1.93212580e-03]] [[-0.64855415  0.31373566 -0.93032132 ... -0.90242895 -0.4113991\n",
      "   0.31198803]\n",
      " [ 0.50674162 -0.15673383  0.05392888 ... -0.28204353  0.82441211\n",
      "  -0.64321643]\n",
      " [-0.56797046  0.93648515  0.36275876 ...  0.32568919  0.38870998\n",
      "  -0.69923965]]\n"
     ]
    },
    {
     "data": {
      "text/plain": [
       "<matplotlib.legend.Legend at 0x7f26a9dae150>"
      ]
     },
     "execution_count": 96,
     "metadata": {},
     "output_type": "execute_result"
    },
    {
     "data": {
      "image/png": "[encoded data removed]",
      "text/plain": [
       "<Figure size 432x288 with 1 Axes>"
      ]
     },
     "metadata": {
      "needs_background": "light"
     },
     "output_type": "display_data"
    }
   ],
   "source": [
    "#HERE STEPS TO GET TO PHI_CP\n",
    "\n",
    "#calculating the angle from the perpendicular components of lambda\n",
    "pi0_1_3Mom_star_perp=cross_product(pi0_1_4Mom_star[1:],pi_1_4Mom_star[1:])  #should we take the other order ?\n",
    "pi0_2_3Mom_star_perp=cross_product(pi0_2_4Mom_star[1:],pi_2_4Mom_star[1:])\n",
    "\n",
    "#Have I forgotten to normalise it ?? looks like yes, yes it was...\n",
    "pi0_1_3Mom_star_perp=pi0_1_3Mom_star_perp/np.linalg.norm(pi0_1_3Mom_star_perp, ord=2, axis=1, keepdims=True)\n",
    "pi0_1_3Mom_star_perp2=pi0_1_3Mom_star_perp/norm(pi0_1_3Mom_star_perp)\n",
    "\n",
    "print(pi0_1_3Mom_star_perp,pi0_1_3Mom_star_perp2)\n",
    "\n",
    "pi0_2_3Mom_star_perp=pi0_2_3Mom_star_perp/np.linalg.norm(pi0_2_3Mom_star_perp, ord=2, axis=1, keepdims=True)\n",
    "\n",
    "#Calculating phi_star\n",
    "phi_star=np.arccos(dot_product(pi0_1_3Mom_star_perp,pi0_2_3Mom_star_perp))\n",
    "\n",
    "#assume 1 is + and 2 is -, have checked that the other gives same \n",
    "bigO_star=dot_product(pi_2_4Vect_star[1:]/norm(pi_2_4Vect_star[1:]),cross_product(pi0_1_3Mom_star_perp,pi0_2_3Mom_star_perp))\n",
    "\n",
    "#additionnal shift that needs to be done do see differences between odd and even scenarios, with y=Energy ratios\n",
    "phi_CP=np.where((df4[\"y_1_1\"]*df4[\"y_1_2\"]>0),2*np.pi-phi_CP,phi_CP)\n",
    "\n",
    "#perform the shift w.r.t. O* sign\n",
    "phi_CP=np.where((bigO_star<0),2*np.pi-phi_star,phi_star)\n",
    "\n",
    "#now plot distribution\n",
    "plt.figure()\n",
    "plt.hist(phi_CP,bins=100, alpha=0.7,label='my_phi_CP')\n",
    "plt.hist(df4['aco_angle_1'],bins=100, alpha=0.7,label='Aco_angle_1')\n",
    "plt.title('$\\phi_{CP}$')\n",
    "plt.grid()\n",
    "plt.xlabel('$\\phi_{CP}$(rad)')\n",
    "plt.legend()\n",
    "#plt.savefig('phi_cp_hist.png')\n",
    "\n",
    "\n"
   ]
  },
  {
   "cell_type": "code",
   "execution_count": 91,
   "metadata": {},
   "outputs": [
    {
     "name": "stdout",
     "output_type": "stream",
     "text": [
      "index \t mycalc \t aco_angle_1 \t y_T\n",
      "0 \t 0.3553 \t 5.9279 \t -5.573\n",
      "1 \t 1.2678 \t 5.0154 \t -3.748\n",
      "2 \t 0.1221 \t 3.0195 \t -2.897\n",
      "3 \t 0.4909 \t 2.6507 \t -2.16\n",
      "4 \t 3.2255 \t 3.0577 \t 0.1678\n",
      "5 \t 4.0362 \t 5.3886 \t -1.352\n",
      "6 \t 4.3666 \t 5.0581 \t -0.6915\n",
      "7 \t 2.8073 \t 3.4759 \t -0.6686\n",
      "8 \t 3.7483 \t 5.6765 \t -1.928\n",
      "9 \t 4.7794 \t 4.6454 \t 0.1341\n",
      "10 \t 2.3887 \t 0.7529 \t 1.636\n",
      "11 \t 2.4214 \t 3.8617 \t -1.44\n",
      "12 \t 4.5619 \t 4.8629 \t -0.301\n",
      "13 \t 0.1990 \t 6.0841 \t -5.885\n",
      "14 \t 5.3026 \t 4.1222 \t 1.18\n",
      "15 \t 5.2855 \t 4.1392 \t 1.146\n",
      "16 \t 4.7851 \t 4.6397 \t 0.1454\n",
      "17 \t 2.8597 \t 0.2819 \t 2.578\n",
      "18 \t 1.0894 \t 2.0521 \t -0.9627\n",
      "19 \t 5.0336 \t 4.3912 \t 0.6424\n",
      "20 \t 1.7857 \t 1.3559 \t 0.4298\n",
      "21 \t 2.2639 \t 4.0192 \t -1.755\n",
      "22 \t 3.8050 \t 2.4782 \t 1.327\n",
      "23 \t 5.8658 \t 0.4174 \t 5.448\n",
      "24 \t 2.3542 \t 3.9290 \t -1.575\n",
      "25 \t 5.9036 \t 3.5212 \t 2.382\n",
      "26 \t 3.0314 \t 0.1102 \t 2.921\n",
      "27 \t 4.8666 \t 4.5582 \t 0.3085\n",
      "28 \t 5.3775 \t 4.0472 \t 1.33\n",
      "29 \t 2.6972 \t 0.4444 \t 2.253\n",
      "30 \t 2.6937 \t 0.4479 \t 2.246\n",
      "31 \t 0.2260 \t 2.9156 \t -2.69\n",
      "32 \t 0.7961 \t 5.4871 \t -4.691\n",
      "33 \t 1.0557 \t 5.2275 \t -4.172\n",
      "34 \t 4.2872 \t 5.1375 \t -0.8503\n",
      "35 \t 5.0038 \t 1.2794 \t 3.724\n",
      "36 \t 2.7383 \t 0.4033 \t 2.335\n",
      "37 \t 6.1899 \t 0.0933 \t 6.097\n",
      "38 \t 0.3607 \t 2.7809 \t -2.42\n",
      "39 \t 0.7459 \t 5.5373 \t -4.791\n",
      "40 \t 3.4148 \t 2.8683 \t 0.5465\n",
      "41 \t 3.9134 \t 2.3698 \t 1.544\n",
      "42 \t 3.7021 \t 2.5811 \t 1.121\n",
      "43 \t 4.3196 \t 1.9636 \t 2.356\n",
      "44 \t 4.7364 \t 1.5468 \t 3.19\n",
      "45 \t 4.3842 \t 5.0405 \t -0.6563\n",
      "46 \t 1.8944 \t 4.3888 \t -2.494\n",
      "47 \t 0.8800 \t 5.4032 \t -4.523\n",
      "48 \t 5.5742 \t 3.8505 \t 1.724\n",
      "49 \t 5.6270 \t 0.6562 \t 4.971\n",
      "50 \t 2.4087 \t 3.8745 \t -1.466\n",
      "51 \t 2.4386 \t 3.8446 \t -1.406\n",
      "52 \t 0.7330 \t 5.5502 \t -4.817\n",
      "53 \t 5.3816 \t 0.9016 \t 4.48\n",
      "54 \t 3.8925 \t 5.5322 \t -1.64\n",
      "55 \t 2.4875 \t 0.6541 \t 1.833\n",
      "56 \t 2.9337 \t 0.2078 \t 2.726\n",
      "57 \t 3.5849 \t 2.6983 \t 0.8866\n",
      "58 \t 5.7784 \t 0.5048 \t 5.274\n",
      "59 \t 5.5860 \t 3.8388 \t 1.747\n",
      "60 \t 3.0521 \t 3.2311 \t -0.1789\n",
      "61 \t 4.1147 \t 2.1685 \t 1.946\n",
      "62 \t 0.0655 \t 3.0761 \t -3.011\n",
      "63 \t 1.3587 \t 1.7829 \t -0.4241\n",
      "64 \t 3.3391 \t 6.0856 \t -2.747\n",
      "65 \t 1.4157 \t 4.8675 \t -3.452\n",
      "66 \t 2.1232 \t 1.0184 \t 1.105\n",
      "67 \t 1.2835 \t 1.8581 \t -0.5746\n",
      "68 \t 4.7385 \t 1.5447 \t 3.194\n",
      "69 \t 5.5184 \t 3.9063 \t 1.612\n",
      "70 \t 5.4049 \t 0.8783 \t 4.527\n",
      "71 \t 2.4299 \t 0.7116 \t 1.718\n",
      "72 \t 0.1495 \t 2.9921 \t -2.843\n",
      "73 \t 0.8093 \t 5.4738 \t -4.665\n",
      "74 \t 0.5197 \t 2.6219 \t -2.102\n",
      "75 \t 3.7141 \t 2.5691 \t 1.145\n",
      "76 \t 5.8792 \t 0.4040 \t 5.475\n",
      "77 \t 0.2971 \t 2.8445 \t -2.547\n",
      "78 \t 5.3605 \t 0.9227 \t 4.438\n",
      "79 \t 0.7069 \t 5.5762 \t -4.869\n",
      "80 \t 5.9428 \t 0.3404 \t 5.602\n",
      "81 \t 0.7774 \t 2.3642 \t -1.587\n",
      "82 \t 5.9670 \t 0.3162 \t 5.651\n",
      "83 \t 1.3952 \t 1.7464 \t -0.3512\n",
      "84 \t 2.7515 \t 3.5317 \t -0.7802\n",
      "85 \t 5.1787 \t 1.1045 \t 4.074\n",
      "86 \t 1.5955 \t 1.5461 \t 0.04934\n",
      "87 \t 0.0320 \t 6.2512 \t -6.219\n",
      "88 \t 3.4093 \t 2.8739 \t 0.5355\n",
      "89 \t 3.9775 \t 5.4473 \t -1.47\n",
      "90 \t 5.9410 \t 3.4838 \t 2.457\n",
      "91 \t 3.9549 \t 5.4699 \t -1.515\n",
      "92 \t 3.6422 \t 5.7826 \t -2.14\n",
      "93 \t 4.6076 \t 4.8172 \t -0.2096\n",
      "94 \t 0.6701 \t 5.6131 \t -4.943\n",
      "95 \t 5.6093 \t 3.8154 \t 1.794\n",
      "96 \t 3.1145 \t 3.1686 \t -0.05411\n",
      "97 \t 1.8424 \t 4.4408 \t -2.598\n",
      "98 \t 2.6609 \t 3.6223 \t -0.9614\n",
      "99 \t 6.0034 \t 0.2798 \t 5.724\n"
     ]
    }
   ],
   "source": [
    "#print the first few results vs given angles\n",
    "print(\"index \\t mycalc \\t aco_angle_1 \\t y_T\")\n",
    "for i in range(100):\n",
    "    print(\"{} \\t {:.4f} \\t {:.4f} \\t {:.4}\".format(i, phi_CP[i],np.array(df4['aco_angle_1'])[i], phi_CP[i]-np.array(df4['aco_angle_1'])[i]))"
   ]
  },
  {
   "cell_type": "code",
   "execution_count": null,
   "metadata": {},
   "outputs": [],
   "source": []
  },
  {
   "cell_type": "code",
   "execution_count": null,
   "metadata": {},
   "outputs": [],
   "source": [
    "# split X1, X2, and y into train and validation dataset \n",
    "\n",
    "X1_train,X1_test, y1_train, y1_test  = train_test_split(\n",
    "    X1,\n",
    "    y,\n",
    "    test_size=0.2,\n",
    "    random_state=123456,\n",
    "    stratify=y.values,\n",
    ")\n",
    "\n",
    "X2_train,X2_test, y2_train, y2_test  = train_test_split(\n",
    "    X2,\n",
    "    y,\n",
    "    test_size=0.2,\n",
    "    random_state=123456,\n",
    "    stratify=y.values,\n",
    ")"
   ]
  },
  {
   "cell_type": "code",
   "execution_count": null,
   "metadata": {},
   "outputs": [],
   "source": [
    "# define some XGBoost parameters, unspecified will be default\n",
    "# https://xgboost.readthedocs.io/en/latest////index.html\n",
    "# not optimised at all, just playing by ear\n",
    "\n",
    "xgb_params = {\n",
    "    \"objective\": \"binary:logistic\",\n",
    "    \"max_depth\": 5,\n",
    "    \"learning_rate\": 0.02,\n",
    "    \"silent\": 1,\n",
    "    \"n_estimators\": 1000,\n",
    "    \"subsample\": 0.9,\n",
    "    \"seed\": 123451,\n",
    "}"
   ]
  },
  {
   "cell_type": "code",
   "execution_count": null,
   "metadata": {},
   "outputs": [],
   "source": [
    "# first run the training for simple case with just 1 variable\n",
    "\n",
    "xgb_clf = xgb.XGBClassifier(**xgb_params)\n",
    "xgb_clf.fit(\n",
    "    X1_train,\n",
    "    y1_train,\n",
    "    early_stopping_rounds=200, # stops the training if doesn't improve after 200 iterations\n",
    "    eval_set=[(X1_train, y1_train), (X1_test, y1_test)],\n",
    "    eval_metric = \"auc\", # can use others\n",
    "    verbose=True,\n",
    ")"
   ]
  },
  {
   "cell_type": "code",
   "execution_count": null,
   "metadata": {},
   "outputs": [],
   "source": [
    "# save the model\n",
    "#xgb_clf.get_booster().save_model('rho_rho.model')"
   ]
  },
  {
   "cell_type": "code",
   "execution_count": null,
   "metadata": {
    "scrolled": true
   },
   "outputs": [],
   "source": [
    "# look at feature importance\n",
    "# can use different metrics (weight or gain), look up online\n",
    "xgb.plot_importance(xgb_clf, importance_type='weight')\n",
    "xgb.plot_importance(xgb_clf, importance_type='gain')"
   ]
  },
  {
   "cell_type": "code",
   "execution_count": null,
   "metadata": {},
   "outputs": [],
   "source": [
    "#  define a function to plot the ROC curves - just makes the roc_curve look nicer than the default\n",
    "def plot_roc_curve(fpr, tpr, auc):\n",
    "    fig, ax = plt.subplots()\n",
    "    ax.plot(fpr, tpr)\n",
    "    ax.set(xlabel='False Positive Rate', ylabel='True Positive Rate')\n",
    "    ax.grid()\n",
    "    ax.text(0.6, 0.3, 'ROC AUC Score: {:.3f}'.format(auc),\n",
    "            bbox=dict(boxstyle='square,pad=0.3', fc='white', ec='k'))\n",
    "    lims = [np.min([ax.get_xlim(), ax.get_ylim()]), np.max([ax.get_xlim(), ax.get_ylim()])]\n",
    "    ax.plot(lims, lims, 'k--')\n",
    "    ax.set_xlim(lims)\n",
    "    ax.set_ylim(lims)\n",
    "    plt.savefig('roc_rho_rho')"
   ]
  },
  {
   "cell_type": "code",
   "execution_count": null,
   "metadata": {},
   "outputs": [],
   "source": [
    "# plot ROC curve for improved training\n",
    "y1_proba = xgb_clf.predict_proba(X1_test) # outputs two probabilties\n",
    "\n",
    "auc = roc_auc_score(y1_test, y1_proba[:,1])\n",
    "fpr, tpr, _ = roc_curve(y1_test, y1_proba[:,1])\n",
    "plot_roc_curve(fpr, tpr, auc)"
   ]
  },
  {
   "cell_type": "code",
   "execution_count": null,
   "metadata": {},
   "outputs": [],
   "source": [
    "# now train with all variables\n",
    "\n",
    "xgb_clf = xgb.XGBClassifier(**xgb_params)\n",
    "xgb_clf.fit(\n",
    "    X2_train,\n",
    "    y2_train,\n",
    "    early_stopping_rounds=200, # stops the training if doesn't improve after 200 iterations\n",
    "    eval_set=[(X2_train, y2_train), (X2_test, y2_test)],\n",
    "    eval_metric = \"auc\", # can use others\n",
    "    verbose=True,\n",
    ")"
   ]
  },
  {
   "cell_type": "markdown",
   "metadata": {},
   "source": [
    "\n",
    "xgb_params = {\n",
    "    \"objective\": \"binary:logistic\",\n",
    "    \"max_depth\": 5,\n",
    "    \"learning_rate\": 0.005,\n",
    "    \"silent\": 1,\n",
    "    \"n_estimators\": 1000,\n",
    "    \"subsample\": 0.9,\n",
    "    \"seed\": 123451,\n",
    "}"
   ]
  },
  {
   "cell_type": "code",
   "execution_count": null,
   "metadata": {},
   "outputs": [],
   "source": [
    "# look at feature importance\n",
    "# can use different metrics (weight or gain), look up online\n",
    "xgb.plot_importance(xgb_clf, importance_type='weight')\n",
    "xgb.plot_importance(xgb_clf, importance_type='gain')"
   ]
  },
  {
   "cell_type": "code",
   "execution_count": null,
   "metadata": {},
   "outputs": [],
   "source": [
    "# plot ROC curve for improved training\n",
    "y2_proba = xgb_clf.predict_proba(X2_test) # outputs two probabilties\n",
    "auc2 = roc_auc_score(y2_test, y2_proba[:,1])\n",
    "fpr2, tpr2, _ = roc_curve(y2_test, y2_proba[:,1])\n",
    "plot_roc_curve(fpr2, tpr2, auc2)"
   ]
  },
  {
   "cell_type": "code",
   "execution_count": null,
   "metadata": {},
   "outputs": [],
   "source": [
    "#  define a function to plot the ROC curves - just makes the roc_curve look nicer than the default\n",
    "def plot_2_roc_curves(fpr, tpr, auc, fpr2, tpr2, auc2):\n",
    "    fig, ax = plt.subplots()\n",
    "    ax.plot(fpr, tpr)\n",
    "    ax.plot(fpr2, tpr2)\n",
    "    ax.set(xlabel='False Positive Rate', ylabel='True Positive Rate')\n",
    "    ax.grid()\n",
    "    ax.text(0.6, 0.3, 'ROC AUC Score: {:.3f}'.format(auc),\n",
    "            bbox=dict(boxstyle='square,pad=0.3', fc='white', ec='k'))\n",
    "    ax.text(0.6, 0.2, 'ROC AUC Score: {:.3f}'.format(auc2),\n",
    "            bbox=dict(boxstyle='square,pad=0.3', fc='white', ec='k'))\n",
    "    lims = [np.min([ax.get_xlim(), ax.get_ylim()]), np.max([ax.get_xlim(), ax.get_ylim()])]\n",
    "    ax.plot(lims, lims, 'k--')\n",
    "    ax.set_xlim(lims)\n",
    "    ax.set_ylim(lims)\n",
    "    plt.savefig('roc_rho_rho')"
   ]
  },
  {
   "cell_type": "code",
   "execution_count": null,
   "metadata": {},
   "outputs": [],
   "source": [
    "#plot roc curves on same axis\n",
    "plot_2_roc_curves(fpr, tpr, auc, fpr2, tpr2, auc2)"
   ]
  },
  {
   "cell_type": "code",
   "execution_count": null,
   "metadata": {},
   "outputs": [],
   "source": []
  },
  {
   "cell_type": "code",
   "execution_count": null,
   "metadata": {},
   "outputs": [],
   "source": []
  },
  {
   "cell_type": "code",
   "execution_count": null,
   "metadata": {},
   "outputs": [],
   "source": []
  },
  {
   "cell_type": "code",
   "execution_count": null,
   "metadata": {},
   "outputs": [],
   "source": []
  },
  {
   "cell_type": "markdown",
   "metadata": {},
   "source": [
    "## Below this: some useless tries "
   ]
  },
  {
   "cell_type": "code",
   "execution_count": null,
   "metadata": {},
   "outputs": [],
   "source": [
    "def modulus_nVector(nVector):\n",
    "    #calulate the modulus of any vector\n",
    "    if len(nVector)==4:\n",
    "        print('Careful, this is not the appropriate way to calculate the modulus of a 4vector')\n",
    "    sum_squares_all=[]\n",
    "    for j in range(len(nVector[0])):\n",
    "        sum_squares=0\n",
    "        for i in range(len(nVector)):\n",
    "            sum_squares=sum_squares+nVector[i][j]**2\n",
    "        sum_squares_all.append(sum_squares)\n",
    "    sum_squares_all=np.array(sum_squares_all)\n",
    "    return np.sqrt(sum_squares_all)\n"
   ]
  },
  {
   "cell_type": "code",
   "execution_count": null,
   "metadata": {},
   "outputs": [],
   "source": [
    "def dot_product(vector1,vector2):\n",
    "    if len(vector1)!=len(vector2):\n",
    "        raise Arrays_of_different_size\n",
    "    prod=0\n",
    "    for i in range(len(vector1)):\n",
    "        prod=prod+vector1[i]*vector2[i]\n",
    "    return prod"
   ]
  },
  {
   "cell_type": "code",
   "execution_count": null,
   "metadata": {},
   "outputs": [],
   "source": [
    "def Lorentz_boost_ZMF(four_vector,v_COM_3vector,c=500): #change this c !!\n",
    "    #a function to calculate the value of any vector in the ZMF frame, based on:\n",
    "    #https://en.wikipedia.org/wiki/Lorentz_transformation#Vector_transformations\n",
    "    \n",
    "    A=four_vector[0]\n",
    "    Z_x=four_vector[1]\n",
    "    Z_y=four_vector[2]\n",
    "    Z_z=four_vector[3]\n",
    "    \n",
    "    Z_3vector=np.array([Z_x,Z_y,Z_z])\n",
    "    \n",
    "    v_COM_3vector=np.array(v_COM_3vector)\n",
    "    n=np.array(v_COM_3vector/modulus_nVector(v_COM_3vector))\n",
    "    \n",
    "    beta_3vector=v_COM_3vector/c\n",
    "    beta=beta_3vector/modulus_nVector(beta_3vector)\n",
    "    gamma=1/np.sqrt(1-modulus_nVector(beta_3vector)**2)\n",
    "    \n",
    "    A_prime=gamma*(A-dot_product(v_COM_3vector,Z_3vector))\n",
    "    Z_3vector_prime=Z_3vector+(gamma-1)/modulus_nVector(v_COM_3vector)**2*dot_product(Z_3vector,v_COM_3vector)*beta_3vector-gamma*A*v_COM_3vector\n",
    "    \n",
    "    \n",
    "    \n",
    "    \n",
    "    #look at https://root.cern/root/html530/TLorentzVector.html for help\n",
    "    \n",
    "    return np.array([A_prime,Z_3vector_prime[0],Z_3vector_prime[1],Z_3vector_prime[2]])"
   ]
  },
  {
   "cell_type": "code",
   "execution_count": null,
   "metadata": {},
   "outputs": [],
   "source": [
    "# Fixing the light speed issue\n",
    "\n",
    "energy=np.array(df4[\"pi_E_1\"])\n",
    "momentum_3vector=np.array([df4[\"pi_px_1\"],df4[\"pi_py_1\"],df4[\"pi_pz_1\"]])\n",
    "\n",
    "m=energy**2-dot_product(momentum_3vector,momentum_3vector)\n",
    "\n",
    "print(energy**2-dot_product(momentum_3vector,momentum_3vector))\n",
    "\n",
    "print(np.sqrt(m))\n",
    "\n",
    "#print(np.sqrt(df4[\"pi_px_1\"]**2+df4[\"pi_py_1\"]**2+df4[\"pi_pz_1\"]**2)/(np.sqrt(m)))  #ISSUE !! THIS DOES NOT GIVE 1\n",
    "\n",
    "#so c=1, that makes sense !\n",
    "\n"
   ]
  },
  {
   "cell_type": "code",
   "execution_count": null,
   "metadata": {},
   "outputs": [],
   "source": [
    "#Start over, easier, try to use the py module as little as possible\n",
    "\n",
    "#This should be the velocity of the two pions's pi- and pi0 COM ! Not good !\n",
    "#v_COM_x=np.array(df4[\"pi_px_1\"]+df4[\"pi0_px_1\"])/(pi0_1_4Mom.m[0]+pi_1_4Mom.m[0])\n",
    "#v_COM_y=np.array(df4[\"pi_py_1\"]+df4[\"pi0_py_1\"])/(pi0_1_4Mom.m[0]+pi_1_4Mom.m[0])\n",
    "#v_COM_z=np.array(df4[\"pi_pz_1\"]+df4[\"pi0_pz_1\"])/(pi0_1_4Mom.m[0]+pi_1_4Mom.m[0])\n",
    "\n",
    "#The issue was that I was using the pi0 and pi isntead of the pi- and pi+ frame (which is therefore wrong)\n",
    "v_COM_x=np.array(df4[\"pi_px_1\"]+df4[\"pi_px_2\"])/(pi_2_4Mom.m[0]+pi_1_4Mom.m[0])\n",
    "v_COM_y=np.array(df4[\"pi_py_1\"]+df4[\"pi_py_2\"])/(pi_2_4Mom.m[0]+pi_1_4Mom.m[0])\n",
    "v_COM_z=np.array(df4[\"pi_pz_1\"]+df4[\"pi_pz_2\"])/(pi_2_4Mom.m[0]+pi_1_4Mom.m[0])\n",
    "#This should be correct\n",
    "\n",
    "#print(pi0_1_4Mom.m) # 0.1349 in GeV/c^2\n",
    "#print(pi_1_4Mom.m) # 0.13952637+0.j\n",
    "\n",
    "p_pi_1=np.array([df4[\"pi_px_1\"],df4[\"pi_py_1\"],df4[\"pi_pz_1\"]])#pi_1_4Mom.m[0]=0.1349 in GeV/c^2\n",
    "\n",
    "gamma=1/np.sqrt(1-(modulus_nVector(p_pi_1)/np.sqrt(m)[0])**2)\n",
    "\n",
    "\n",
    "print(gamma)\n"
   ]
  },
  {
   "cell_type": "code",
   "execution_count": null,
   "metadata": {},
   "outputs": [],
   "source": [
    "\n",
    "print(modulus_nVector(v_pi_1).max(),pi_2_4Mom.m[0])\n",
    "\n",
    "v_COM_3vector=np.array([v_COM_x,v_COM_y,v_COM_z])\n",
    "v_mod=modulus_nVector(v_COM_3vector)\n",
    "\n",
    "\n",
    "c=1##v_mod.max()*1.25\n",
    "\n",
    "#is there only an issue with c ?\n",
    "\n",
    "\n",
    "pi_2_4Vect_star=Lorentz_boost_ZMF(pi_2_4Vect,v_COM_3vector,c)\n",
    "pi_1_4Vect_star=Lorentz_boost_ZMF(pi_1_4Vect,v_COM_3vector,c)\n",
    "\n",
    "print(pi_1_4Vect_star[1]-pi_2_4Vect_star[1])"
   ]
  },
  {
   "cell_type": "code",
   "execution_count": null,
   "metadata": {},
   "outputs": [],
   "source": [
    "#I was having issues with the velocity of light it should be in GeV? \n",
    "\n",
    "plt.figure()\n",
    "\n",
    "for f in range(0,10):\n",
    "    c=v_mod.max()*(1+f/10)\n",
    "    pi2=Lorentz_boost_ZMF(pi_2_4Vect,v_COM_3vector,c)\n",
    "    pi=Lorentz_boost_ZMF(pi_1_4Vect,v_COM_3vector,c)\n",
    "    pi2_mom=np.array([pi2[1],pi2[2],pi2[3]])\n",
    "    pi_mom=np.array([pi[1],pi[2],pi[3]])\n",
    "    \n",
    "    array=np.array(modulus_nVector(pi2_mom)**2-modulus_nVector(pi_mom)**2)\n",
    "\n",
    "    print('Here %f'%f)\n",
    "    plt.plot(c,array.mean(),'bx')\n",
    "\n",
    "plt.ylabel('Mean difference between ${p^{*}_{\\pi^\\pm}}^2$ and ${p^{*}_{\\pi^0}}^2$')\n",
    "plt.xlabel('Value of c(a.u)')\n",
    "plt.grid()\n",
    "plt.savefig('Investigating_c_new.png')"
   ]
  },
  {
   "cell_type": "code",
   "execution_count": null,
   "metadata": {},
   "outputs": [],
   "source": [
    "#v_COM_mod=np.sqrt(v_COM_x**2+v_COM_y**2+v_COM_x**2) #what is this unit ?\n",
    "\n",
    "#c=500 #this these units !?\n",
    "\n",
    "#beta_x=v_COM_x/c\n",
    "#beta_y=v_COM_y/c\n",
    "#beta_z=v_COM_z/c\n",
    "\n",
    "#beta_3vect=np.array([beta_x,beta_y,beta_z])\n",
    "#beta_mod=np.sqrt(beta_x**2+beta_y**2+beta_z**2)\n",
    "\n",
    "#print(beta_mod)\n",
    "\n",
    "#gamma=1/np.sqrt(1-beta_mod**2)  #good way to check if we have the wrong c\n",
    "#print(gamma)"
   ]
  },
  {
   "cell_type": "code",
   "execution_count": null,
   "metadata": {},
   "outputs": [],
   "source": [
    "\n",
    "\n",
    "\n",
    "#Check the momenta of the pions, are they opposite in the lab frame ?\n",
    "print(pi_1_4Mom.p,pi0_1_4Mom.p) \n",
    "print(pi_2_4Mom.p,pi0_2_4Mom.p) \n",
    "#they are not opposite in the lab frame but we only have rhorho decays... \n",
    "\n",
    "#print(pi_1_4Mom.e[:3])  #The two formulations are identical, that is good\n",
    "#print(pi_1_4Vect[0][:3])\n",
    "\n",
    "#Now try some transforms into the pions ZMF\n",
    "ip_1_4Vect_star=ip_1_4Vect.boost_particle(pi_1_4Mom)\n",
    "ip_2_4Vect_star=ip_2_4Vect.boost_particle(pi_2_4Mom)\n",
    "\n",
    "#print(ip_1_4Vect_star.mag2[3],ip_1_4Vect.mag2[3])\n"
   ]
  },
  {
   "cell_type": "code",
   "execution_count": null,
   "metadata": {},
   "outputs": [],
   "source": [
    "#Here some sanity checks \n",
    "check_magnitude_1=[]\n",
    "check_magnitude_2=[]\n",
    "for i in range(10):\n",
    "    check_magnitude_1.append(ip_1_4Vect_star.mag2[i]-ip_1_4Vect.mag2[i])\n",
    "    check_magnitude_2.append(ip_2_4Vect_star.mag2[i]-ip_2_4Vect.mag2[i])\n",
    "\n",
    "\n",
    "check_magnitude_1=np.array(check_magnitude_1)\n",
    "check_magnitude_2=np.array(check_magnitude_2)\n",
    "plt.figure()\n",
    "plt.hist(check_magnitude_1,bins=100,alpha=0.5,\n",
    "         label='Leading: Mean:%.2e,std:%.2e'%(check_magnitude_1.mean(),\n",
    "                                              check_magnitude_1.std()))\n",
    "plt.hist(check_magnitude_2,bins=100,alpha=0.5,\n",
    "         label='Sub-leading: Mean:%.2e,std:%.2e'%(check_magnitude_2.mean(),\n",
    "                                                  check_magnitude_2.std()))\n",
    "\n",
    "plt.grid()\n",
    "plt.legend()\n",
    "plt.ylabel('Occurence')\n",
    "plt.title('Sanity check: magnitude of IP 4Vectors after boost',fontsize='large')\n",
    "plt.xlabel('${\\lambda_{\\pm}^{*}}^2-{\\lambda_{\\pm}}^2$')\n",
    "#plt.savefig(\"Check_magnitude.png\")\n",
    "\n",
    "plt.show()\n",
    "# could also check transverse momentum is good ?"
   ]
  },
  {
   "cell_type": "code",
   "execution_count": null,
   "metadata": {},
   "outputs": [],
   "source": [
    "#Ok, now also check that we are in the pi rest frame, if we transform the pi w.r.t. their\n",
    "# own rest frame we should have 0 momentum ?\n",
    "\n",
    "\n",
    "pi_1_4Vect_star=pi_1_4Vect.boost_particle(pi_1_4Mom)\n",
    "pi_2_4Vect_star=pi_2_4Vect.boost_particle(pi_2_4Mom)\n",
    "\n",
    "print(Momentum4(pi_1_4Vect_star).p[:10],Momentum4(pi_2_4Vect_star).p[:10]) \n",
    "#ok we definitely do not have 0 momentum... why not ?? have we chosen the wrong reference?\n",
    "\n",
    "\n",
    "#could it be that that we want to be in the ZMF frame of the sum of the pions?"
   ]
  },
  {
   "cell_type": "code",
   "execution_count": null,
   "metadata": {},
   "outputs": [],
   "source": [
    "#Next thing we'll need: the transverse part of lambda* wrt the boosted 4vector of the\n",
    "#charge pions, Iam a bit confused: isn't the charged pion's boosted momentum just 0 ?\n",
    "plt.figure()\n",
    "plt.hist(dot_product(ip_1_3Vect_star_perp,ip_2_3Vect_star_perp),bins=100,label='4Vector')\n",
    "plt.hist(dot_product(ip_1_3Pos_star_perp,ip_2_3Pos_star_perp),bins=100,label='4Position')\n",
    "plt.xlabel('dot_product_lamba_perp')\n",
    "plt.grid()\n",
    "plt.legend()\n",
    "plt.savefig('Dot_product_lambda_perp.png')\n",
    "\n",
    "plt.figure()\n",
    "plt.hist(ip_1_3Vect_star_perp[0],bins=100,alpha=0.5,label='lamda_1_perp_x')\n",
    "plt.hist(ip_1_3Vect_star_perp[1],bins=100,alpha=0.5,label='lamda_1_perp_y')\n",
    "plt.hist(ip_1_3Vect_star_perp[2],bins=100,alpha=0.5,label='lamda_1_perp_z')\n",
    "\n",
    "plt.hist(ip_2_3Vect_star_perp[0],bins=100,alpha=0.5,label='lamda_2_perp_x')\n",
    "plt.hist(ip_2_3Vect_star_perp[1],bins=100,alpha=0.5,label='lamda_2_perp_y')\n",
    "plt.hist(ip_2_3Vect_star_perp[2],bins=100,alpha=0.5,label='lamda_2_perp_z')\n",
    "plt.xlabel('lamba_perp')\n",
    "plt.legend()\n",
    "plt.grid()\n",
    "plt.show()\n",
    "#plt.savefig('Lambda_perp_hist.png')"
   ]
  }
 ],
 "metadata": {
  "kernelspec": {
   "display_name": "Python 3",
   "language": "python",
   "name": "python3"
  },
  "language_info": {
   "codemirror_mode": {
    "name": "ipython",
    "version": 3
   },
   "file_extension": ".py",
   "mimetype": "text/x-python",
   "name": "python",
   "nbconvert_exporter": "python",
   "pygments_lexer": "ipython3",
   "version": "3.7.6"
  }
 },
 "nbformat": 4,
 "nbformat_minor": 2
}
