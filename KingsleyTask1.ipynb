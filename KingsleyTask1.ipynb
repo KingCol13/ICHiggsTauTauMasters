{
 "cells": [
  {
   "cell_type": "code",
   "execution_count": 1,
   "metadata": {},
   "outputs": [
    {
     "name": "stdout",
     "output_type": "stream",
     "text": [
      "Requirement already satisfied: uproot in /cvmfs/sft.cern.ch/lcg/views/LCG_97apython3/x86_64-centos7-gcc8-opt/lib/python3.7/site-packages (3.10.12)\n",
      "Requirement already satisfied: numpy>=1.13.1 in /cvmfs/sft.cern.ch/lcg/views/LCG_97apython3/x86_64-centos7-gcc8-opt/lib/python3.7/site-packages (from uproot) (1.16.4)\n",
      "Requirement already satisfied: awkward<1.0,>=0.12.0 in /cvmfs/sft.cern.ch/lcg/views/LCG_97apython3/x86_64-centos7-gcc8-opt/lib/python3.7/site-packages (from uproot) (0.12.17)\n",
      "Requirement already satisfied: uproot-methods>=0.7.0 in /cvmfs/sft.cern.ch/lcg/views/LCG_97apython3/x86_64-centos7-gcc8-opt/lib/python3.7/site-packages (from uproot) (0.7.1)\n",
      "Requirement already satisfied: cachetools in /cvmfs/sft.cern.ch/lcg/views/LCG_97apython3/x86_64-centos7-gcc8-opt/lib/python3.7/site-packages (from uproot) (3.1.1)\n",
      "Requirement already satisfied: pylorentz in /eos/home-k/kcollie/.local/lib/python3.7/site-packages (0.3.3)\n",
      "Requirement already satisfied: numpy in /cvmfs/sft.cern.ch/lcg/views/LCG_97apython3/x86_64-centos7-gcc8-opt/lib/python3.7/site-packages (from pylorentz) (1.16.4)\n"
     ]
    }
   ],
   "source": [
    "!pip install --user uproot\n",
    "!pip install --user pylorentz"
   ]
  },
  {
   "cell_type": "code",
   "execution_count": 2,
   "metadata": {},
   "outputs": [],
   "source": [
    "import sys\n",
    "sys.path.append(\"/eos/home-m/kcollie/.local/lib/python2.7/site-packages\")"
   ]
  },
  {
   "cell_type": "code",
   "execution_count": 3,
   "metadata": {},
   "outputs": [],
   "source": [
    "import uproot \n",
    "import numpy as np\n",
    "import pandas as pd\n",
    "from sklearn.model_selection import train_test_split\n",
    "from sklearn.metrics import classification_report, roc_curve, roc_auc_score\n",
    "import xgboost as xgb\n",
    "import matplotlib as mpl\n",
    "#mpl.use('Agg')\n",
    "import matplotlib.pyplot as plt\n",
    "\n",
    "from pylorentz import Momentum4\n",
    "from pylorentz import Position4"
   ]
  },
  {
   "cell_type": "code",
   "execution_count": 4,
   "metadata": {},
   "outputs": [],
   "source": [
    "# loading the tree\n",
    "tree = uproot.open(\"/eos/user/d/dwinterb/SWAN_projects/Masters_CP/MVAFILE_GluGluHToTauTauUncorrelatedDecay_Filtered_tt_2018.root\")[\"ntuple\"]\n",
    "#tree2 = uproot.open(\"/eos/user/d/dwinterb/SWAN_projects/Masters_CP/MVAFILE_VBFHToTauTauUncorrelatedDecay_Filtered_tt_2018.root\")[\"ntuple\"]\n",
    "\n",
    "\n",
    "#These are new trees, added by Danny on 13/10\n",
    "#tree3=uproot.open(\"/eos/user/d/dwinterb/SWAN_projects/Masters_CP/MVAFILE_AllHiggs_tt.root\")[\"ntuple\"]  \n",
    "#note, instead of the first t we can have e,m, different decay modes"
   ]
  },
  {
   "cell_type": "code",
   "execution_count": 5,
   "metadata": {},
   "outputs": [],
   "source": [
    "# define what variables are to be read into the dataframe\n",
    "\n",
    "variables = [ \"pi_E_1\", \"pi_px_1\", \"pi_py_1\", \"pi_pz_1\", #leading charged pi 4-momentum\n",
    "              \"pi_E_2\", \"pi_px_2\", \"pi_py_2\", \"pi_pz_2\", #subleading charged pi 4-momentum\n",
    "              \"pi0_E_1\",\"pi0_px_1\",\"pi0_py_1\",\"pi0_pz_1\", #leading neutral pi 4-momentum\n",
    "              \"pi0_E_2\",\"pi0_px_2\",\"pi0_py_2\",\"pi0_pz_2\", #subleading neutral pi 4-momentum\n",
    "              \"ip_x_1\", \"ip_y_1\", \"ip_z_1\",        #leading impact parameter\n",
    "              \"ip_x_2\", \"ip_y_2\", \"ip_z_2\",        #subleading impact parameter\n",
    "              \"y_1_1\", \"y_1_2\",    # ratios of energies\n",
    "                \"aco_angle_1\",  #acoplanarity angle\n",
    "             \"tau_decay_mode_1\",\"tau_decay_mode_2\",\n",
    "             \"mva_dm_1\",\"mva_dm_2\"\n",
    "             ]\n",
    "\n",
    "df = tree.pandas.df(variables)\n",
    "\n",
    "df = df[\n",
    "      (df[\"tau_decay_mode_1\"] == 1) \n",
    "    & (df[\"tau_decay_mode_2\"] == 1) \n",
    "    & (df[\"mva_dm_1\"] == 1) \n",
    "    & (df[\"mva_dm_2\"] == 1)\n",
    "]\n",
    "#df2 = tree2.pandas.df(variables)\n",
    "\n",
    "#tree3 should be more comprehensive and complete as it includes all decay types and more\n",
    "#info for tau->a1 decays. Again we save the same variables for now\n",
    "\n",
    "#df3 = tree3.pandas.df(variables)\n",
    "\n",
    "#combine VBF and ggH events\n",
    "\n",
    "#df = pd.concat([df,df2], ignore_index=True)"
   ]
  },
  {
   "cell_type": "code",
   "execution_count": 6,
   "metadata": {},
   "outputs": [
    {
     "data": {
      "text/html": [
       "<div>\n",
       "<style scoped>\n",
       "    .dataframe tbody tr th:only-of-type {\n",
       "        vertical-align: middle;\n",
       "    }\n",
       "\n",
       "    .dataframe tbody tr th {\n",
       "        vertical-align: top;\n",
       "    }\n",
       "\n",
       "    .dataframe thead th {\n",
       "        text-align: right;\n",
       "    }\n",
       "</style>\n",
       "<table border=\"1\" class=\"dataframe\">\n",
       "  <thead>\n",
       "    <tr style=\"text-align: right;\">\n",
       "      <th></th>\n",
       "      <th>pi_E_1</th>\n",
       "      <th>pi_px_1</th>\n",
       "      <th>pi_py_1</th>\n",
       "      <th>pi_pz_1</th>\n",
       "      <th>pi_E_2</th>\n",
       "      <th>pi_px_2</th>\n",
       "      <th>pi_py_2</th>\n",
       "      <th>pi_pz_2</th>\n",
       "      <th>pi0_E_1</th>\n",
       "      <th>pi0_px_1</th>\n",
       "      <th>...</th>\n",
       "      <th>ip_x_2</th>\n",
       "      <th>ip_y_2</th>\n",
       "      <th>ip_z_2</th>\n",
       "      <th>y_1_1</th>\n",
       "      <th>y_1_2</th>\n",
       "      <th>aco_angle_1</th>\n",
       "      <th>tau_decay_mode_1</th>\n",
       "      <th>tau_decay_mode_2</th>\n",
       "      <th>mva_dm_1</th>\n",
       "      <th>mva_dm_2</th>\n",
       "    </tr>\n",
       "    <tr>\n",
       "      <th>entry</th>\n",
       "      <th></th>\n",
       "      <th></th>\n",
       "      <th></th>\n",
       "      <th></th>\n",
       "      <th></th>\n",
       "      <th></th>\n",
       "      <th></th>\n",
       "      <th></th>\n",
       "      <th></th>\n",
       "      <th></th>\n",
       "      <th></th>\n",
       "      <th></th>\n",
       "      <th></th>\n",
       "      <th></th>\n",
       "      <th></th>\n",
       "      <th></th>\n",
       "      <th></th>\n",
       "      <th></th>\n",
       "      <th></th>\n",
       "      <th></th>\n",
       "      <th></th>\n",
       "    </tr>\n",
       "  </thead>\n",
       "  <tbody>\n",
       "    <tr>\n",
       "      <th>4</th>\n",
       "      <td>26.184192</td>\n",
       "      <td>5.249920</td>\n",
       "      <td>-12.394966</td>\n",
       "      <td>-22.458754</td>\n",
       "      <td>52.305565</td>\n",
       "      <td>-10.016787</td>\n",
       "      <td>40.401790</td>\n",
       "      <td>-31.673523</td>\n",
       "      <td>95.932667</td>\n",
       "      <td>20.387663</td>\n",
       "      <td>...</td>\n",
       "      <td>-0.000894</td>\n",
       "      <td>0.000668</td>\n",
       "      <td>0.000903</td>\n",
       "      <td>0.571162</td>\n",
       "      <td>-0.773942</td>\n",
       "      <td>5.927902</td>\n",
       "      <td>1</td>\n",
       "      <td>1</td>\n",
       "      <td>1</td>\n",
       "      <td>1</td>\n",
       "    </tr>\n",
       "    <tr>\n",
       "      <th>15</th>\n",
       "      <td>3.912128</td>\n",
       "      <td>3.186334</td>\n",
       "      <td>0.086207</td>\n",
       "      <td>-2.263873</td>\n",
       "      <td>32.211659</td>\n",
       "      <td>7.872188</td>\n",
       "      <td>29.660602</td>\n",
       "      <td>9.790244</td>\n",
       "      <td>64.282235</td>\n",
       "      <td>52.942869</td>\n",
       "      <td>...</td>\n",
       "      <td>-0.002586</td>\n",
       "      <td>0.001020</td>\n",
       "      <td>-0.000611</td>\n",
       "      <td>0.885265</td>\n",
       "      <td>-0.339467</td>\n",
       "      <td>5.015406</td>\n",
       "      <td>1</td>\n",
       "      <td>1</td>\n",
       "      <td>1</td>\n",
       "      <td>1</td>\n",
       "    </tr>\n",
       "    <tr>\n",
       "      <th>26</th>\n",
       "      <td>20.389432</td>\n",
       "      <td>12.846308</td>\n",
       "      <td>15.714182</td>\n",
       "      <td>1.935544</td>\n",
       "      <td>5.313678</td>\n",
       "      <td>-4.517069</td>\n",
       "      <td>-2.251007</td>\n",
       "      <td>1.656731</td>\n",
       "      <td>35.041365</td>\n",
       "      <td>21.823335</td>\n",
       "      <td>...</td>\n",
       "      <td>0.004199</td>\n",
       "      <td>0.003093</td>\n",
       "      <td>0.014879</td>\n",
       "      <td>0.264328</td>\n",
       "      <td>0.760691</td>\n",
       "      <td>3.019532</td>\n",
       "      <td>1</td>\n",
       "      <td>1</td>\n",
       "      <td>1</td>\n",
       "      <td>1</td>\n",
       "    </tr>\n",
       "    <tr>\n",
       "      <th>39</th>\n",
       "      <td>4.532329</td>\n",
       "      <td>-1.060811</td>\n",
       "      <td>2.501133</td>\n",
       "      <td>-3.625128</td>\n",
       "      <td>11.348225</td>\n",
       "      <td>-2.284085</td>\n",
       "      <td>-6.326895</td>\n",
       "      <td>-9.138714</td>\n",
       "      <td>102.977036</td>\n",
       "      <td>-25.022726</td>\n",
       "      <td>...</td>\n",
       "      <td>0.009565</td>\n",
       "      <td>-0.000590</td>\n",
       "      <td>-0.001876</td>\n",
       "      <td>0.915685</td>\n",
       "      <td>0.772376</td>\n",
       "      <td>2.650678</td>\n",
       "      <td>1</td>\n",
       "      <td>1</td>\n",
       "      <td>1</td>\n",
       "      <td>1</td>\n",
       "    </tr>\n",
       "    <tr>\n",
       "      <th>55</th>\n",
       "      <td>77.929050</td>\n",
       "      <td>28.100279</td>\n",
       "      <td>42.522791</td>\n",
       "      <td>58.950012</td>\n",
       "      <td>72.891011</td>\n",
       "      <td>8.689332</td>\n",
       "      <td>15.745896</td>\n",
       "      <td>70.637400</td>\n",
       "      <td>68.260095</td>\n",
       "      <td>25.125369</td>\n",
       "      <td>...</td>\n",
       "      <td>-0.020295</td>\n",
       "      <td>0.027176</td>\n",
       "      <td>-0.004810</td>\n",
       "      <td>-0.066140</td>\n",
       "      <td>0.534360</td>\n",
       "      <td>3.057700</td>\n",
       "      <td>1</td>\n",
       "      <td>1</td>\n",
       "      <td>1</td>\n",
       "      <td>1</td>\n",
       "    </tr>\n",
       "  </tbody>\n",
       "</table>\n",
       "<p>5 rows × 29 columns</p>\n",
       "</div>"
      ],
      "text/plain": [
       "          pi_E_1    pi_px_1    pi_py_1    pi_pz_1     pi_E_2    pi_px_2  \\\n",
       "entry                                                                     \n",
       "4      26.184192   5.249920 -12.394966 -22.458754  52.305565 -10.016787   \n",
       "15      3.912128   3.186334   0.086207  -2.263873  32.211659   7.872188   \n",
       "26     20.389432  12.846308  15.714182   1.935544   5.313678  -4.517069   \n",
       "39      4.532329  -1.060811   2.501133  -3.625128  11.348225  -2.284085   \n",
       "55     77.929050  28.100279  42.522791  58.950012  72.891011   8.689332   \n",
       "\n",
       "         pi_py_2    pi_pz_2     pi0_E_1   pi0_px_1  ...    ip_x_2    ip_y_2  \\\n",
       "entry                                               ...                       \n",
       "4      40.401790 -31.673523   95.932667  20.387663  ... -0.000894  0.000668   \n",
       "15     29.660602   9.790244   64.282235  52.942869  ... -0.002586  0.001020   \n",
       "26     -2.251007   1.656731   35.041365  21.823335  ...  0.004199  0.003093   \n",
       "39     -6.326895  -9.138714  102.977036 -25.022726  ...  0.009565 -0.000590   \n",
       "55     15.745896  70.637400   68.260095  25.125369  ... -0.020295  0.027176   \n",
       "\n",
       "         ip_z_2     y_1_1     y_1_2  aco_angle_1  tau_decay_mode_1  \\\n",
       "entry                                                                \n",
       "4      0.000903  0.571162 -0.773942     5.927902                 1   \n",
       "15    -0.000611  0.885265 -0.339467     5.015406                 1   \n",
       "26     0.014879  0.264328  0.760691     3.019532                 1   \n",
       "39    -0.001876  0.915685  0.772376     2.650678                 1   \n",
       "55    -0.004810 -0.066140  0.534360     3.057700                 1   \n",
       "\n",
       "       tau_decay_mode_2  mva_dm_1  mva_dm_2  \n",
       "entry                                        \n",
       "4                     1         1         1  \n",
       "15                    1         1         1  \n",
       "26                    1         1         1  \n",
       "39                    1         1         1  \n",
       "55                    1         1         1  \n",
       "\n",
       "[5 rows x 29 columns]"
      ]
     },
     "execution_count": 6,
     "metadata": {},
     "output_type": "execute_result"
    }
   ],
   "source": [
    "df.head()"
   ]
  },
  {
   "cell_type": "markdown",
   "metadata": {},
   "source": [
    "Before any traning, let's try and reconstruct aco_angle_1 from the low level variable. \n",
    "$\\mathbf{\\lambda}^{\\pm}=(0,\\mathbf{j}^\\pm)$ where $\\mathbf{j}^\\pm$ is the impact parameter vector defined as the vector btw the primary vertex (PV) and the point of closest approach (PCA).\n",
    "\n",
    "Then we need to boost $\\mathbf{\\lambda}^{\\pm}$ into the zero momentum frame (ZMF) thus giving $\\mathbf{\\lambda}^{*\\pm}$. I will need to code a function to boost any four vector into the pion's ZMF. \n",
    "\n",
    "We will also need $\\mathbf{q}^{*\\pm}$ are the four-vector for charged pions, boosted in the ZMF. \n",
    "\n",
    "After that we will calculate $\\mathbf{\\lambda}^{*\\pm}_{\\perp}$ the transverse component of $\\mathbf{\\lambda}^{*\\pm}$ w.r.t. $\\mathbf{q}^{*\\pm}$. \n",
    "\n",
    "Finally, the acoplanary angle $\\phi_{CP}$ is definied by \n",
    "\n",
    "$\\phi_{\\mathrm{CP}}=\\left\\{\\begin{array}{ll} \\phi^{*} &  \\text { if } O^{*} \\geq 0 \\\\  360^{\\circ}-\\phi^{*} & \\text { if } O^{*}<0 \\end{array}\\right\\}$\n",
    "\n",
    "with $O^{*}=\\hat{q}^{*-} \\cdot\\left(\\hat{\\lambda}_{\\perp}^{*+} \\times \\hat{\\lambda}_{\\perp}^{*-}\\right)$.\n",
    "\n",
    "\n",
    "Start with $\\mathbf{j}^\\pm$, check what we have in terms of available informations."
   ]
  },
  {
   "cell_type": "code",
   "execution_count": 21,
   "metadata": {},
   "outputs": [],
   "source": [
    "# Create our 4-vectors in the lab frame\n",
    "pi_1 = Momentum4(df[\"pi_E_1\"], df[\"pi_px_1\"], df[\"pi_py_1\"], df[\"pi_pz_1\"])\n",
    "pi_2 = Momentum4(df[\"pi_E_2\"], df[\"pi_px_2\"], df[\"pi_py_2\"], df[\"pi_pz_2\"])\n",
    "\n",
    "#IP1 = Position4(np.zeros(len(df)), df[\"ip_x_1\"], df[\"ip_y_1\"], df[\"ip_z_1\"])\n",
    "#IP2 = Position4(np.zeros(len(df)), df[\"ip_x_2\"], df[\"ip_y_2\"], df[\"ip_z_2\"])\n",
    "\n",
    "#TODO: maybe remove these and uncomment above:\n",
    "IP1 = Momentum4(df[\"pi0_E_1\"], df[\"pi0_px_1\"], df[\"pi0_py_1\"], df[\"pi0_pz_1\"])\n",
    "IP2 = Momentum4(df[\"pi0_E_2\"], df[\"pi0_px_2\"], df[\"pi0_py_2\"], df[\"pi0_pz_2\"])"
   ]
  },
  {
   "cell_type": "code",
   "execution_count": 22,
   "metadata": {},
   "outputs": [],
   "source": [
    "# Create 4-vectors in the ZMF\n",
    "pi_T4M = pi_1 + pi_2\n",
    "\n",
    "pi1_ZMF = pi_1.boost_particle(-pi_T4M)\n",
    "pi2_ZMF = pi_2.boost_particle(-pi_T4M)\n",
    "\n",
    "IP1_ZMF = IP1.boost_particle(-pi_T4M)\n",
    "IP2_ZMF = IP2.boost_particle(-pi_T4M)"
   ]
  },
  {
   "cell_type": "code",
   "execution_count": 23,
   "metadata": {},
   "outputs": [
    {
     "data": {
      "text/plain": [
       "array([-2.45013505e+01,  1.77635684e-15,  7.99360578e-15,  3.90798505e-14])"
      ]
     },
     "execution_count": 23,
     "metadata": {},
     "output_type": "execute_result"
    }
   ],
   "source": [
    "# Check we boosted correctly (spatial components should be 0)\n",
    "P_Total = (pi1_ZMF+pi2_ZMF)\n",
    "P_Total[:,23]"
   ]
  },
  {
   "cell_type": "code",
   "execution_count": 24,
   "metadata": {},
   "outputs": [],
   "source": [
    "# Find the transverse components\n",
    "IP1_trans = np.cross(IP1_ZMF[1:,:].transpose(), pi1_ZMF[1:, :].transpose())\n",
    "IP2_trans = np.cross(IP2_ZMF[1:,:].transpose(), pi2_ZMF[1:, :].transpose())\n",
    "\n",
    "# Normalise the vectors\n",
    "IP1_trans = IP1_trans/np.linalg.norm(IP1_trans, ord=2, axis=1, keepdims=True)\n",
    "IP2_trans = IP2_trans/np.linalg.norm(IP2_trans, ord=2, axis=1, keepdims=True)"
   ]
  },
  {
   "cell_type": "code",
   "execution_count": 25,
   "metadata": {},
   "outputs": [],
   "source": [
    "dot = np.sum(IP1_trans*IP2_trans, axis=1)\n",
    "Phi_ZMF = np.arccos(dot)"
   ]
  },
  {
   "cell_type": "code",
   "execution_count": 26,
   "metadata": {},
   "outputs": [],
   "source": [
    "# Calculate O\n",
    "x = np.cross(IP1_trans, IP2_trans).transpose()*np.array(pi2_ZMF[1:, :])\n",
    "big_O = np.sum(x, axis=0)\n",
    "\n",
    "# Shift Phi based on O's sign\n",
    "Phi_CP = np.where(big_O<0, 2*np.pi - Phi_ZMF, Phi_ZMF)"
   ]
  },
  {
   "cell_type": "code",
   "execution_count": 27,
   "metadata": {},
   "outputs": [],
   "source": [
    "# Shift phi based on energy ratios\n",
    "y_T = df['y_1_1']*df['y_1_2']\n",
    "Phi_CP = np.where(y_T<0, 2*np.pi - Phi_CP, Phi_CP)"
   ]
  },
  {
   "cell_type": "code",
   "execution_count": 33,
   "metadata": {},
   "outputs": [
    {
     "data": {
      "image/png": "[encoded data removed]",
      "text/plain": [
       "<Figure size 432x288 with 1 Axes>"
      ]
     },
     "metadata": {
      "needs_background": "light"
     },
     "output_type": "display_data"
    }
   ],
   "source": [
    "#Plot the histogram\n",
    "aco_angle_1 = np.array(df['aco_angle_1'])\n",
    "\n",
    "plt.figure()\n",
    "plt.title(\"Rho decay acoplanarity angles\")\n",
    "plt.hist(Phi_CP, label=\"My Calculation\", alpha=0.625, bins=50)\n",
    "plt.hist(aco_angle_1, label=\"From .root\", alpha=0.625, bins=50)\n",
    "plt.xlabel(r\"$\\phi_{CP}$\")\n",
    "plt.ylabel(\"Frequency\")\n",
    "plt.grid()\n",
    "plt.legend()\n",
    "plt.savefig(\"KingsleyTask1.png\")\n",
    "plt.show()\n",
    "plt.close()"
   ]
  },
  {
   "cell_type": "code",
   "execution_count": 49,
   "metadata": {},
   "outputs": [
    {
     "name": "stdout",
     "output_type": "stream",
     "text": [
      "5.9279 \t 5.9279\n",
      "5.0154 \t 5.0154\n",
      "0.1221 \t 3.0195\n",
      "0.4909 \t 2.6507\n",
      "3.0577 \t 3.0577\n",
      "4.0362 \t 5.3886\n",
      "4.3666 \t 5.0581\n",
      "3.4759 \t 3.4759\n",
      "3.7483 \t 5.6765\n",
      "4.7794 \t 4.6454\n"
     ]
    }
   ],
   "source": [
    "#print the first few results vs given angles\n",
    "for i in range(10):\n",
    "    print(\"{:.4f} \\t {:.4f}\".format(Phi_CP[i], aco_angle_1[i]))"
   ]
  },
  {
   "cell_type": "code",
   "execution_count": 53,
   "metadata": {},
   "outputs": [
    {
     "data": {
      "text/plain": [
       "array([ 1.68753900e-14,  1.15463195e-14, -2.89747202e+00, -2.15976258e+00,\n",
       "        1.88737914e-13, -1.35242812e+00, -6.91484309e-01, -5.77315973e-15,\n",
       "       -1.92823855e+00,  1.34072471e-01])"
      ]
     },
     "execution_count": 53,
     "metadata": {},
     "output_type": "execute_result"
    }
   ],
   "source": [
    "(Phi_CP - aco_angle_1)[:10]"
   ]
  },
  {
   "cell_type": "code",
   "execution_count": 55,
   "metadata": {},
   "outputs": [
    {
     "name": "stdout",
     "output_type": "stream",
     "text": [
      "Incorrect 48.82% of the time\n"
     ]
    }
   ],
   "source": [
    "residuals = (Phi_CP - aco_angle_1)\n",
    "print(\"Incorrect {:.2f}% of the time\".format(100*np.count_nonzero(np.round(residuals, 4))/len(residuals)))"
   ]
  },
  {
   "cell_type": "code",
   "execution_count": 56,
   "metadata": {},
   "outputs": [
    {
     "name": "stdout",
     "output_type": "stream",
     "text": [
      "0.0000\n",
      "0.0000\n",
      "-2.8975\n",
      "-2.1598\n",
      "0.0000\n",
      "-1.3524\n",
      "-0.6915\n",
      "-0.0000\n",
      "-1.9282\n",
      "0.1341\n"
     ]
    }
   ],
   "source": [
    "#print first few residuals\n",
    "for i in range(10):\n",
    "    print(\"{:.4f}\".format(residuals[i]))"
   ]
  }
 ],
 "metadata": {
  "kernelspec": {
   "display_name": "Python 3",
   "language": "python",
   "name": "python3"
  },
  "language_info": {
   "codemirror_mode": {
    "name": "ipython",
    "version": 3
   },
   "file_extension": ".py",
   "mimetype": "text/x-python",
   "name": "python",
   "nbconvert_exporter": "python",
   "pygments_lexer": "ipython3",
   "version": "3.7.6"
  }
 },
 "nbformat": 4,
 "nbformat_minor": 4
}
