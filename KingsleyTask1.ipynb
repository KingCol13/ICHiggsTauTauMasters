{
 "cells": [
  {
   "cell_type": "code",
   "execution_count": 1,
   "metadata": {},
   "outputs": [
    {
     "name": "stdout",
     "output_type": "stream",
     "text": [
      "Requirement already satisfied: uproot in /cvmfs/sft.cern.ch/lcg/views/LCG_97apython3/x86_64-centos7-gcc8-opt/lib/python3.7/site-packages (3.10.12)\n",
      "Requirement already satisfied: numpy>=1.13.1 in /cvmfs/sft.cern.ch/lcg/views/LCG_97apython3/x86_64-centos7-gcc8-opt/lib/python3.7/site-packages (from uproot) (1.16.4)\n",
      "Requirement already satisfied: awkward<1.0,>=0.12.0 in /cvmfs/sft.cern.ch/lcg/views/LCG_97apython3/x86_64-centos7-gcc8-opt/lib/python3.7/site-packages (from uproot) (0.12.17)\n",
      "Requirement already satisfied: uproot-methods>=0.7.0 in /cvmfs/sft.cern.ch/lcg/views/LCG_97apython3/x86_64-centos7-gcc8-opt/lib/python3.7/site-packages (from uproot) (0.7.1)\n",
      "Requirement already satisfied: cachetools in /cvmfs/sft.cern.ch/lcg/views/LCG_97apython3/x86_64-centos7-gcc8-opt/lib/python3.7/site-packages (from uproot) (3.1.1)\n",
      "Requirement already satisfied: pylorentz in /eos/home-k/kcollie/.local/lib/python3.7/site-packages (0.3.3)\n",
      "Requirement already satisfied: numpy in /cvmfs/sft.cern.ch/lcg/views/LCG_97apython3/x86_64-centos7-gcc8-opt/lib/python3.7/site-packages (from pylorentz) (1.16.4)\n"
     ]
    }
   ],
   "source": [
    "!pip install --user uproot\n",
    "!pip install --user pylorentz"
   ]
  },
  {
   "cell_type": "code",
   "execution_count": 2,
   "metadata": {},
   "outputs": [],
   "source": [
    "import sys\n",
    "sys.path.append(\"/eos/home-m/kcollie/.local/lib/python2.7/site-packages\")"
   ]
  },
  {
   "cell_type": "code",
   "execution_count": 3,
   "metadata": {},
   "outputs": [],
   "source": [
    "import uproot \n",
    "import numpy as np\n",
    "import pandas as pd\n",
    "from sklearn.model_selection import train_test_split\n",
    "from sklearn.metrics import classification_report, roc_curve, roc_auc_score\n",
    "import xgboost as xgb\n",
    "import matplotlib as mpl\n",
    "mpl.use('Agg')\n",
    "import matplotlib.pyplot as plt\n",
    "\n",
    "from pylorentz import Momentum4\n",
    "from pylorentz import Position4"
   ]
  },
  {
   "cell_type": "code",
   "execution_count": 4,
   "metadata": {},
   "outputs": [],
   "source": [
    "# loading the tree\n",
    "tree = uproot.open(\"/eos/user/d/dwinterb/SWAN_projects/Masters_CP/MVAFILE_GluGluHToTauTauUncorrelatedDecay_Filtered_tt_2018.root\")[\"ntuple\"]\n",
    "tree2 = uproot.open(\"/eos/user/d/dwinterb/SWAN_projects/Masters_CP/MVAFILE_VBFHToTauTauUncorrelatedDecay_Filtered_tt_2018.root\")[\"ntuple\"]\n",
    "\n",
    "\n",
    "#These are new trees, added by Danny on 13/10\n",
    "tree3=uproot.open(\"/eos/user/d/dwinterb/SWAN_projects/Masters_CP/MVAFILE_AllHiggs_tt.root\")[\"ntuple\"]  \n",
    "#note, instead of the first t we can have e,m, different decay modes"
   ]
  },
  {
   "cell_type": "code",
   "execution_count": 5,
   "metadata": {},
   "outputs": [],
   "source": [
    "# define what variables are to be read into the dataframe\n",
    "\n",
    "variables = [ \"pi_E_1\", \"pi_px_1\", \"pi_py_1\", \"pi_pz_1\", #leading charged pi 4-momentum\n",
    "              \"pi_E_2\", \"pi_px_2\", \"pi_py_2\", \"pi_pz_2\", #subleading charged pi 4-momentum\n",
    "              \"ip_x_1\", \"ip_y_1\", \"ip_z_1\",        #leading impact parameter\n",
    "              \"ip_x_2\", \"ip_y_2\", \"ip_z_2\",        #subleading impact parameter\n",
    "                \"aco_angle_1\"  #acoplanarity angle\n",
    "             ]\n",
    "\n",
    "df = tree.pandas.df(variables)\n",
    "\n",
    "df2 = tree2.pandas.df(variables)\n",
    "\n",
    "#tree3 should be more comprehensive and complete as it includes all decay types and more\n",
    "#info for tau->a1 decays. Again we save the same variables for now\n",
    "\n",
    "#df3 = tree3.pandas.df(variables)\n",
    "\n",
    "#combine VBF and ggH events\n",
    "\n",
    "df = pd.concat([df,df2], ignore_index=True)"
   ]
  },
  {
   "cell_type": "code",
   "execution_count": 6,
   "metadata": {},
   "outputs": [
    {
     "data": {
      "text/html": [
       "<div>\n",
       "<style scoped>\n",
       "    .dataframe tbody tr th:only-of-type {\n",
       "        vertical-align: middle;\n",
       "    }\n",
       "\n",
       "    .dataframe tbody tr th {\n",
       "        vertical-align: top;\n",
       "    }\n",
       "\n",
       "    .dataframe thead th {\n",
       "        text-align: right;\n",
       "    }\n",
       "</style>\n",
       "<table border=\"1\" class=\"dataframe\">\n",
       "  <thead>\n",
       "    <tr style=\"text-align: right;\">\n",
       "      <th></th>\n",
       "      <th>pi_E_1</th>\n",
       "      <th>pi_px_1</th>\n",
       "      <th>pi_py_1</th>\n",
       "      <th>pi_pz_1</th>\n",
       "      <th>pi_E_2</th>\n",
       "      <th>pi_px_2</th>\n",
       "      <th>pi_py_2</th>\n",
       "      <th>pi_pz_2</th>\n",
       "      <th>ip_x_1</th>\n",
       "      <th>ip_y_1</th>\n",
       "      <th>ip_z_1</th>\n",
       "      <th>ip_x_2</th>\n",
       "      <th>ip_y_2</th>\n",
       "      <th>ip_z_2</th>\n",
       "      <th>aco_angle_1</th>\n",
       "    </tr>\n",
       "  </thead>\n",
       "  <tbody>\n",
       "    <tr>\n",
       "      <th>0</th>\n",
       "      <td>19.151596</td>\n",
       "      <td>-18.843747</td>\n",
       "      <td>0.010897</td>\n",
       "      <td>-3.417199</td>\n",
       "      <td>39.612088</td>\n",
       "      <td>29.067104</td>\n",
       "      <td>9.341342</td>\n",
       "      <td>-25.237687</td>\n",
       "      <td>0.000139</td>\n",
       "      <td>0.001105</td>\n",
       "      <td>-0.000345</td>\n",
       "      <td>-0.002283</td>\n",
       "      <td>-0.000268</td>\n",
       "      <td>-0.002748</td>\n",
       "      <td>2.034394</td>\n",
       "    </tr>\n",
       "    <tr>\n",
       "      <th>1</th>\n",
       "      <td>20.922342</td>\n",
       "      <td>-15.508304</td>\n",
       "      <td>11.613920</td>\n",
       "      <td>-7.895206</td>\n",
       "      <td>52.454829</td>\n",
       "      <td>39.534872</td>\n",
       "      <td>-12.412102</td>\n",
       "      <td>32.162451</td>\n",
       "      <td>0.002617</td>\n",
       "      <td>0.005864</td>\n",
       "      <td>0.003067</td>\n",
       "      <td>-0.000048</td>\n",
       "      <td>0.001023</td>\n",
       "      <td>0.000445</td>\n",
       "      <td>-9999.000000</td>\n",
       "    </tr>\n",
       "    <tr>\n",
       "      <th>2</th>\n",
       "      <td>127.514681</td>\n",
       "      <td>48.772534</td>\n",
       "      <td>12.352636</td>\n",
       "      <td>-117.169222</td>\n",
       "      <td>77.694478</td>\n",
       "      <td>2.682707</td>\n",
       "      <td>-26.568025</td>\n",
       "      <td>-72.961329</td>\n",
       "      <td>-0.000344</td>\n",
       "      <td>0.003279</td>\n",
       "      <td>0.000161</td>\n",
       "      <td>0.008703</td>\n",
       "      <td>0.016028</td>\n",
       "      <td>-0.005061</td>\n",
       "      <td>0.972370</td>\n",
       "    </tr>\n",
       "    <tr>\n",
       "      <th>3</th>\n",
       "      <td>76.979162</td>\n",
       "      <td>-49.683652</td>\n",
       "      <td>22.702982</td>\n",
       "      <td>54.239112</td>\n",
       "      <td>22.436639</td>\n",
       "      <td>17.712197</td>\n",
       "      <td>10.352244</td>\n",
       "      <td>9.082533</td>\n",
       "      <td>-0.003306</td>\n",
       "      <td>0.004030</td>\n",
       "      <td>-0.004681</td>\n",
       "      <td>0.002226</td>\n",
       "      <td>-0.001925</td>\n",
       "      <td>-0.001807</td>\n",
       "      <td>-9999.000000</td>\n",
       "    </tr>\n",
       "    <tr>\n",
       "      <th>4</th>\n",
       "      <td>26.184192</td>\n",
       "      <td>5.249920</td>\n",
       "      <td>-12.394966</td>\n",
       "      <td>-22.458754</td>\n",
       "      <td>52.305565</td>\n",
       "      <td>-10.016787</td>\n",
       "      <td>40.401790</td>\n",
       "      <td>-31.673523</td>\n",
       "      <td>-0.000045</td>\n",
       "      <td>0.000480</td>\n",
       "      <td>-0.000170</td>\n",
       "      <td>-0.000894</td>\n",
       "      <td>0.000668</td>\n",
       "      <td>0.000903</td>\n",
       "      <td>5.927902</td>\n",
       "    </tr>\n",
       "  </tbody>\n",
       "</table>\n",
       "</div>"
      ],
      "text/plain": [
       "       pi_E_1    pi_px_1    pi_py_1     pi_pz_1     pi_E_2    pi_px_2  \\\n",
       "0   19.151596 -18.843747   0.010897   -3.417199  39.612088  29.067104   \n",
       "1   20.922342 -15.508304  11.613920   -7.895206  52.454829  39.534872   \n",
       "2  127.514681  48.772534  12.352636 -117.169222  77.694478   2.682707   \n",
       "3   76.979162 -49.683652  22.702982   54.239112  22.436639  17.712197   \n",
       "4   26.184192   5.249920 -12.394966  -22.458754  52.305565 -10.016787   \n",
       "\n",
       "     pi_py_2    pi_pz_2    ip_x_1    ip_y_1    ip_z_1    ip_x_2    ip_y_2  \\\n",
       "0   9.341342 -25.237687  0.000139  0.001105 -0.000345 -0.002283 -0.000268   \n",
       "1 -12.412102  32.162451  0.002617  0.005864  0.003067 -0.000048  0.001023   \n",
       "2 -26.568025 -72.961329 -0.000344  0.003279  0.000161  0.008703  0.016028   \n",
       "3  10.352244   9.082533 -0.003306  0.004030 -0.004681  0.002226 -0.001925   \n",
       "4  40.401790 -31.673523 -0.000045  0.000480 -0.000170 -0.000894  0.000668   \n",
       "\n",
       "     ip_z_2  aco_angle_1  \n",
       "0 -0.002748     2.034394  \n",
       "1  0.000445 -9999.000000  \n",
       "2 -0.005061     0.972370  \n",
       "3 -0.001807 -9999.000000  \n",
       "4  0.000903     5.927902  "
      ]
     },
     "execution_count": 6,
     "metadata": {},
     "output_type": "execute_result"
    }
   ],
   "source": [
    "df.head()"
   ]
  },
  {
   "cell_type": "markdown",
   "metadata": {},
   "source": [
    "Before any traning, let's try and reconstruct aco_angle_1 from the low level variable. \n",
    "$\\mathbf{\\lambda}^{\\pm}=(0,\\mathbf{j}^\\pm)$ where $\\mathbf{j}^\\pm$ is the impact parameter vector defined as the vector btw the primary vertex (PV) and the point of closest approach (PCA).\n",
    "\n",
    "Then we need to boost $\\mathbf{\\lambda}^{\\pm}$ into the zero momentum frame (ZMF) thus giving $\\mathbf{\\lambda}^{*\\pm}$. I will need to code a function to boost any four vector into the pion's ZMF. \n",
    "\n",
    "We will also need $\\mathbf{q}^{*\\pm}$ are the four-vector for charged pions, boosted in the ZMF. \n",
    "\n",
    "After that we will calculate $\\mathbf{\\lambda}^{*\\pm}_{\\perp}$ the transverse component of $\\mathbf{\\lambda}^{*\\pm}$ w.r.t. $\\mathbf{q}^{*\\pm}$. \n",
    "\n",
    "Finally, the acoplanary angle $\\phi_{CP}$ is definied by \n",
    "\n",
    "$\\phi_{\\mathrm{CP}}=\\left\\{\\begin{array}{ll} \\phi^{*} &  \\text { if } O^{*} \\geq 0 \\\\  360^{\\circ}-\\phi^{*} & \\text { if } O^{*}<0 \\end{array}\\right\\}$\n",
    "\n",
    "with $O^{*}=\\hat{q}^{*-} \\cdot\\left(\\hat{\\lambda}_{\\perp}^{*+} \\times \\hat{\\lambda}_{\\perp}^{*-}\\right)$.\n",
    "\n",
    "\n",
    "Start with $\\mathbf{j}^\\pm$, check what we have in terms of available informations."
   ]
  },
  {
   "cell_type": "code",
   "execution_count": 7,
   "metadata": {},
   "outputs": [],
   "source": [
    "# Create our 4-vectors in the lab frame\n",
    "pi_1 = Momentum4(df[\"pi_E_1\"], df[\"pi_px_1\"], df[\"pi_py_1\"], df[\"pi_pz_1\"])\n",
    "pi_2 = Momentum4(df[\"pi_E_2\"], df[\"pi_px_2\"], df[\"pi_py_2\"], df[\"pi_pz_2\"])\n",
    "\n",
    "IP1 = Position4(np.zeros(len(df)), df[\"ip_x_1\"], df[\"ip_y_1\"], df[\"ip_z_1\"])\n",
    "IP2 = Position4(np.zeros(len(df)), df[\"ip_x_2\"], df[\"ip_y_2\"], df[\"ip_z_2\"])"
   ]
  },
  {
   "cell_type": "code",
   "execution_count": 8,
   "metadata": {},
   "outputs": [],
   "source": [
    "# Create 4-vectors in the ZMF\n",
    "pi_T4M = pi_1 + pi_2\n",
    "\n",
    "pi1_ZMF = pi_1.boost_particle(-pi_T4M)\n",
    "pi2_ZMF = pi_2.boost_particle(-pi_T4M)\n",
    "\n",
    "IP1_ZMF = IP1.boost_particle(-pi_T4M)\n",
    "IP2_ZMF = IP2.boost_particle(-pi_T4M)"
   ]
  },
  {
   "cell_type": "code",
   "execution_count": 12,
   "metadata": {},
   "outputs": [
    {
     "data": {
      "text/plain": [
       "array([-6.49414888e+01, -3.55271368e-15,  0.00000000e+00,  3.55271368e-15])"
      ]
     },
     "execution_count": 12,
     "metadata": {},
     "output_type": "execute_result"
    }
   ],
   "source": [
    "# Check we boosted correctly (spatial components should be 0)\n",
    "P_Total = (pi1_ZMF+pi2_ZMF)\n",
    "P_Total[:,1]"
   ]
  },
  {
   "cell_type": "code",
   "execution_count": 13,
   "metadata": {},
   "outputs": [],
   "source": [
    "# Find the transverse components\n",
    "IP1_trans = np.cross(IP1_ZMF[1:,:].transpose(), pi1_ZMF[1:, :].transpose())\n",
    "IP2_trans = np.cross(IP2_ZMF[1:,:].transpose(), pi2_ZMF[1:, :].transpose())\n",
    "\n",
    "# Normalise the vectors\n",
    "IP1_trans = IP1_trans/np.linalg.norm(IP1_trans, ord=2, axis=1, keepdims=True)\n",
    "IP2_trans = IP2_trans/np.linalg.norm(IP2_trans, ord=2, axis=1, keepdims=True)"
   ]
  },
  {
   "cell_type": "code",
   "execution_count": 14,
   "metadata": {},
   "outputs": [],
   "source": [
    "dot = IP1_trans[:,0]*IP2_trans[:,0]+IP1_trans[:,1]*IP2_trans[:,1]+IP1_trans[:,2]*IP2_trans[:,2]\n",
    "Phi_ZMF = np.arccos(dot)"
   ]
  },
  {
   "cell_type": "code",
   "execution_count": 40,
   "metadata": {},
   "outputs": [
    {
     "name": "stderr",
     "output_type": "stream",
     "text": [
      "/usr/local/bin/start_ipykernel.py:6: RuntimeWarning: invalid value encountered in less\n",
      "  app.launch_new_instance()\n"
     ]
    }
   ],
   "source": [
    "# Calculate O\n",
    "x = np.cross(IP1_trans, IP2_trans).transpose()*np.array(pi1_ZMF[1:, :])\n",
    "big_O = np.linalg.norm(x, ord=1, axis=0)\n",
    "\n",
    "# Transform Phi based on O's sign\n",
    "Phi_CP = np.where(big_O<0, 2*np.pi - Phi_ZMF, Phi_ZMF)"
   ]
  },
  {
   "cell_type": "code",
   "execution_count": 41,
   "metadata": {},
   "outputs": [
    {
     "name": "stderr",
     "output_type": "stream",
     "text": [
      "/cvmfs/sft.cern.ch/lcg/views/LCG_97apython3/x86_64-centos7-gcc8-opt/lib/python3.7/site-packages/numpy/lib/histograms.py:824: RuntimeWarning: invalid value encountered in greater_equal\n",
      "  keep = (tmp_a >= first_edge)\n",
      "/cvmfs/sft.cern.ch/lcg/views/LCG_97apython3/x86_64-centos7-gcc8-opt/lib/python3.7/site-packages/numpy/lib/histograms.py:825: RuntimeWarning: invalid value encountered in less_equal\n",
      "  keep &= (tmp_a <= last_edge)\n"
     ]
    }
   ],
   "source": [
    "plt.figure()\n",
    "plt.hist(Phi_ZMF)\n",
    "plt.savefig(\"KingsleyTask1.png\")"
   ]
  },
  {
   "cell_type": "code",
   "execution_count": 42,
   "metadata": {},
   "outputs": [],
   "source": [
    "aco_angle_1 = df['aco_angle_1']\n",
    "aco_angle_1 = aco_angle_1[aco_angle_1 > 0]"
   ]
  },
  {
   "cell_type": "code",
   "execution_count": 43,
   "metadata": {},
   "outputs": [],
   "source": [
    "plt.figure()\n",
    "plt.hist(aco_angle_1)\n",
    "plt.savefig(\"KingsleyTask1Correct.png\")"
   ]
  }
 ],
 "metadata": {
  "kernelspec": {
   "display_name": "Python 3",
   "language": "python",
   "name": "python3"
  },
  "language_info": {
   "codemirror_mode": {
    "name": "ipython",
    "version": 3
   },
   "file_extension": ".py",
   "mimetype": "text/x-python",
   "name": "python",
   "nbconvert_exporter": "python",
   "pygments_lexer": "ipython3",
   "version": "3.7.6"
  }
 },
 "nbformat": 4,
 "nbformat_minor": 4
}
