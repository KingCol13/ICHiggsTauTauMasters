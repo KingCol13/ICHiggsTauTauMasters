{
 "cells": [
  {
   "cell_type": "markdown",
   "metadata": {},
   "source": [
    "## Task 1: Calculate the acoplanary angles"
   ]
  },
  {
   "cell_type": "markdown",
   "metadata": {},
   "source": [
    "Before any traning, let's try and reconstruct aco_angle_1 from the low level variable. \n",
    "$\\mathbf{\\lambda}^{\\pm}=(0,\\mathbf{j}^\\pm)$ where $\\mathbf{j}^\\pm$ is the impact parameter vector defined as the vector btw the primary vertex (PV) and the point of closest approach (PCA).\n",
    "\n",
    "Then we need to boost $\\mathbf{\\lambda}^{\\pm}$ into the zero momentum frame (ZMF) thus giving $\\mathbf{\\lambda}^{*\\pm}$. I will need to code a function to boost any four vector into the pion's ZMF. \n",
    "\n",
    "We will also need $\\mathbf{q}^{*\\pm}$ are the four-vector for charged pions, boosted in the ZMF. \n",
    "\n",
    "After that we will calculate $\\mathbf{\\lambda}^{*\\pm}_{\\perp}$ the transverse component of $\\mathbf{\\lambda}^{*\\pm}$ w.r.t. $\\mathbf{q}^{*\\pm}$. \n",
    "\n",
    "Finally, the acoplanary angle $\\phi_{CP}$ is definied by \n",
    "\n",
    "$\\phi_{\\mathrm{CP}}=\\left\\{\\begin{array}{ll} \\phi^{*} &  \\text { if } O^{*} \\geq 0 \\\\  360^{\\circ}-\\phi^{*} & \\text { if } O^{*}<0 \\end{array}\\right\\}$\n",
    "\n",
    "$\\phi^{*}=\\arccos \\left(\\hat{\\lambda}_{\\perp}^{*+} \\cdot \\hat{\\lambda}_{\\perp}^{*-}\\right)$\n",
    "\n",
    "with $O^{*}=\\hat{q}^{*-} \\cdot\\left(\\hat{\\lambda}_{\\perp}^{*+} \\times \\hat{\\lambda}_{\\perp}^{*-}\\right)$.\n",
    "\n",
    "\n",
    "Start with $\\mathbf{j}^\\pm$, check what we have in terms of available informations."
   ]
  },
  {
   "cell_type": "code",
   "execution_count": 1,
   "metadata": {},
   "outputs": [
    {
     "name": "stdout",
     "output_type": "stream",
     "text": [
      "Requirement already satisfied: uproot in /cvmfs/sft.cern.ch/lcg/views/LCG_97apython3/x86_64-centos7-gcc8-opt/lib/python3.7/site-packages (3.10.12)\r\n",
      "Requirement already satisfied: numpy>=1.13.1 in /cvmfs/sft.cern.ch/lcg/views/LCG_97apython3/x86_64-centos7-gcc8-opt/lib/python3.7/site-packages (from uproot) (1.16.4)\r\n",
      "Requirement already satisfied: awkward<1.0,>=0.12.0 in /cvmfs/sft.cern.ch/lcg/views/LCG_97apython3/x86_64-centos7-gcc8-opt/lib/python3.7/site-packages (from uproot) (0.12.17)\r\n",
      "Requirement already satisfied: uproot-methods>=0.7.0 in /cvmfs/sft.cern.ch/lcg/views/LCG_97apython3/x86_64-centos7-gcc8-opt/lib/python3.7/site-packages (from uproot) (0.7.1)\r\n",
      "Requirement already satisfied: cachetools in /cvmfs/sft.cern.ch/lcg/views/LCG_97apython3/x86_64-centos7-gcc8-opt/lib/python3.7/site-packages (from uproot) (3.1.1)\r\n"
     ]
    }
   ],
   "source": [
    "!pip install --user uproot\n",
    "import sys\n",
    "sys.path.append(\"/eos/home-m/acraplet/.local/lib/python2.7/site-packages\")"
   ]
  },
  {
   "cell_type": "code",
   "execution_count": 2,
   "metadata": {},
   "outputs": [],
   "source": [
    "import uproot \n",
    "import numpy as np\n",
    "import pandas as pd\n",
    "from sklearn.model_selection import train_test_split\n",
    "from sklearn.metrics import classification_report, roc_curve, roc_auc_score\n",
    "import xgboost as xgb\n",
    "import matplotlib as mpl\n",
    "#mpl.use('Agg')\n",
    "import matplotlib.pyplot as plt\n"
   ]
  },
  {
   "cell_type": "code",
   "execution_count": 3,
   "metadata": {},
   "outputs": [],
   "source": [
    "# loading the tree\n",
    "tree = uproot.open(\"/eos/user/d/dwinterb/SWAN_projects/Masters_CP/MVAFILE_GluGluHToTauTauUncorrelatedDecay_Filtered_tt_2018.root\")[\"ntuple\"]\n",
    "tree2 = uproot.open(\"/eos/user/d/dwinterb/SWAN_projects/Masters_CP/MVAFILE_VBFHToTauTauUncorrelatedDecay_Filtered_tt_2018.root\")[\"ntuple\"]\n",
    "\n",
    "\n",
    "#These are new trees, added by Danny on 13/10\n",
    "tree3=uproot.open(\"/eos/user/d/dwinterb/SWAN_projects/Masters_CP/MVAFILE_AllHiggs_tt.root\")[\"ntuple\"]  \n",
    "#note, instead of the first t we can have e,m, different decay modes"
   ]
  },
  {
   "cell_type": "code",
   "execution_count": 12,
   "metadata": {},
   "outputs": [],
   "source": [
    "# The impact parameter vector for the leading and sub-leading are given by ip_{x,y,z}_{1,2}\n",
    "\n",
    "#ip_sig_{1,2} gives the significance of the impact paramter, will be usefull in future.\n",
    "\n",
    "#Now define a new panda dataframe, which I'll only use to get out the acoplanary angle\n",
    "#using low level variables (maybe we'll need to reconstruct the impact parameter vector \n",
    "#as well but I don't think that this is usefull just yet).\n",
    "\n",
    "variables4 = [\"ip_x_1\",\"ip_y_1\",\"ip_z_1\",\n",
    "              \"ip_x_2\",\"ip_y_2\",\"ip_z_2\",\n",
    "              \"aco_angle_1\", \n",
    "              \"pi_E_1\",\"pi_px_1\",\"pi_py_1\",\"pi_pz_1\",\n",
    "              \"pi_E_2\",\"pi_px_2\",\"pi_py_2\",\"pi_pz_2\",\n",
    "              \"tau_decay_mode_1\",\"tau_decay_mode_2\",\n",
    "              \"mva_dm_1\",\"mva_dm_2\",\n",
    "              \"pi0_E_1\",\"pi0_px_1\",\"pi0_py_1\",\"pi0_pz_1\",\n",
    "              \"pi0_E_2\",\"pi0_px_2\",\"pi0_py_2\",\"pi0_pz_2\",\n",
    "              \"y_1_1\",\"y_1_2\",\n",
    "              \"rand\",\"wt_cp_sm\", \"wt_cp_ps\", \"wt_cp_mm\"\n",
    "              \n",
    "             ]\n",
    "\n",
    "\n",
    "df4 = tree.pandas.df(variables4)\n",
    "\n",
    "df4 = df4[\n",
    "      (df4[\"tau_decay_mode_1\"] == 1) \n",
    "    & (df4[\"tau_decay_mode_2\"] == 1) \n",
    "    & (df4[\"mva_dm_1\"] == 1) \n",
    "    & (df4[\"mva_dm_2\"] == 1)\n",
    "]\n",
    "\n",
    "\n",
    "\n",
    "df_ps = df4[\n",
    "      (df4[\"rand\"]<df4[\"wt_cp_ps\"]/2)     #a data frame only including the pseudoscalars\n",
    "]\n",
    "\n",
    "df_sm = df4[\n",
    "      (df4[\"rand\"]<df4[\"wt_cp_sm\"]/2)     #data frame only including the scalars\n",
    "]\n",
    "\n",
    "\n",
    "#keep that ??    \n",
    "\n",
    "#note: maybe we'll have to apply some cuts, to not get the a1 for example whose \n",
    "# decays are more complicated\n"
   ]
  },
  {
   "cell_type": "code",
   "execution_count": 5,
   "metadata": {},
   "outputs": [
    {
     "name": "stdout",
     "output_type": "stream",
     "text": [
      "Requirement already satisfied: pylorentz in /eos/home-a/acraplet/.local/lib/python3.7/site-packages (0.3.3)\r\n",
      "Requirement already satisfied: numpy in /cvmfs/sft.cern.ch/lcg/views/LCG_97apython3/x86_64-centos7-gcc8-opt/lib/python3.7/site-packages (from pylorentz) (1.16.4)\r\n"
     ]
    }
   ],
   "source": [
    "#Let's try and use the pylorentz module for performing boosts\n",
    "# more info: https://gitlab.sauerburger.com/frank/pylorentz/-/blob/master/pylorentz/__init__.py\n",
    "\n",
    "!pip install --user pylorentz\n",
    "\n",
    "from pylorentz import Momentum4\n",
    "from pylorentz import Vector4\n",
    "from pylorentz import Position4"
   ]
  },
  {
   "cell_type": "code",
   "execution_count": 6,
   "metadata": {},
   "outputs": [],
   "source": [
    "#Some geometrical functions\n",
    "\n",
    "def cross_product(vector3_1,vector3_2):\n",
    "    if len(vector3_1)!=3 or len(vector3_1)!=3:\n",
    "        print('These are not 3D arrays !')\n",
    "    x_perp_vector=vector3_1[1]*vector3_2[2]-vector3_1[2]*vector3_2[1]\n",
    "    y_perp_vector=vector3_1[2]*vector3_2[0]-vector3_1[0]*vector3_2[2]\n",
    "    z_perp_vector=vector3_1[0]*vector3_2[1]-vector3_1[1]*vector3_2[0]\n",
    "    return np.array([x_perp_vector,y_perp_vector,z_perp_vector])\n",
    "\n",
    "def dot_product(vector1,vector2):\n",
    "    if len(vector1)!=len(vector2):\n",
    "        raise Arrays_of_different_size\n",
    "    prod=0\n",
    "    for i in range(len(vector1)):\n",
    "        prod=prod+vector1[i]*vector2[i]\n",
    "    return prod\n",
    "\n",
    "\n",
    "def norm(vector):\n",
    "    if len(vector)!=3:\n",
    "        print('This is only for a 3d vector')\n",
    "    return np.sqrt(vector[0]**2+vector[1]**2+vector[2]**2)"
   ]
  },
  {
   "cell_type": "code",
   "execution_count": 79,
   "metadata": {},
   "outputs": [],
   "source": [
    "#Look only the sm like model\n",
    "df4=df_sm\n",
    "\n",
    "#Charged and neutral pion momenta\n",
    "pi_1_4Mom=Momentum4(df4[\"pi_E_1\"],df4[\"pi_px_1\"],df4[\"pi_py_1\"],df4[\"pi_pz_1\"])\n",
    "pi_2_4Mom=Momentum4(df4[\"pi_E_2\"],df4[\"pi_px_2\"],df4[\"pi_py_2\"],df4[\"pi_pz_2\"])\n",
    "\n",
    "#Same for the pi0\n",
    "pi0_1_4Mom=Momentum4(df4[\"pi0_E_1\"],df4[\"pi0_px_1\"],df4[\"pi0_py_1\"],df4[\"pi0_pz_1\"])\n",
    "pi0_2_4Mom=Momentum4(df4[\"pi0_E_2\"],df4[\"pi0_px_2\"],df4[\"pi0_py_2\"],df4[\"pi0_pz_2\"])"
   ]
  },
  {
   "cell_type": "code",
   "execution_count": 80,
   "metadata": {},
   "outputs": [
    {
     "data": {
      "text/plain": [
       "array([-3.15513367e+01, -2.13162821e-14,  2.84217094e-14, -1.56319402e-13])"
      ]
     },
     "execution_count": 80,
     "metadata": {},
     "output_type": "execute_result"
    }
   ],
   "source": [
    "#This is the COM frame of the two charged pions w.r.t. which we'll boost\n",
    "ref_COM_4Mom=Momentum4(pi_1_4Mom+pi_2_4Mom)\n",
    "\n",
    "\n",
    "#Lorentz boost everything in the ZMF of the two charged pions\n",
    "pi0_1_4Mom_star=pi0_1_4Mom.boost_particle(-ref_COM_4Mom)\n",
    "pi0_2_4Mom_star=pi0_2_4Mom.boost_particle(-ref_COM_4Mom)\n",
    "\n",
    "#Lorentz boost everything in the ZMF of the two neutral pions\n",
    "pi_1_4Mom_star=pi_1_4Mom.boost_particle(-ref_COM_4Mom)\n",
    "pi_2_4Mom_star=pi_2_4Mom.boost_particle(-ref_COM_4Mom)\n",
    "\n",
    "\n",
    "#Up to here I agree with Kingsley\n",
    "(pi_1_4Mom_star+pi_2_4Mom_star)[:,23]"
   ]
  },
  {
   "cell_type": "code",
   "execution_count": 81,
   "metadata": {},
   "outputs": [
    {
     "name": "stdout",
     "output_type": "stream",
     "text": [
      "[ 0.93642937  0.32724768 -0.12652663]\n"
     ]
    }
   ],
   "source": [
    "#calculating the perpependicular component\n",
    "pi0_1_3Mom_star_perp=cross_product(pi0_1_4Mom_star[1:],pi_1_4Mom_star[1:])\n",
    "pi0_2_3Mom_star_perp=cross_product(pi0_2_4Mom_star[1:],pi_2_4Mom_star[1:])\n",
    "\n",
    "\n",
    "#Now normalise:\n",
    "pi0_1_3Mom_star_perp=pi0_1_3Mom_star_perp/norm(pi0_1_3Mom_star_perp)\n",
    "pi0_2_3Mom_star_perp=pi0_2_3Mom_star_perp/norm(pi0_2_3Mom_star_perp)\n",
    "\n",
    "#Up to here I agree with Kingsley\n",
    "print(pi0_1_3Mom_star_perp[:,23])\n"
   ]
  },
  {
   "cell_type": "code",
   "execution_count": 151,
   "metadata": {},
   "outputs": [
    {
     "name": "stdout",
     "output_type": "stream",
     "text": [
      "0.879998067863984\n",
      "[1.26777924 0.12206032 3.05769998 2.24701039 1.91653848 1.50376009\n",
      " 2.42143725 0.19904402 0.9806288  1.49810879] \n",
      "\n"
     ]
    }
   ],
   "source": [
    "#Calculating phi_star\n",
    "phi_CP=np.arccos(dot_product(pi0_1_3Mom_star_perp,pi0_2_3Mom_star_perp))\n",
    "\n",
    "#Up to here I agree with Kingsley\n",
    "print(phi_CP[23])\n",
    "\n",
    "#The energy ratios\n",
    "y_T = np.array(df4['y_1_1']*df4['y_1_2'])\n",
    "\n",
    "#Up to here I agree with Kingsley\n",
    "print(phi_CP[:10],'\\n')\n",
    "\n",
    "#The O variable\n",
    "cross=np.cross(pi0_1_3Mom_star_perp.transpose(),pi0_2_3Mom_star_perp.transpose()).transpose()\n",
    "bigO=dot_product(pi_2_4Mom_star[1:],cross)\n",
    "\n",
    "\n",
    "\n",
    "#perform the shift w.r.t. O* sign\n",
    "phi_CP=np.where(bigO<0, phi_CP, 2*np.pi-phi_CP)#, phi_CP)\n",
    "\n",
    "\n",
    "#additionnal shift that needs to be done do see differences between odd and even scenarios, with y=Energy ratios\n",
    "#phi_CP=np.where(y_T<0, 2*np.pi-phi_CP, np.pi-phi_CP)\n",
    "phi_CP=np.where(y_T<0, phi_CP, np.where(phi_CP<np.pi, phi_CP+np.pi, phi_CP-np.pi))\n",
    "\n",
    "\n",
    "\n"
   ]
  },
  {
   "cell_type": "code",
   "execution_count": 152,
   "metadata": {
    "scrolled": true
   },
   "outputs": [
    {
     "data": {
      "text/plain": [
       "<matplotlib.legend.Legend at 0x7fdc29f69c90>"
      ]
     },
     "execution_count": 152,
     "metadata": {},
     "output_type": "execute_result"
    },
    {
     "data": {
      "image/png": "[encoded data removed]",
      "text/plain": [
       "<Figure size 432x288 with 1 Axes>"
      ]
     },
     "metadata": {
      "needs_background": "light"
     },
     "output_type": "display_data"
    }
   ],
   "source": [
    "#now plot distribution\n",
    "plt.figure()\n",
    "plt.hist(phi_CP,bins=100, alpha=0.7,label='my_phi_CP')\n",
    "plt.hist(df4['aco_angle_1'],bins=100, alpha=0.7,label='Aco_angle_1')\n",
    "plt.title('$\\phi_{CP}$')\n",
    "plt.grid()\n",
    "plt.xlabel('$\\phi_{CP}$(rad)')\n",
    "plt.legend()\n",
    "#plt.savefig('phi_cp_hist.png')\n"
   ]
  },
  {
   "cell_type": "code",
   "execution_count": 153,
   "metadata": {},
   "outputs": [
    {
     "name": "stdout",
     "output_type": "stream",
     "text": [
      "Fraction of well reconstructed angle: 1.0\n"
     ]
    }
   ],
   "source": [
    "#Checking the fraction of rights\n",
    "difference=df4['aco_angle_1']-phi_CP\n",
    "\n",
    "k=np.where(difference<=10**(-10),1,0)\n",
    "print('Fraction of well reconstructed angle:',np.sum(k)/len(k))"
   ]
  },
  {
   "cell_type": "code",
   "execution_count": null,
   "metadata": {},
   "outputs": [],
   "source": []
  }
 ],
 "metadata": {
  "kernelspec": {
   "display_name": "Python 3",
   "language": "python",
   "name": "python3"
  },
  "language_info": {
   "codemirror_mode": {
    "name": "ipython",
    "version": 3
   },
   "file_extension": ".py",
   "mimetype": "text/x-python",
   "name": "python",
   "nbconvert_exporter": "python",
   "pygments_lexer": "ipython3",
   "version": "3.7.6"
  }
 },
 "nbformat": 4,
 "nbformat_minor": 4
}
